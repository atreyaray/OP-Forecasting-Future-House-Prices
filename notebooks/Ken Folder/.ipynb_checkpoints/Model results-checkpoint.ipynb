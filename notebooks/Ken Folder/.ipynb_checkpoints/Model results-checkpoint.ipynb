{
 "cells": [
  {
   "cell_type": "code",
   "execution_count": 1,
   "id": "94e31397",
   "metadata": {},
   "outputs": [
    {
     "data": {
      "text/plain": [
       "'show_results(plot_data, mae_list, rmse_list, mpe_list)\\nprint(len(rmse_list))'"
      ]
     },
     "execution_count": 1,
     "metadata": {},
     "output_type": "execute_result"
    }
   ],
   "source": [
    "import statistics\n",
    "\n",
    "def show_results(data, mae_values, rmse_values, mpe_values,postal_code=\"postal code\"):\n",
    "    avg_rmse = statistics.mean(rmse_values)\n",
    "    avg_mae = statistics.mean(mae_values)\n",
    "    avg_mpe = statistics.mean(mpe_values)\n",
    "    med_rmse = statistics.median(rmse_values)\n",
    "    med_mae = statistics.median(mae_values)\n",
    "    med_mpe = statistics.median(mpe_values)\n",
    "    fig = data.plot.bar(x=postal_code, subplots=True, figsize=(200,100))\n",
    "    plt.rcParams.update({'font.size': 22})\n",
    "    print('Average MAE: %.3f' % avg_mae)\n",
    "    #print('Average RMSE: %.3f' % avg_rmse)\n",
    "    print('Average MPE: %.3f' % avg_mpe)\n",
    "    print('Median MAE: %.3f' % med_mae)\n",
    "    #print('Median RMSE: %.3f' % med_rmse)\n",
    "    print('Median MPE: %.3f' % med_mpe)\n",
    "    data.describe()\n",
    "    \n",
    "\"\"\"show_results(plot_data, mae_list, rmse_list, mpe_list)\n",
    "print(len(rmse_list))\"\"\""
   ]
  },
  {
   "cell_type": "markdown",
   "id": "a649e913",
   "metadata": {},
   "source": [
    "# Prophet results"
   ]
  },
  {
   "cell_type": "code",
   "execution_count": 2,
   "id": "e2c95329",
   "metadata": {},
   "outputs": [],
   "source": [
    "import pandas as pd\n",
    "\n",
    "types_dict = {\"postal code\": str, \"rmse\": float, \"mae\": float, \"mpe\": float, \"parameter\": float}\n",
    "\n",
    "one_room = pd.read_csv(\"parameter_tuning_results/one-room-parameter-tuning-results.csv\", index_col=[0], dtype=types_dict)\n",
    "two_room = pd.read_csv(\"parameter_tuning_results/two-room-parameter-tuning-results.csv\", index_col=[0], dtype=types_dict)\n",
    "three_more_room = pd.read_csv(\"parameter_tuning_results/three_more-room-tuning-results.csv\", index_col=[0], dtype=types_dict)\n",
    "terrace_houses = pd.read_csv(\"parameter_tuning_results/terrace-parameter-tuning-results.csv\", index_col=[0], dtype=types_dict)"
   ]
  },
  {
   "cell_type": "markdown",
   "id": "8396caff",
   "metadata": {},
   "source": [
    "# SARIMAX results"
   ]
  },
  {
   "cell_type": "code",
   "execution_count": 3,
   "id": "ccf8326c",
   "metadata": {},
   "outputs": [],
   "source": [
    "import re\n",
    "\n",
    "def to_zipcode(tuple_string):\n",
    "    return f\"{int(re.search(r'[0-9]+', tuple_string).group()):05d}\""
   ]
  },
  {
   "cell_type": "code",
   "execution_count": 4,
   "id": "64c4fb18",
   "metadata": {},
   "outputs": [],
   "source": [
    "# ONE ROOMS\n",
    "\n",
    "one_room_test = pd.read_csv(\"sarimax_results/one_room/one_room_imp_test.csv\", index_col=[0])\n",
    "one_room_pred = pd.read_json(\"sarimax_results/one_room/one_room_sarimax_preds.json\", dtype=str)\n",
    "one_room_pred = one_room_pred.rename(columns=dict(zip(list(one_room_pred.columns), [to_zipcode(str(s)) for s in list(one_room_pred.columns)])))\n",
    "\n",
    "# TWO ROOMS\n",
    "\n",
    "two_room_test = pd.read_csv(\"sarimax_results/two_room/two_room_imp_test.csv\", index_col=[0])\n",
    "two_room_pred = pd.read_json(\"sarimax_results/two_room/two_room_sarimax_preds.json\", dtype=str)\n",
    "two_room_pred = two_room_pred.rename(columns=dict(zip(list(two_room_pred.columns), [to_zipcode(str(s)) for s in list(two_room_pred.columns)])))\n",
    "\n",
    "# THREE OR MORE ROOMS\n",
    "\n",
    "threemore_room_test = pd.read_csv(\"sarimax_results/three-more_room/three-more_room_imp_test.csv\", index_col=[0])\n",
    "threemore_room_pred = pd.read_json(\"sarimax_results/three-more_room/three-more_room_sarimax_preds.json\", dtype=str)\n",
    "threemore_room_pred = threemore_room_pred.rename(columns=dict(zip(list(threemore_room_pred.columns), [to_zipcode(str(s)) for s in list(threemore_room_pred.columns)])))\n",
    "\n",
    "# TERRACED HOUSES\n",
    "\n",
    "terrace_house_test = pd.read_csv(\"sarimax_results/terrace_house/terrace_house_imp_test.csv\", index_col=[0])\n",
    "terrace_house_pred = pd.read_json(\"sarimax_results/terrace_house/terrace_house_sarimax_preds.json\", dtype=str)\n",
    "terrace_house_pred = terrace_house_pred.rename(columns=dict(zip(list(terrace_house_pred.columns), [to_zipcode(str(s)) for s in list(terrace_house_pred.columns)])))"
   ]
  },
  {
   "cell_type": "code",
   "execution_count": 5,
   "id": "222a0e44",
   "metadata": {},
   "outputs": [
    {
     "data": {
      "text/html": [
       "<div>\n",
       "<style scoped>\n",
       "    .dataframe tbody tr th:only-of-type {\n",
       "        vertical-align: middle;\n",
       "    }\n",
       "\n",
       "    .dataframe tbody tr th {\n",
       "        vertical-align: top;\n",
       "    }\n",
       "\n",
       "    .dataframe thead th {\n",
       "        text-align: right;\n",
       "    }\n",
       "</style>\n",
       "<table border=\"1\" class=\"dataframe\">\n",
       "  <thead>\n",
       "    <tr style=\"text-align: right;\">\n",
       "      <th></th>\n",
       "      <th>00100</th>\n",
       "      <th>00120</th>\n",
       "      <th>00140</th>\n",
       "      <th>00150</th>\n",
       "      <th>00170</th>\n",
       "      <th>00180</th>\n",
       "      <th>00250</th>\n",
       "      <th>00260</th>\n",
       "      <th>00270</th>\n",
       "      <th>00400</th>\n",
       "      <th>...</th>\n",
       "      <th>26100</th>\n",
       "      <th>33200</th>\n",
       "      <th>33710</th>\n",
       "      <th>33720</th>\n",
       "      <th>40100</th>\n",
       "      <th>48100</th>\n",
       "      <th>50100</th>\n",
       "      <th>90100</th>\n",
       "      <th>90120</th>\n",
       "      <th>90500</th>\n",
       "    </tr>\n",
       "  </thead>\n",
       "  <tbody>\n",
       "    <tr>\n",
       "      <th>pred_0</th>\n",
       "      <td>8279.338446727</td>\n",
       "      <td>8451.5074146628</td>\n",
       "      <td>9302.9834389994</td>\n",
       "      <td>8391.3573857942</td>\n",
       "      <td>8913.1880603815</td>\n",
       "      <td>8647.7600384927</td>\n",
       "      <td>8022.2003122502</td>\n",
       "      <td>0.0</td>\n",
       "      <td>7237.7415227182</td>\n",
       "      <td>5268.2564140475</td>\n",
       "      <td>...</td>\n",
       "      <td>2214.1038269576</td>\n",
       "      <td>4555.3165202677</td>\n",
       "      <td>2852.1513925616</td>\n",
       "      <td>2612.8953404571</td>\n",
       "      <td>3601.1631671736</td>\n",
       "      <td>1614.1901192325</td>\n",
       "      <td>2111.7546597843</td>\n",
       "      <td>3241.6609997448</td>\n",
       "      <td>2822.4768184193</td>\n",
       "      <td>-393556.4934407679</td>\n",
       "    </tr>\n",
       "  </tbody>\n",
       "</table>\n",
       "<p>1 rows × 35 columns</p>\n",
       "</div>"
      ],
      "text/plain": [
       "                 00100            00120            00140            00150  \\\n",
       "pred_0  8279.338446727  8451.5074146628  9302.9834389994  8391.3573857942   \n",
       "\n",
       "                  00170            00180            00250 00260  \\\n",
       "pred_0  8913.1880603815  8647.7600384927  8022.2003122502   0.0   \n",
       "\n",
       "                  00270            00400  ...            26100  \\\n",
       "pred_0  7237.7415227182  5268.2564140475  ...  2214.1038269576   \n",
       "\n",
       "                  33200            33710            33720            40100  \\\n",
       "pred_0  4555.3165202677  2852.1513925616  2612.8953404571  3601.1631671736   \n",
       "\n",
       "                  48100            50100            90100            90120  \\\n",
       "pred_0  1614.1901192325  2111.7546597843  3241.6609997448  2822.4768184193   \n",
       "\n",
       "                     90500  \n",
       "pred_0  -393556.4934407679  \n",
       "\n",
       "[1 rows x 35 columns]"
      ]
     },
     "execution_count": 5,
     "metadata": {},
     "output_type": "execute_result"
    }
   ],
   "source": [
    "one_room_pred.head(1)"
   ]
  },
  {
   "cell_type": "code",
   "execution_count": 6,
   "id": "11ee1693",
   "metadata": {},
   "outputs": [
    {
     "data": {
      "text/html": [
       "<div>\n",
       "<style scoped>\n",
       "    .dataframe tbody tr th:only-of-type {\n",
       "        vertical-align: middle;\n",
       "    }\n",
       "\n",
       "    .dataframe tbody tr th {\n",
       "        vertical-align: top;\n",
       "    }\n",
       "\n",
       "    .dataframe thead th {\n",
       "        text-align: right;\n",
       "    }\n",
       "</style>\n",
       "<table border=\"1\" class=\"dataframe\">\n",
       "  <thead>\n",
       "    <tr style=\"text-align: right;\">\n",
       "      <th></th>\n",
       "      <th>Quarter</th>\n",
       "      <th>00100</th>\n",
       "      <th>00120</th>\n",
       "      <th>00140</th>\n",
       "      <th>00150</th>\n",
       "      <th>00170</th>\n",
       "      <th>00180</th>\n",
       "      <th>00250</th>\n",
       "      <th>00260</th>\n",
       "      <th>00270</th>\n",
       "      <th>...</th>\n",
       "      <th>26100</th>\n",
       "      <th>33200</th>\n",
       "      <th>33710</th>\n",
       "      <th>33720</th>\n",
       "      <th>40100</th>\n",
       "      <th>48100</th>\n",
       "      <th>50100</th>\n",
       "      <th>90100</th>\n",
       "      <th>90120</th>\n",
       "      <th>90500</th>\n",
       "    </tr>\n",
       "  </thead>\n",
       "  <tbody>\n",
       "    <tr>\n",
       "      <th>0</th>\n",
       "      <td>2020-07-01</td>\n",
       "      <td>9170.0</td>\n",
       "      <td>9132.0</td>\n",
       "      <td>NaN</td>\n",
       "      <td>9316.0</td>\n",
       "      <td>8656.0</td>\n",
       "      <td>9004.0</td>\n",
       "      <td>8026.0</td>\n",
       "      <td>NaN</td>\n",
       "      <td>7833.0</td>\n",
       "      <td>...</td>\n",
       "      <td>1445.0</td>\n",
       "      <td>4538.0</td>\n",
       "      <td>2843.0</td>\n",
       "      <td>2332.0</td>\n",
       "      <td>3560.0</td>\n",
       "      <td>1467.0</td>\n",
       "      <td>2359.0</td>\n",
       "      <td>NaN</td>\n",
       "      <td>3127.0</td>\n",
       "      <td>2719.0</td>\n",
       "    </tr>\n",
       "  </tbody>\n",
       "</table>\n",
       "<p>1 rows × 36 columns</p>\n",
       "</div>"
      ],
      "text/plain": [
       "      Quarter   00100   00120  00140   00150   00170   00180   00250  00260  \\\n",
       "0  2020-07-01  9170.0  9132.0    NaN  9316.0  8656.0  9004.0  8026.0    NaN   \n",
       "\n",
       "    00270  ...   26100   33200   33710   33720   40100   48100   50100  90100  \\\n",
       "0  7833.0  ...  1445.0  4538.0  2843.0  2332.0  3560.0  1467.0  2359.0    NaN   \n",
       "\n",
       "    90120   90500  \n",
       "0  3127.0  2719.0  \n",
       "\n",
       "[1 rows x 36 columns]"
      ]
     },
     "execution_count": 6,
     "metadata": {},
     "output_type": "execute_result"
    }
   ],
   "source": [
    "one_room_test.head(1)"
   ]
  },
  {
   "cell_type": "code",
   "execution_count": 7,
   "id": "2412e836",
   "metadata": {},
   "outputs": [],
   "source": [
    "import math\n",
    "from sklearn.metrics import mean_squared_error, mean_absolute_error, mean_absolute_percentage_error\n",
    "\n",
    "\n",
    "def remove_nan_from_test(test, forecast, pc):\n",
    "    test = [float(j[0]) for j in test[[pc]].values]\n",
    "    forecast = [float(k[0]) for k in forecast[[pc]].values]\n",
    "    new_test = []\n",
    "    new_forecast = []\n",
    "    for i in range(len(test)):\n",
    "        if not math.isnan((test[i])):\n",
    "            new_test.append(test[i])\n",
    "            new_forecast.append(forecast[i])\n",
    "    return new_test, new_forecast\n",
    "\n",
    "def evaluate_sarimax(df_test, forecast, pc):\n",
    "    new_test, new_forecast = remove_nan_from_test(df_test, forecast, pc)\n",
    "    mae = mean_absolute_error(new_test, new_forecast)\n",
    "    rmse = math.sqrt(mean_squared_error(new_test, new_forecast))\n",
    "    mpe = mean_absolute_percentage_error(new_test, new_forecast)\n",
    "    return mae, rmse, mpe, pc"
   ]
  },
  {
   "cell_type": "code",
   "execution_count": 8,
   "id": "88e17fa8",
   "metadata": {},
   "outputs": [],
   "source": [
    "mae_list = []\n",
    "rmse_list = []\n",
    "mpe_list = []\n",
    "pc_list = []\n",
    "\n",
    "postal_codes_in_housing = list(one_room_test.columns)[1:] #0 index is \"Quarter\"\n",
    "\n",
    "for pc in postal_codes_in_housing:\n",
    "    mae, rmse, mpe, pc = evaluate_sarimax(one_room_test, one_room_pred, pc)\n",
    "    mae_list.append(mae)\n",
    "    rmse_list.append(rmse)\n",
    "    mpe_list.append(mpe)\n",
    "    pc_list.append(pc)"
   ]
  },
  {
   "cell_type": "code",
   "execution_count": 69,
   "id": "6a77afc6",
   "metadata": {},
   "outputs": [
    {
     "name": "stdout",
     "output_type": "stream",
     "text": [
      "[561.4816008571247, 680.4925853372006, 673.7420454721005, 616.45830098735, 604.449556082275, 365.05509289803314, 239.74380028927476, 504.29079633544984, 984.8180354168335, 199.7243500912498, 399.84938313010025, 529.2167368396334, 221.13199477704984, 600.7834322569249, 380.20523307739995, 229.58137984540008, 173.84028753450002, 149.131555089975, 116.65103918860018, 136.44650573112494, 115.94186038159985, 139.18801398339997, 313.39259010513337, 383.59265193696655, 220.00076728055, 146.54739903017492, 321.6337592427999, 85.14935973742496, 278.7431451955333, 135.8585346268501, 159.95390895640003]\n"
     ]
    }
   ],
   "source": [
    "remove_over_100_mpe = list(filter(lambda a: a < 1, mpe_list))\n",
    "remove_over_100_mae = list(filter(lambda a: a < 1000, mae_list))\n",
    "print(remove_over_100_mae)\n",
    "rm_plot_data = pd.DataFrame({\"mape\": remove_over_100_mpe, \"mae\":remove_over_100_mae})\n",
    "#ax1 = rm_plot_data.plot.hist(bins=20)\n",
    "#ax1.set_xlim(0,0.3)\n",
    "#plot_data = pd.DataFrame({\"postal code\": postal_codes_in_housing, \"rmse\":rmse_list, \"mae\":mae_list, \"mpe\": mpe_list })\n",
    "#plot_data[\"mpe\"][:-1].hist(bins=100)\n",
    "#ax1 = plot_data[\"mpe\"].hist(bins=10000)\n",
    "#ax1.set_xlim(0,1000)"
   ]
  },
  {
   "cell_type": "code",
   "execution_count": 116,
   "id": "065f1b1b",
   "metadata": {},
   "outputs": [
    {
     "data": {
      "image/png": "[encoded data removed]",
      "text/plain": [
       "<Figure size 2160x1080 with 4 Axes>"
      ]
     },
     "metadata": {
      "needs_background": "light"
     },
     "output_type": "display_data"
    }
   ],
   "source": [
    "import matplotlib.pyplot as plt\n",
    "# PROPHET \n",
    "\n",
    "fig, axes = plt.subplots(nrows=2, ncols=2, figsize=(30,15))\n",
    "\n",
    "ax2 = one_room[\"mpe\"].plot.hist(ax=axes[0, 0])\n",
    "ax21 = one_room[\"mae\"].plot.hist(ax=axes[1, 0])\n",
    "ax2.set_xlim(0,0.3)\n",
    "ax21.set_xlim(0,1000)\n",
    "ax2.set_xlabel(\"Mean absolute percentage error\")\n",
    "ax21.set_xlabel(\"Mean absolute error\")\n",
    "ax2.set_title(\"MAPE for Prophet – One-room Flats\")\n",
    "ax21.set_title(\"MAE for Prophet – One-room Flats\")\n",
    "\n",
    "ax1 = rm_plot_data[\"mape\"].plot.hist(ax=axes[0,1], color=\"orange\")\n",
    "ax12 = rm_plot_data[\"mae\"].plot.hist(ax=axes[1,1], color=\"orange\")\n",
    "ax1.set_xlim(0,0.3)\n",
    "ax12.set_xlim(0,1000)\n",
    "ax1.set_xlabel(\"Mean absolute percentage error\")\n",
    "ax12.set_xlabel(\"Mean absolute error\")\n",
    "ax1.set_title(\"MAPE for SARIMAX – One-room Flats\")\n",
    "ax12.set_title(\"MAE for SARIMAX – One-room Flats\")\n",
    "fig.savefig(\"output.png\")\n"
   ]
  },
  {
   "cell_type": "code",
   "execution_count": 94,
   "id": "6820a03d",
   "metadata": {},
   "outputs": [
    {
     "data": {
      "text/plain": [
       "Text(0.5, 1.0, 'MAE for SARIMAX – One-room Flats')"
      ]
     },
     "execution_count": 94,
     "metadata": {},
     "output_type": "execute_result"
    },
    {
     "data": {
      "image/png": "[encoded data removed]",
      "text/plain": [
       "<Figure size 1080x504 with 2 Axes>"
      ]
     },
     "metadata": {
      "needs_background": "light"
     },
     "output_type": "display_data"
    }
   ],
   "source": []
  },
  {
   "cell_type": "code",
   "execution_count": null,
   "id": "1e869c4c",
   "metadata": {},
   "outputs": [],
   "source": []
  }
 ],
 "metadata": {
  "kernelspec": {
   "display_name": "Python 3 (ipykernel)",
   "language": "python",
   "name": "python3"
  },
  "language_info": {
   "codemirror_mode": {
    "name": "ipython",
    "version": 3
   },
   "file_extension": ".py",
   "mimetype": "text/x-python",
   "name": "python",
   "nbconvert_exporter": "python",
   "pygments_lexer": "ipython3",
   "version": "3.8.8"
  }
 },
 "nbformat": 4,
 "nbformat_minor": 5
}
