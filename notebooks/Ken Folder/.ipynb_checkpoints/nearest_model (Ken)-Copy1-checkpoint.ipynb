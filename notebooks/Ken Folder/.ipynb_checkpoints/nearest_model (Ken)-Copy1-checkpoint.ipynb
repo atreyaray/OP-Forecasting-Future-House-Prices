{
 "cells": [
  {
   "cell_type": "code",
   "execution_count": null,
   "id": "48c4c320",
   "metadata": {},
   "outputs": [],
   "source": [
    "import numpy as np\n",
    "import pandas as pd\n",
    "from matplotlib import pyplot as plt\n",
    "\n",
    "df = pd.read_csv(\"../../data/quarterly_data.csv\", encoding = 'unicode_escape')"
   ]
  },
  {
   "cell_type": "code",
   "execution_count": null,
   "id": "6107f9c7",
   "metadata": {},
   "outputs": [],
   "source": [
    "df1 = df.replace(\"..\", np.nan)"
   ]
  },
  {
   "cell_type": "code",
   "execution_count": null,
   "id": "4918720b",
   "metadata": {},
   "outputs": [],
   "source": [
    "df1"
   ]
  },
  {
   "cell_type": "code",
   "execution_count": null,
   "id": "49138071",
   "metadata": {},
   "outputs": [],
   "source": [
    "# original source https://machinelearningmastery.com/iterative-imputation-for-missing-values-in-machine-learning/\n",
    "# summarize the number of rows with missing values for each column\n",
    "for i in range(df1.shape[1]):\n",
    "    n_miss = df1.iloc[:,i].isnull().sum()\n",
    "    perc = n_miss / df1.shape[0] * 100\n",
    "    print('> %d, Missing: %d (%.1f%%)' % (i, n_miss, perc))"
   ]
  },
  {
   "cell_type": "code",
   "execution_count": null,
   "id": "9669bc2d",
   "metadata": {},
   "outputs": [],
   "source": [
    "## Categories and numerical features to different dfs\n",
    "\n",
    "cat = df1.iloc[:,0:2]\n",
    "num = df1.iloc[:,2:]\n",
    "num_columns = num.columns"
   ]
  },
  {
   "cell_type": "code",
   "execution_count": null,
   "id": "0670393f",
   "metadata": {},
   "outputs": [],
   "source": [
    "from sklearn.experimental import enable_iterative_imputer\n",
    "from sklearn.impute import IterativeImputer\n",
    "\n",
    "imp = IterativeImputer(max_iter=10, random_state=0)\n",
    "num_imp = imp.fit_transform(num)"
   ]
  },
  {
   "cell_type": "code",
   "execution_count": null,
   "id": "a3ea3c27",
   "metadata": {},
   "outputs": [],
   "source": [
    "df_num_imp = pd.DataFrame(num_imp, columns=num_columns)\n",
    "df_num_imp"
   ]
  },
  {
   "cell_type": "code",
   "execution_count": null,
   "id": "e517ce42",
   "metadata": {},
   "outputs": [],
   "source": [
    "df_num_imp.isnull().sum()"
   ]
  },
  {
   "cell_type": "code",
   "execution_count": null,
   "id": "d3e1ae3c",
   "metadata": {},
   "outputs": [],
   "source": [
    "df_imp = pd.concat([cat, df_num_imp],axis=1)"
   ]
  },
  {
   "cell_type": "code",
   "execution_count": null,
   "id": "2bbc4154",
   "metadata": {},
   "outputs": [],
   "source": [
    "df_imp.head()"
   ]
  },
  {
   "cell_type": "code",
   "execution_count": null,
   "id": "0f8d6680",
   "metadata": {},
   "outputs": [],
   "source": [
    "df4 = df_imp.melt(id_vars=[\"Postal code\", \"Building type\"],var_name=\"Quarter\", value_name=\"EUR/m2\")"
   ]
  },
  {
   "cell_type": "code",
   "execution_count": null,
   "id": "2fe68883",
   "metadata": {},
   "outputs": [],
   "source": [
    "df4.loc[df4[\"Postal code\"] == \"00100 Helsinki Keskusta - Etu-Töölö   (Helsinki )\"]"
   ]
  },
  {
   "cell_type": "code",
   "execution_count": null,
   "id": "59dd15f0",
   "metadata": {},
   "outputs": [],
   "source": [
    "### Regex to change quarters to datetime\n",
    "import datetime as date\n",
    "\n",
    "def quarter_to_datetime(row):\n",
    "    dates = {\"Q1\": \"1/1\", \"Q2\":\"1/4\", \"Q3\":\"1/7\", \"Q4\":\"1/10\"}\n",
    "    string = row.replace(\"*\", \"\").split(\" \")[0]\n",
    "    year, quarter = string[:4], string[4:]\n",
    "    datetime_str = dates[quarter] + \"/\" + year\n",
    "    return date.datetime.strptime(datetime_str, '%d/%m/%Y')\n",
    "    \n",
    "    \n",
    "df4[\"Quarter\"] = df4[\"Quarter\"].apply(lambda row: quarter_to_datetime(row))\n",
    "df4"
   ]
  },
  {
   "cell_type": "code",
   "execution_count": null,
   "id": "467a2d1d",
   "metadata": {},
   "outputs": [],
   "source": [
    "### Split postal code and place\n",
    "\n",
    "df4[['Postal code', 'Location']] = df4['Postal code'].str.split(' ', 1, expand=True)\n",
    "df4"
   ]
  },
  {
   "cell_type": "code",
   "execution_count": null,
   "id": "d91c755f",
   "metadata": {
    "scrolled": true
   },
   "outputs": [],
   "source": [
    "import pgeocode\n",
    "import time"
   ]
  },
  {
   "cell_type": "code",
   "execution_count": null,
   "id": "363f5f1b",
   "metadata": {},
   "outputs": [],
   "source": [
    "postal_code_list = list(df4[\"Postal code\"].unique())\n",
    "nomi = pgeocode.Nominatim('fi')\n",
    "location = nomi.query_postal_code(postal_code_list)"
   ]
  },
  {
   "cell_type": "code",
   "execution_count": null,
   "id": "7fb2e51b",
   "metadata": {},
   "outputs": [],
   "source": [
    "location"
   ]
  },
  {
   "cell_type": "code",
   "execution_count": null,
   "id": "1ea01ca4",
   "metadata": {},
   "outputs": [],
   "source": [
    "cond = location['latitude'].isna()\n",
    "jalla = location.assign(cond1= cond)\n",
    "jalla"
   ]
  },
  {
   "cell_type": "code",
   "execution_count": null,
   "id": "29d0b8e5",
   "metadata": {},
   "outputs": [],
   "source": [
    "## Find rows which are empty\n",
    "# Source https://www.kite.com/python/answers/how-to-find-rows-with-nan-values-in-a-pandas-dataframe-in-python\n",
    "\n",
    "\n",
    "is_NaN = location.isnull()\n",
    "row_has_NaN = is_NaN.any(axis=1)\n",
    "rows_with_NaN = location[row_has_NaN]\n",
    "rows_with_NaN"
   ]
  },
  {
   "cell_type": "code",
   "execution_count": null,
   "id": "dce45d67",
   "metadata": {},
   "outputs": [],
   "source": [
    "###. WORK IN PROGRESS (93999 FOR KUUSAMO)\n",
    "# THIS HAS TO BE ADDED MANUALLY\n",
    "\n",
    "wanted_features_location = location[[\"postal_code\", \n",
    "                                     \"place_name\", \n",
    "                                     \"state_name\", \n",
    "                                     \"county_name\", \n",
    "                                     \"latitude\", \n",
    "                                     \"longitude\"]]\n",
    "wanted_features_location = wanted_features_location.rename(columns={\"postal_code\": \"Postal code\"})"
   ]
  },
  {
   "cell_type": "code",
   "execution_count": null,
   "id": "79163dd9",
   "metadata": {},
   "outputs": [],
   "source": [
    "df_merge = pd.merge(df4, wanted_features_location, on=\"Postal code\")"
   ]
  },
  {
   "cell_type": "code",
   "execution_count": null,
   "id": "eb7fa1cd",
   "metadata": {},
   "outputs": [],
   "source": [
    "df_merge"
   ]
  },
  {
   "cell_type": "code",
   "execution_count": null,
   "id": "ac9834d2",
   "metadata": {},
   "outputs": [],
   "source": [
    "#Some columns are missing their geolocation features :(\n",
    "\n",
    "for i in range(df_merge.shape[1]):\n",
    "    n_miss = df_merge.iloc[:,i].isnull().sum()\n",
    "    perc = n_miss / df1.shape[0] * 100\n",
    "    print('> %d, Missing: %d (%.1f%%)' % (i, n_miss, perc))"
   ]
  },
  {
   "cell_type": "code",
   "execution_count": null,
   "id": "6abf5a08",
   "metadata": {},
   "outputs": [],
   "source": [
    "df_merge.columns"
   ]
  },
  {
   "cell_type": "code",
   "execution_count": null,
   "id": "36b9244c",
   "metadata": {},
   "outputs": [],
   "source": [
    "df_merge[\"Building type\"].unique()"
   ]
  },
  {
   "cell_type": "markdown",
   "id": "ef67e2f0",
   "metadata": {},
   "source": [
    "# Save a dataset for model testing"
   ]
  },
  {
   "cell_type": "code",
   "execution_count": null,
   "id": "9d2fd910",
   "metadata": {},
   "outputs": [],
   "source": [
    "wanted_columns = ['Postal code', 'Building type', 'Quarter', 'EUR/m2','latitude', 'longitude']\n",
    "not_wanted_building_types = ['Building types total','Blocks of flats total']\n",
    "df_only_houses = df_merge[~df_merge[\"Building type\"].isin(not_wanted_building_types)].reset_index(drop=True)\n",
    "df_only_houses[\"EUR/m2\"] = df_only_houses[\"EUR/m2\"].astype(int)"
   ]
  },
  {
   "cell_type": "code",
   "execution_count": null,
   "id": "4244945f",
   "metadata": {},
   "outputs": [],
   "source": [
    "df_only_houses[\"Building type\"].unique()"
   ]
  },
  {
   "cell_type": "code",
   "execution_count": null,
   "id": "b8a01412",
   "metadata": {},
   "outputs": [],
   "source": [
    "### Rename building types\n",
    "\n",
    "\n",
    "def rename_building(row):\n",
    "    dic = {'Blocks of flats, one-room flat':'one-room','Blocks of flats, two-room flat':'two-room',\n",
    "           'Blocks of flats, three-room flat+':'three or more room', 'Terraced houses total':'terrace house'}\n",
    "    return dic[row]\n",
    "\n",
    "df_only_houses2 = df_only_houses\n",
    "df_only_houses2[\"Building type\"] = df_only_houses2[\"Building type\"].apply(lambda r: rename_building(r))"
   ]
  },
  {
   "cell_type": "code",
   "execution_count": null,
   "id": "cd960a6c",
   "metadata": {},
   "outputs": [],
   "source": [
    "data = df_only_houses2[wanted_columns]"
   ]
  },
  {
   "cell_type": "code",
   "execution_count": null,
   "id": "a01cf560",
   "metadata": {},
   "outputs": [],
   "source": [
    "data.head()"
   ]
  },
  {
   "cell_type": "code",
   "execution_count": null,
   "id": "8e09cfbe",
   "metadata": {},
   "outputs": [],
   "source": [
    "data.to_csv(\"df_geo_imp.csv\")"
   ]
  },
  {
   "cell_type": "markdown",
   "id": "a4e32f76",
   "metadata": {},
   "source": [
    "## Value of square meter of cities Q2 2021"
   ]
  },
  {
   "cell_type": "code",
   "execution_count": null,
   "id": "dc4266e5",
   "metadata": {},
   "outputs": [],
   "source": [
    "Q2_2021__one_room = df_merge[(df_merge[\"Quarter\"] == \"2021-01-04\") & (df_merge[\"Building type\"] == \"Blocks of flats, one-room flat\")]\n"
   ]
  },
  {
   "cell_type": "code",
   "execution_count": null,
   "id": "cedda286",
   "metadata": {},
   "outputs": [],
   "source": [
    "Q2_2021__one_room"
   ]
  },
  {
   "cell_type": "code",
   "execution_count": null,
   "id": "045faeab",
   "metadata": {},
   "outputs": [],
   "source": [
    "Q2_2021__one_room.plot(kind=\"scatter\", x=\"longitude\", y=\"latitude\", alpha=0.2, figsize=(7,10),\n",
    " c=\"EUR/m2\", cmap=plt.get_cmap(\"jet\"), colorbar=True,\n",
    ")\n",
    "plt.legend()\n",
    "plt.title(\"Q2 2021 Blocks of flats, one-room flat\")"
   ]
  },
  {
   "cell_type": "markdown",
   "id": "dc41d8fa",
   "metadata": {},
   "source": [
    "### Only Helsinki"
   ]
  },
  {
   "cell_type": "code",
   "execution_count": null,
   "id": "f12e4c9d",
   "metadata": {},
   "outputs": [],
   "source": [
    "helsinki_df = Q2_2021__one_room[Q2_2021__one_room[\"county_name\"] == \"Helsinki\"]\n",
    "\n",
    "helsinki_df.plot(kind=\"scatter\", x=\"longitude\", y=\"latitude\", alpha=0.2, figsize=(7,10),\n",
    " c=\"EUR/m2\", cmap=plt.get_cmap(\"jet\"), colorbar=True,\n",
    ")\n",
    "plt.title(\"Helsinki\")\n",
    "plt.legend()"
   ]
  },
  {
   "cell_type": "markdown",
   "id": "2b6f1905",
   "metadata": {},
   "source": [
    "## Whole uusimaa"
   ]
  },
  {
   "cell_type": "code",
   "execution_count": null,
   "id": "3709e6ef",
   "metadata": {},
   "outputs": [],
   "source": [
    "uusimaa_df = Q2_2021__one_room[Q2_2021__one_room[\"state_name\"] == \"Uusimaa\"]\n",
    "\n",
    "uusimaa_df.plot(kind=\"scatter\", x=\"longitude\", y=\"latitude\", alpha=0.2, figsize=(7,10),\n",
    " c=\"EUR/m2\", cmap=plt.get_cmap(\"jet\"), colorbar=True,\n",
    ")\n",
    "plt.title(\"Uusimaa\")\n",
    "plt.legend()"
   ]
  },
  {
   "cell_type": "code",
   "execution_count": null,
   "id": "dd83849e",
   "metadata": {},
   "outputs": [],
   "source": [
    "uusimaa_df.describe()"
   ]
  },
  {
   "cell_type": "code",
   "execution_count": null,
   "id": "668b8c2a",
   "metadata": {},
   "outputs": [],
   "source": [
    "helsinki_df.sort_values(by=\"EUR/m2\", ascending=False).head()"
   ]
  },
  {
   "cell_type": "markdown",
   "id": "053511b6",
   "metadata": {},
   "source": [
    "## Model prototype (just for testing web app)\n",
    "\n",
    "It is worth noticing that this model has been built with imputed data. \n",
    "Therefore, model's evaluation can be wrong since the imputed data has been used for that step. "
   ]
  },
  {
   "cell_type": "code",
   "execution_count": null,
   "id": "f5c90c8f",
   "metadata": {},
   "outputs": [],
   "source": [
    "import joblib\n",
    "\n",
    "\n",
    "data.head()\n",
    "data2 = data.drop(\"Postal code\", axis=1)\n",
    "data2[\"Quarter\"] = data2[\"Quarter\"].astype(str)"
   ]
  },
  {
   "cell_type": "code",
   "execution_count": null,
   "id": "97214f65",
   "metadata": {},
   "outputs": [],
   "source": [
    "data2.isna().sum()"
   ]
  },
  {
   "cell_type": "code",
   "execution_count": null,
   "id": "4d88d00d",
   "metadata": {},
   "outputs": [],
   "source": [
    "data3 = data2.dropna().reset_index()"
   ]
  },
  {
   "cell_type": "code",
   "execution_count": null,
   "id": "3ac335de",
   "metadata": {},
   "outputs": [],
   "source": [
    "# Building type and Quarter to one hot encoding\n",
    "from sklearn.preprocessing import OneHotEncoder\n",
    "\n",
    "num = data3[[\"longitude\", \"latitude\", \"EUR/m2\"]]\n",
    "cat = data3[[\"Building type\", \"Quarter\"]]"
   ]
  },
  {
   "cell_type": "code",
   "execution_count": null,
   "id": "cf5b6c9f",
   "metadata": {},
   "outputs": [],
   "source": [
    "cat"
   ]
  },
  {
   "cell_type": "code",
   "execution_count": null,
   "id": "f7e67b21",
   "metadata": {},
   "outputs": [],
   "source": [
    "enc = OneHotEncoder(handle_unknown='ignore')\n",
    "enc.fit(cat)\n",
    "oh_cat = enc.transform(cat).toarray()"
   ]
  },
  {
   "cell_type": "code",
   "execution_count": null,
   "id": "2f5360ba",
   "metadata": {},
   "outputs": [],
   "source": [
    "oh_cat_features = enc.get_feature_names([\"Building type\", \"Quarter\"])\n",
    "cat_df = pd.DataFrame(oh_cat, columns=oh_cat_features)"
   ]
  },
  {
   "cell_type": "code",
   "execution_count": null,
   "id": "622455fe",
   "metadata": {},
   "outputs": [],
   "source": [
    "# Save encoder for streamlit\n",
    "joblib.dump(enc, \"onehot_encoder.pkl\", compress=1)"
   ]
  },
  {
   "cell_type": "code",
   "execution_count": null,
   "id": "13e317ea",
   "metadata": {},
   "outputs": [],
   "source": [
    "data4 = pd.concat([cat_df,num],axis=1)\n",
    "data4"
   ]
  },
  {
   "cell_type": "code",
   "execution_count": null,
   "id": "9c110a4d",
   "metadata": {},
   "outputs": [],
   "source": [
    "cat_test = np.array([\"one-room\", \"2021-01-04\"])\n",
    "tuloe = enc.transform(cat_test.reshape(1,-1)).toarray()\n",
    "print(tuloe)"
   ]
  },
  {
   "cell_type": "code",
   "execution_count": null,
   "id": "4ad532d9",
   "metadata": {},
   "outputs": [],
   "source": [
    "## Test and train sets\n",
    "\n",
    "train = data4[data4[\"Quarter_2021-01-04\"] == 0.0]\n",
    "test = data4[data4[\"Quarter_2021-01-04\"] == 1.0]"
   ]
  },
  {
   "cell_type": "code",
   "execution_count": null,
   "id": "c2cd6d91",
   "metadata": {},
   "outputs": [],
   "source": [
    "X_feat = list(data4.columns)\n",
    "X_feat.remove('EUR/m2')\n",
    "\n",
    "X_train, X_test = train[X_feat], test[X_feat]\n",
    "y_train, y_test = train['EUR/m2'], test['EUR/m2']\n"
   ]
  },
  {
   "cell_type": "code",
   "execution_count": null,
   "id": "2a4e98e0",
   "metadata": {},
   "outputs": [],
   "source": [
    "from sklearn.ensemble import RandomForestRegressor\n",
    "from sklearn.metrics import mean_absolute_error\n",
    "\n",
    "\n",
    "regr = RandomForestRegressor(n_estimators=10, random_state=7)\n",
    "regr.fit(X_train, y_train)\n",
    "\n",
    "pred = regr.predict(X_test)\n",
    "mean_absolute_error(y_test, pred)"
   ]
  },
  {
   "cell_type": "code",
   "execution_count": null,
   "id": "98ffeebb",
   "metadata": {},
   "outputs": [],
   "source": [
    "joblib.dump(regr,'housing_regr.pkl',compress=1)"
   ]
  },
  {
   "cell_type": "markdown",
   "id": "ce824707",
   "metadata": {},
   "source": [
    "# Time series forecasting"
   ]
  },
  {
   "cell_type": "code",
   "execution_count": 36,
   "id": "15d079cc",
   "metadata": {},
   "outputs": [
    {
     "data": {
      "text/html": [
       "<div>\n",
       "<style scoped>\n",
       "    .dataframe tbody tr th:only-of-type {\n",
       "        vertical-align: middle;\n",
       "    }\n",
       "\n",
       "    .dataframe tbody tr th {\n",
       "        vertical-align: top;\n",
       "    }\n",
       "\n",
       "    .dataframe thead th {\n",
       "        text-align: right;\n",
       "    }\n",
       "</style>\n",
       "<table border=\"1\" class=\"dataframe\">\n",
       "  <thead>\n",
       "    <tr style=\"text-align: right;\">\n",
       "      <th></th>\n",
       "      <th>time</th>\n",
       "      <th>00100</th>\n",
       "      <th>00260</th>\n",
       "      <th>00360</th>\n",
       "      <th>00500</th>\n",
       "      <th>00520</th>\n",
       "      <th>00730</th>\n",
       "      <th>00820</th>\n",
       "      <th>01280</th>\n",
       "      <th>01300</th>\n",
       "      <th>...</th>\n",
       "      <th>33200</th>\n",
       "      <th>33560</th>\n",
       "      <th>33580</th>\n",
       "      <th>33710</th>\n",
       "      <th>33820</th>\n",
       "      <th>33850</th>\n",
       "      <th>33960</th>\n",
       "      <th>36200</th>\n",
       "      <th>37120</th>\n",
       "      <th>40520</th>\n",
       "    </tr>\n",
       "  </thead>\n",
       "  <tbody>\n",
       "    <tr>\n",
       "      <th>0</th>\n",
       "      <td>2010Q1 Price per square meter (EUR/m2)</td>\n",
       "      <td>5168.0</td>\n",
       "      <td>4873.0</td>\n",
       "      <td>2756.0</td>\n",
       "      <td>4058.0</td>\n",
       "      <td>3317.0</td>\n",
       "      <td>3006.0</td>\n",
       "      <td>2652.0</td>\n",
       "      <td>2098.0</td>\n",
       "      <td>2616.0</td>\n",
       "      <td>...</td>\n",
       "      <td>2827.0</td>\n",
       "      <td>1951.0</td>\n",
       "      <td>2152.0</td>\n",
       "      <td>1760.0</td>\n",
       "      <td>1859.0</td>\n",
       "      <td>1227.0</td>\n",
       "      <td>1897.0</td>\n",
       "      <td>1747.0</td>\n",
       "      <td>1613.0</td>\n",
       "      <td>1968.0</td>\n",
       "    </tr>\n",
       "    <tr>\n",
       "      <th>1</th>\n",
       "      <td>2010Q2 Price per square meter (EUR/m2)</td>\n",
       "      <td>5219.0</td>\n",
       "      <td>5086.0</td>\n",
       "      <td>3051.0</td>\n",
       "      <td>4111.0</td>\n",
       "      <td>3706.0</td>\n",
       "      <td>3070.0</td>\n",
       "      <td>2561.0</td>\n",
       "      <td>2045.0</td>\n",
       "      <td>2688.0</td>\n",
       "      <td>...</td>\n",
       "      <td>3094.0</td>\n",
       "      <td>1816.0</td>\n",
       "      <td>2039.0</td>\n",
       "      <td>1803.0</td>\n",
       "      <td>1970.0</td>\n",
       "      <td>1254.0</td>\n",
       "      <td>2026.0</td>\n",
       "      <td>1659.0</td>\n",
       "      <td>1542.0</td>\n",
       "      <td>2110.0</td>\n",
       "    </tr>\n",
       "    <tr>\n",
       "      <th>2</th>\n",
       "      <td>2010Q3 Price per square meter (EUR/m2)</td>\n",
       "      <td>5181.0</td>\n",
       "      <td>4939.0</td>\n",
       "      <td>2889.0</td>\n",
       "      <td>4247.0</td>\n",
       "      <td>3672.0</td>\n",
       "      <td>2944.0</td>\n",
       "      <td>2632.0</td>\n",
       "      <td>2210.0</td>\n",
       "      <td>2814.0</td>\n",
       "      <td>...</td>\n",
       "      <td>3001.0</td>\n",
       "      <td>2081.0</td>\n",
       "      <td>1978.0</td>\n",
       "      <td>1851.0</td>\n",
       "      <td>1916.0</td>\n",
       "      <td>1338.0</td>\n",
       "      <td>1700.0</td>\n",
       "      <td>1851.0</td>\n",
       "      <td>1582.0</td>\n",
       "      <td>2096.0</td>\n",
       "    </tr>\n",
       "    <tr>\n",
       "      <th>3</th>\n",
       "      <td>2010Q4 Price per square meter (EUR/m2)</td>\n",
       "      <td>5269.0</td>\n",
       "      <td>4906.0</td>\n",
       "      <td>3037.0</td>\n",
       "      <td>4226.0</td>\n",
       "      <td>3681.0</td>\n",
       "      <td>3046.0</td>\n",
       "      <td>2580.0</td>\n",
       "      <td>2359.0</td>\n",
       "      <td>2727.0</td>\n",
       "      <td>...</td>\n",
       "      <td>2990.0</td>\n",
       "      <td>1963.0</td>\n",
       "      <td>2102.0</td>\n",
       "      <td>1740.0</td>\n",
       "      <td>1980.0</td>\n",
       "      <td>1287.0</td>\n",
       "      <td>1881.0</td>\n",
       "      <td>1715.0</td>\n",
       "      <td>1745.0</td>\n",
       "      <td>2180.0</td>\n",
       "    </tr>\n",
       "    <tr>\n",
       "      <th>4</th>\n",
       "      <td>2011Q1 Price per square meter (EUR/m2)</td>\n",
       "      <td>5632.0</td>\n",
       "      <td>5272.0</td>\n",
       "      <td>3188.0</td>\n",
       "      <td>4342.0</td>\n",
       "      <td>3654.0</td>\n",
       "      <td>3061.0</td>\n",
       "      <td>2793.0</td>\n",
       "      <td>2165.0</td>\n",
       "      <td>2734.0</td>\n",
       "      <td>...</td>\n",
       "      <td>3122.0</td>\n",
       "      <td>2142.0</td>\n",
       "      <td>2181.0</td>\n",
       "      <td>1838.0</td>\n",
       "      <td>1851.0</td>\n",
       "      <td>1398.0</td>\n",
       "      <td>1847.0</td>\n",
       "      <td>1836.0</td>\n",
       "      <td>1660.0</td>\n",
       "      <td>2116.0</td>\n",
       "    </tr>\n",
       "    <tr>\n",
       "      <th>5</th>\n",
       "      <td>2011Q2 Price per square meter (EUR/m2)</td>\n",
       "      <td>5807.0</td>\n",
       "      <td>5538.0</td>\n",
       "      <td>3070.0</td>\n",
       "      <td>4281.0</td>\n",
       "      <td>3864.0</td>\n",
       "      <td>2840.0</td>\n",
       "      <td>2717.0</td>\n",
       "      <td>2227.0</td>\n",
       "      <td>2869.0</td>\n",
       "      <td>...</td>\n",
       "      <td>3107.0</td>\n",
       "      <td>2125.0</td>\n",
       "      <td>2228.0</td>\n",
       "      <td>1953.0</td>\n",
       "      <td>1780.0</td>\n",
       "      <td>1257.0</td>\n",
       "      <td>1926.0</td>\n",
       "      <td>1561.0</td>\n",
       "      <td>1627.0</td>\n",
       "      <td>2213.0</td>\n",
       "    </tr>\n",
       "    <tr>\n",
       "      <th>6</th>\n",
       "      <td>2011Q3 Price per square meter (EUR/m2)</td>\n",
       "      <td>5630.0</td>\n",
       "      <td>5166.0</td>\n",
       "      <td>2923.0</td>\n",
       "      <td>4420.0</td>\n",
       "      <td>4285.0</td>\n",
       "      <td>3189.0</td>\n",
       "      <td>2723.0</td>\n",
       "      <td>2123.0</td>\n",
       "      <td>2846.0</td>\n",
       "      <td>...</td>\n",
       "      <td>3127.0</td>\n",
       "      <td>2219.0</td>\n",
       "      <td>2179.0</td>\n",
       "      <td>1775.0</td>\n",
       "      <td>1814.0</td>\n",
       "      <td>1313.0</td>\n",
       "      <td>1783.0</td>\n",
       "      <td>1884.0</td>\n",
       "      <td>1711.0</td>\n",
       "      <td>2004.0</td>\n",
       "    </tr>\n",
       "    <tr>\n",
       "      <th>7</th>\n",
       "      <td>2011Q4 Price per square meter (EUR/m2)</td>\n",
       "      <td>5511.0</td>\n",
       "      <td>5262.0</td>\n",
       "      <td>3052.0</td>\n",
       "      <td>4459.0</td>\n",
       "      <td>3898.0</td>\n",
       "      <td>2969.0</td>\n",
       "      <td>2663.0</td>\n",
       "      <td>2454.0</td>\n",
       "      <td>2667.0</td>\n",
       "      <td>...</td>\n",
       "      <td>2890.0</td>\n",
       "      <td>2198.0</td>\n",
       "      <td>2039.0</td>\n",
       "      <td>1709.0</td>\n",
       "      <td>1749.0</td>\n",
       "      <td>1338.0</td>\n",
       "      <td>2043.0</td>\n",
       "      <td>1709.0</td>\n",
       "      <td>1577.0</td>\n",
       "      <td>2032.0</td>\n",
       "    </tr>\n",
       "    <tr>\n",
       "      <th>8</th>\n",
       "      <td>2012Q1 Price per square meter (EUR/m2)</td>\n",
       "      <td>5843.0</td>\n",
       "      <td>5122.0</td>\n",
       "      <td>3020.0</td>\n",
       "      <td>4429.0</td>\n",
       "      <td>3854.0</td>\n",
       "      <td>3147.0</td>\n",
       "      <td>2765.0</td>\n",
       "      <td>2358.0</td>\n",
       "      <td>3020.0</td>\n",
       "      <td>...</td>\n",
       "      <td>2756.0</td>\n",
       "      <td>2174.0</td>\n",
       "      <td>2135.0</td>\n",
       "      <td>1800.0</td>\n",
       "      <td>1586.0</td>\n",
       "      <td>1316.0</td>\n",
       "      <td>2189.0</td>\n",
       "      <td>1822.0</td>\n",
       "      <td>1725.0</td>\n",
       "      <td>2127.0</td>\n",
       "    </tr>\n",
       "    <tr>\n",
       "      <th>9</th>\n",
       "      <td>2012Q2 Price per square meter (EUR/m2)</td>\n",
       "      <td>5899.0</td>\n",
       "      <td>5353.0</td>\n",
       "      <td>3184.0</td>\n",
       "      <td>4533.0</td>\n",
       "      <td>4057.0</td>\n",
       "      <td>3054.0</td>\n",
       "      <td>2844.0</td>\n",
       "      <td>2161.0</td>\n",
       "      <td>2933.0</td>\n",
       "      <td>...</td>\n",
       "      <td>3065.0</td>\n",
       "      <td>2070.0</td>\n",
       "      <td>2281.0</td>\n",
       "      <td>1904.0</td>\n",
       "      <td>1876.0</td>\n",
       "      <td>1328.0</td>\n",
       "      <td>1991.0</td>\n",
       "      <td>2152.0</td>\n",
       "      <td>1703.0</td>\n",
       "      <td>2257.0</td>\n",
       "    </tr>\n",
       "    <tr>\n",
       "      <th>10</th>\n",
       "      <td>2012Q3 Price per square meter (EUR/m2)</td>\n",
       "      <td>5965.0</td>\n",
       "      <td>5681.0</td>\n",
       "      <td>3272.0</td>\n",
       "      <td>4620.0</td>\n",
       "      <td>4045.0</td>\n",
       "      <td>2966.0</td>\n",
       "      <td>2920.0</td>\n",
       "      <td>2323.0</td>\n",
       "      <td>2935.0</td>\n",
       "      <td>...</td>\n",
       "      <td>3249.0</td>\n",
       "      <td>2356.0</td>\n",
       "      <td>2232.0</td>\n",
       "      <td>1834.0</td>\n",
       "      <td>1628.0</td>\n",
       "      <td>1287.0</td>\n",
       "      <td>2232.0</td>\n",
       "      <td>1938.0</td>\n",
       "      <td>1557.0</td>\n",
       "      <td>2146.0</td>\n",
       "    </tr>\n",
       "    <tr>\n",
       "      <th>11</th>\n",
       "      <td>2012Q4 Price per square meter (EUR/m2)</td>\n",
       "      <td>5766.0</td>\n",
       "      <td>5551.0</td>\n",
       "      <td>3394.0</td>\n",
       "      <td>4845.0</td>\n",
       "      <td>4280.0</td>\n",
       "      <td>3075.0</td>\n",
       "      <td>2850.0</td>\n",
       "      <td>2284.0</td>\n",
       "      <td>3088.0</td>\n",
       "      <td>...</td>\n",
       "      <td>3169.0</td>\n",
       "      <td>2312.0</td>\n",
       "      <td>2364.0</td>\n",
       "      <td>1804.0</td>\n",
       "      <td>1786.0</td>\n",
       "      <td>1289.0</td>\n",
       "      <td>1992.0</td>\n",
       "      <td>1651.0</td>\n",
       "      <td>1553.0</td>\n",
       "      <td>2239.0</td>\n",
       "    </tr>\n",
       "    <tr>\n",
       "      <th>12</th>\n",
       "      <td>2013Q1 Price per square meter (EUR/m2)</td>\n",
       "      <td>5865.0</td>\n",
       "      <td>5664.0</td>\n",
       "      <td>3337.0</td>\n",
       "      <td>4794.0</td>\n",
       "      <td>4514.0</td>\n",
       "      <td>3207.0</td>\n",
       "      <td>2853.0</td>\n",
       "      <td>2202.0</td>\n",
       "      <td>2844.0</td>\n",
       "      <td>...</td>\n",
       "      <td>3087.0</td>\n",
       "      <td>2116.0</td>\n",
       "      <td>2131.0</td>\n",
       "      <td>2030.0</td>\n",
       "      <td>1960.0</td>\n",
       "      <td>1332.0</td>\n",
       "      <td>2054.0</td>\n",
       "      <td>1583.0</td>\n",
       "      <td>1751.0</td>\n",
       "      <td>1964.0</td>\n",
       "    </tr>\n",
       "    <tr>\n",
       "      <th>13</th>\n",
       "      <td>2013Q2 Price per square meter (EUR/m2)</td>\n",
       "      <td>5835.0</td>\n",
       "      <td>5973.0</td>\n",
       "      <td>3368.0</td>\n",
       "      <td>4845.0</td>\n",
       "      <td>4402.0</td>\n",
       "      <td>3183.0</td>\n",
       "      <td>2916.0</td>\n",
       "      <td>2283.0</td>\n",
       "      <td>2931.0</td>\n",
       "      <td>...</td>\n",
       "      <td>3205.0</td>\n",
       "      <td>2116.0</td>\n",
       "      <td>2194.0</td>\n",
       "      <td>1877.0</td>\n",
       "      <td>1854.0</td>\n",
       "      <td>1331.0</td>\n",
       "      <td>2165.0</td>\n",
       "      <td>1695.0</td>\n",
       "      <td>1665.0</td>\n",
       "      <td>2295.0</td>\n",
       "    </tr>\n",
       "    <tr>\n",
       "      <th>14</th>\n",
       "      <td>2013Q3 Price per square meter (EUR/m2)</td>\n",
       "      <td>6351.0</td>\n",
       "      <td>5492.0</td>\n",
       "      <td>3338.0</td>\n",
       "      <td>5119.0</td>\n",
       "      <td>4637.0</td>\n",
       "      <td>3559.0</td>\n",
       "      <td>2845.0</td>\n",
       "      <td>2329.0</td>\n",
       "      <td>3078.0</td>\n",
       "      <td>...</td>\n",
       "      <td>3284.0</td>\n",
       "      <td>2451.0</td>\n",
       "      <td>2192.0</td>\n",
       "      <td>1906.0</td>\n",
       "      <td>1979.0</td>\n",
       "      <td>1308.0</td>\n",
       "      <td>2098.0</td>\n",
       "      <td>2022.0</td>\n",
       "      <td>1769.0</td>\n",
       "      <td>2340.0</td>\n",
       "    </tr>\n",
       "    <tr>\n",
       "      <th>15</th>\n",
       "      <td>2013Q4 Price per square meter (EUR/m2)</td>\n",
       "      <td>6084.0</td>\n",
       "      <td>5992.0</td>\n",
       "      <td>3111.0</td>\n",
       "      <td>5114.0</td>\n",
       "      <td>4306.0</td>\n",
       "      <td>3306.0</td>\n",
       "      <td>2812.0</td>\n",
       "      <td>2368.0</td>\n",
       "      <td>3013.0</td>\n",
       "      <td>...</td>\n",
       "      <td>3350.0</td>\n",
       "      <td>2051.0</td>\n",
       "      <td>2126.0</td>\n",
       "      <td>1883.0</td>\n",
       "      <td>2176.0</td>\n",
       "      <td>1354.0</td>\n",
       "      <td>1812.0</td>\n",
       "      <td>2219.0</td>\n",
       "      <td>1784.0</td>\n",
       "      <td>2280.0</td>\n",
       "    </tr>\n",
       "    <tr>\n",
       "      <th>16</th>\n",
       "      <td>2014Q1 Price per square meter (EUR/m2)</td>\n",
       "      <td>5932.0</td>\n",
       "      <td>5884.0</td>\n",
       "      <td>3364.0</td>\n",
       "      <td>5137.0</td>\n",
       "      <td>4092.0</td>\n",
       "      <td>3219.0</td>\n",
       "      <td>2865.0</td>\n",
       "      <td>2484.0</td>\n",
       "      <td>2993.0</td>\n",
       "      <td>...</td>\n",
       "      <td>3018.0</td>\n",
       "      <td>2193.0</td>\n",
       "      <td>2240.0</td>\n",
       "      <td>1922.0</td>\n",
       "      <td>2224.0</td>\n",
       "      <td>1329.0</td>\n",
       "      <td>2356.0</td>\n",
       "      <td>1799.0</td>\n",
       "      <td>1653.0</td>\n",
       "      <td>1957.0</td>\n",
       "    </tr>\n",
       "    <tr>\n",
       "      <th>17</th>\n",
       "      <td>2014Q2 Price per square meter (EUR/m2)</td>\n",
       "      <td>6021.0</td>\n",
       "      <td>5861.0</td>\n",
       "      <td>3413.0</td>\n",
       "      <td>5090.0</td>\n",
       "      <td>4367.0</td>\n",
       "      <td>3384.0</td>\n",
       "      <td>2826.0</td>\n",
       "      <td>2157.0</td>\n",
       "      <td>3177.0</td>\n",
       "      <td>...</td>\n",
       "      <td>3281.0</td>\n",
       "      <td>2303.0</td>\n",
       "      <td>2223.0</td>\n",
       "      <td>1952.0</td>\n",
       "      <td>1888.0</td>\n",
       "      <td>1328.0</td>\n",
       "      <td>2219.0</td>\n",
       "      <td>1799.0</td>\n",
       "      <td>1485.0</td>\n",
       "      <td>2078.0</td>\n",
       "    </tr>\n",
       "    <tr>\n",
       "      <th>18</th>\n",
       "      <td>2014Q3 Price per square meter (EUR/m2)</td>\n",
       "      <td>6275.0</td>\n",
       "      <td>5911.0</td>\n",
       "      <td>3225.0</td>\n",
       "      <td>5327.0</td>\n",
       "      <td>4680.0</td>\n",
       "      <td>3250.0</td>\n",
       "      <td>3080.0</td>\n",
       "      <td>2073.0</td>\n",
       "      <td>3091.0</td>\n",
       "      <td>...</td>\n",
       "      <td>3287.0</td>\n",
       "      <td>2180.0</td>\n",
       "      <td>2229.0</td>\n",
       "      <td>2065.0</td>\n",
       "      <td>2024.0</td>\n",
       "      <td>1271.0</td>\n",
       "      <td>2220.0</td>\n",
       "      <td>1713.0</td>\n",
       "      <td>1531.0</td>\n",
       "      <td>2237.0</td>\n",
       "    </tr>\n",
       "    <tr>\n",
       "      <th>19</th>\n",
       "      <td>2014Q4 Price per square meter (EUR/m2)</td>\n",
       "      <td>6347.0</td>\n",
       "      <td>5764.0</td>\n",
       "      <td>3583.0</td>\n",
       "      <td>4931.0</td>\n",
       "      <td>4316.0</td>\n",
       "      <td>3696.0</td>\n",
       "      <td>2863.0</td>\n",
       "      <td>2319.0</td>\n",
       "      <td>2963.0</td>\n",
       "      <td>...</td>\n",
       "      <td>3065.0</td>\n",
       "      <td>2228.0</td>\n",
       "      <td>2357.0</td>\n",
       "      <td>1842.0</td>\n",
       "      <td>2054.0</td>\n",
       "      <td>1247.0</td>\n",
       "      <td>2108.0</td>\n",
       "      <td>1599.0</td>\n",
       "      <td>1620.0</td>\n",
       "      <td>2125.0</td>\n",
       "    </tr>\n",
       "    <tr>\n",
       "      <th>20</th>\n",
       "      <td>2015Q1 Price per square meter (EUR/m2)</td>\n",
       "      <td>6124.0</td>\n",
       "      <td>6119.0</td>\n",
       "      <td>3484.0</td>\n",
       "      <td>5372.0</td>\n",
       "      <td>4436.0</td>\n",
       "      <td>3349.0</td>\n",
       "      <td>3073.0</td>\n",
       "      <td>2407.0</td>\n",
       "      <td>3138.0</td>\n",
       "      <td>...</td>\n",
       "      <td>3318.0</td>\n",
       "      <td>2178.0</td>\n",
       "      <td>2227.0</td>\n",
       "      <td>1905.0</td>\n",
       "      <td>2042.0</td>\n",
       "      <td>1259.0</td>\n",
       "      <td>2127.0</td>\n",
       "      <td>1884.0</td>\n",
       "      <td>1930.0</td>\n",
       "      <td>2008.0</td>\n",
       "    </tr>\n",
       "    <tr>\n",
       "      <th>21</th>\n",
       "      <td>2015Q2 Price per square meter (EUR/m2)</td>\n",
       "      <td>6050.0</td>\n",
       "      <td>5969.0</td>\n",
       "      <td>3305.0</td>\n",
       "      <td>5144.0</td>\n",
       "      <td>4822.0</td>\n",
       "      <td>3383.0</td>\n",
       "      <td>3083.0</td>\n",
       "      <td>2033.0</td>\n",
       "      <td>3218.0</td>\n",
       "      <td>...</td>\n",
       "      <td>3289.0</td>\n",
       "      <td>2230.0</td>\n",
       "      <td>2261.0</td>\n",
       "      <td>1975.0</td>\n",
       "      <td>1887.0</td>\n",
       "      <td>1290.0</td>\n",
       "      <td>2373.0</td>\n",
       "      <td>1838.0</td>\n",
       "      <td>1742.0</td>\n",
       "      <td>2126.0</td>\n",
       "    </tr>\n",
       "    <tr>\n",
       "      <th>22</th>\n",
       "      <td>2015Q3 Price per square meter (EUR/m2)</td>\n",
       "      <td>6234.0</td>\n",
       "      <td>5610.0</td>\n",
       "      <td>3387.0</td>\n",
       "      <td>5453.0</td>\n",
       "      <td>5010.0</td>\n",
       "      <td>3265.0</td>\n",
       "      <td>2919.0</td>\n",
       "      <td>2336.0</td>\n",
       "      <td>3166.0</td>\n",
       "      <td>...</td>\n",
       "      <td>3377.0</td>\n",
       "      <td>2259.0</td>\n",
       "      <td>2145.0</td>\n",
       "      <td>1792.0</td>\n",
       "      <td>2167.0</td>\n",
       "      <td>1216.0</td>\n",
       "      <td>1425.0</td>\n",
       "      <td>1789.0</td>\n",
       "      <td>1451.0</td>\n",
       "      <td>2305.0</td>\n",
       "    </tr>\n",
       "    <tr>\n",
       "      <th>23</th>\n",
       "      <td>2015Q4 Price per square meter (EUR/m2)</td>\n",
       "      <td>6138.0</td>\n",
       "      <td>5822.0</td>\n",
       "      <td>3616.0</td>\n",
       "      <td>5279.0</td>\n",
       "      <td>4868.0</td>\n",
       "      <td>3213.0</td>\n",
       "      <td>2724.0</td>\n",
       "      <td>2168.0</td>\n",
       "      <td>2939.0</td>\n",
       "      <td>...</td>\n",
       "      <td>3265.0</td>\n",
       "      <td>2224.0</td>\n",
       "      <td>2260.0</td>\n",
       "      <td>1775.0</td>\n",
       "      <td>1960.0</td>\n",
       "      <td>1178.0</td>\n",
       "      <td>1953.0</td>\n",
       "      <td>1972.0</td>\n",
       "      <td>1993.0</td>\n",
       "      <td>2141.0</td>\n",
       "    </tr>\n",
       "    <tr>\n",
       "      <th>24</th>\n",
       "      <td>2016Q1 Price per square meter (EUR/m2)</td>\n",
       "      <td>6312.0</td>\n",
       "      <td>5925.0</td>\n",
       "      <td>3780.0</td>\n",
       "      <td>5344.0</td>\n",
       "      <td>4872.0</td>\n",
       "      <td>3681.0</td>\n",
       "      <td>3081.0</td>\n",
       "      <td>1977.0</td>\n",
       "      <td>2864.0</td>\n",
       "      <td>...</td>\n",
       "      <td>3161.0</td>\n",
       "      <td>2082.0</td>\n",
       "      <td>2274.0</td>\n",
       "      <td>1817.0</td>\n",
       "      <td>2078.0</td>\n",
       "      <td>1395.0</td>\n",
       "      <td>1794.0</td>\n",
       "      <td>1800.0</td>\n",
       "      <td>2010.0</td>\n",
       "      <td>2043.0</td>\n",
       "    </tr>\n",
       "    <tr>\n",
       "      <th>25</th>\n",
       "      <td>2016Q2 Price per square meter (EUR/m2)</td>\n",
       "      <td>6304.0</td>\n",
       "      <td>5884.0</td>\n",
       "      <td>3626.0</td>\n",
       "      <td>5516.0</td>\n",
       "      <td>4826.0</td>\n",
       "      <td>2767.0</td>\n",
       "      <td>3145.0</td>\n",
       "      <td>2254.0</td>\n",
       "      <td>2948.0</td>\n",
       "      <td>...</td>\n",
       "      <td>3373.0</td>\n",
       "      <td>2240.0</td>\n",
       "      <td>2273.0</td>\n",
       "      <td>1956.0</td>\n",
       "      <td>2124.0</td>\n",
       "      <td>1163.0</td>\n",
       "      <td>2288.0</td>\n",
       "      <td>1696.0</td>\n",
       "      <td>1642.0</td>\n",
       "      <td>2336.0</td>\n",
       "    </tr>\n",
       "    <tr>\n",
       "      <th>26</th>\n",
       "      <td>2016Q3 Price per square meter (EUR/m2)</td>\n",
       "      <td>4905.0</td>\n",
       "      <td>5737.0</td>\n",
       "      <td>4052.0</td>\n",
       "      <td>5777.0</td>\n",
       "      <td>4584.0</td>\n",
       "      <td>3209.0</td>\n",
       "      <td>2934.0</td>\n",
       "      <td>2239.0</td>\n",
       "      <td>3004.0</td>\n",
       "      <td>...</td>\n",
       "      <td>3532.0</td>\n",
       "      <td>2050.0</td>\n",
       "      <td>2323.0</td>\n",
       "      <td>1892.0</td>\n",
       "      <td>2074.0</td>\n",
       "      <td>1313.0</td>\n",
       "      <td>2419.0</td>\n",
       "      <td>1431.0</td>\n",
       "      <td>1131.0</td>\n",
       "      <td>2026.0</td>\n",
       "    </tr>\n",
       "    <tr>\n",
       "      <th>27</th>\n",
       "      <td>2016Q4 Price per square meter (EUR/m2)</td>\n",
       "      <td>6241.0</td>\n",
       "      <td>6289.0</td>\n",
       "      <td>4094.0</td>\n",
       "      <td>5789.0</td>\n",
       "      <td>4819.0</td>\n",
       "      <td>2944.0</td>\n",
       "      <td>2876.0</td>\n",
       "      <td>2215.0</td>\n",
       "      <td>3212.0</td>\n",
       "      <td>...</td>\n",
       "      <td>3324.0</td>\n",
       "      <td>2327.0</td>\n",
       "      <td>2263.0</td>\n",
       "      <td>1850.0</td>\n",
       "      <td>1887.0</td>\n",
       "      <td>1134.0</td>\n",
       "      <td>2022.0</td>\n",
       "      <td>1856.0</td>\n",
       "      <td>1304.0</td>\n",
       "      <td>2172.0</td>\n",
       "    </tr>\n",
       "    <tr>\n",
       "      <th>28</th>\n",
       "      <td>2017Q1 Price per square meter (EUR/m2)</td>\n",
       "      <td>6368.0</td>\n",
       "      <td>6133.0</td>\n",
       "      <td>3600.0</td>\n",
       "      <td>5761.0</td>\n",
       "      <td>5026.0</td>\n",
       "      <td>3473.0</td>\n",
       "      <td>3270.0</td>\n",
       "      <td>2067.0</td>\n",
       "      <td>3032.0</td>\n",
       "      <td>...</td>\n",
       "      <td>3400.0</td>\n",
       "      <td>2143.0</td>\n",
       "      <td>2474.0</td>\n",
       "      <td>1899.0</td>\n",
       "      <td>2024.0</td>\n",
       "      <td>1211.0</td>\n",
       "      <td>1883.0</td>\n",
       "      <td>1906.0</td>\n",
       "      <td>1398.0</td>\n",
       "      <td>2291.0</td>\n",
       "    </tr>\n",
       "    <tr>\n",
       "      <th>29</th>\n",
       "      <td>2017Q2 Price per square meter (EUR/m2)</td>\n",
       "      <td>6595.0</td>\n",
       "      <td>6750.0</td>\n",
       "      <td>3589.0</td>\n",
       "      <td>5735.0</td>\n",
       "      <td>5060.0</td>\n",
       "      <td>2889.0</td>\n",
       "      <td>3115.0</td>\n",
       "      <td>2268.0</td>\n",
       "      <td>3225.0</td>\n",
       "      <td>...</td>\n",
       "      <td>3433.0</td>\n",
       "      <td>2041.0</td>\n",
       "      <td>2235.0</td>\n",
       "      <td>2002.0</td>\n",
       "      <td>2175.0</td>\n",
       "      <td>1187.0</td>\n",
       "      <td>1907.0</td>\n",
       "      <td>1604.0</td>\n",
       "      <td>1699.0</td>\n",
       "      <td>2244.0</td>\n",
       "    </tr>\n",
       "    <tr>\n",
       "      <th>30</th>\n",
       "      <td>2017Q3 Price per square meter (EUR/m2)</td>\n",
       "      <td>7078.0</td>\n",
       "      <td>6191.0</td>\n",
       "      <td>4197.0</td>\n",
       "      <td>5991.0</td>\n",
       "      <td>5165.0</td>\n",
       "      <td>3156.0</td>\n",
       "      <td>3576.0</td>\n",
       "      <td>2187.0</td>\n",
       "      <td>3251.0</td>\n",
       "      <td>...</td>\n",
       "      <td>3422.0</td>\n",
       "      <td>2395.0</td>\n",
       "      <td>2417.0</td>\n",
       "      <td>1971.0</td>\n",
       "      <td>1994.0</td>\n",
       "      <td>1299.0</td>\n",
       "      <td>2059.0</td>\n",
       "      <td>1844.0</td>\n",
       "      <td>1582.0</td>\n",
       "      <td>2280.0</td>\n",
       "    </tr>\n",
       "    <tr>\n",
       "      <th>31</th>\n",
       "      <td>2017Q4 Price per square meter (EUR/m2)</td>\n",
       "      <td>6953.0</td>\n",
       "      <td>6188.0</td>\n",
       "      <td>4084.0</td>\n",
       "      <td>5830.0</td>\n",
       "      <td>5102.0</td>\n",
       "      <td>3414.0</td>\n",
       "      <td>3124.0</td>\n",
       "      <td>2101.0</td>\n",
       "      <td>3252.0</td>\n",
       "      <td>...</td>\n",
       "      <td>3584.0</td>\n",
       "      <td>2440.0</td>\n",
       "      <td>2420.0</td>\n",
       "      <td>1892.0</td>\n",
       "      <td>2327.0</td>\n",
       "      <td>1343.0</td>\n",
       "      <td>2332.0</td>\n",
       "      <td>1901.0</td>\n",
       "      <td>1713.0</td>\n",
       "      <td>2381.0</td>\n",
       "    </tr>\n",
       "    <tr>\n",
       "      <th>32</th>\n",
       "      <td>2018Q1 Price per square meter (EUR/m2)</td>\n",
       "      <td>6852.0</td>\n",
       "      <td>6227.0</td>\n",
       "      <td>4310.0</td>\n",
       "      <td>5931.0</td>\n",
       "      <td>5388.0</td>\n",
       "      <td>3297.0</td>\n",
       "      <td>3411.0</td>\n",
       "      <td>2290.0</td>\n",
       "      <td>3403.0</td>\n",
       "      <td>...</td>\n",
       "      <td>3792.0</td>\n",
       "      <td>2175.0</td>\n",
       "      <td>2393.0</td>\n",
       "      <td>2137.0</td>\n",
       "      <td>1946.0</td>\n",
       "      <td>1291.0</td>\n",
       "      <td>2033.0</td>\n",
       "      <td>1881.0</td>\n",
       "      <td>1647.0</td>\n",
       "      <td>2124.0</td>\n",
       "    </tr>\n",
       "    <tr>\n",
       "      <th>33</th>\n",
       "      <td>2018Q2 Price per square meter (EUR/m2)</td>\n",
       "      <td>7168.0</td>\n",
       "      <td>6483.0</td>\n",
       "      <td>4305.0</td>\n",
       "      <td>6163.0</td>\n",
       "      <td>5705.0</td>\n",
       "      <td>3325.0</td>\n",
       "      <td>3443.0</td>\n",
       "      <td>2088.0</td>\n",
       "      <td>3242.0</td>\n",
       "      <td>...</td>\n",
       "      <td>3714.0</td>\n",
       "      <td>2304.0</td>\n",
       "      <td>2428.0</td>\n",
       "      <td>1984.0</td>\n",
       "      <td>2022.0</td>\n",
       "      <td>1188.0</td>\n",
       "      <td>2503.0</td>\n",
       "      <td>1333.0</td>\n",
       "      <td>1434.0</td>\n",
       "      <td>2272.0</td>\n",
       "    </tr>\n",
       "    <tr>\n",
       "      <th>34</th>\n",
       "      <td>2018Q3 Price per square meter (EUR/m2)</td>\n",
       "      <td>7016.0</td>\n",
       "      <td>6845.0</td>\n",
       "      <td>4166.0</td>\n",
       "      <td>6329.0</td>\n",
       "      <td>5664.0</td>\n",
       "      <td>3208.0</td>\n",
       "      <td>3596.0</td>\n",
       "      <td>2289.0</td>\n",
       "      <td>3583.0</td>\n",
       "      <td>...</td>\n",
       "      <td>3574.0</td>\n",
       "      <td>2326.0</td>\n",
       "      <td>2349.0</td>\n",
       "      <td>2055.0</td>\n",
       "      <td>2333.0</td>\n",
       "      <td>1352.0</td>\n",
       "      <td>2404.0</td>\n",
       "      <td>1880.0</td>\n",
       "      <td>1579.0</td>\n",
       "      <td>2370.0</td>\n",
       "    </tr>\n",
       "    <tr>\n",
       "      <th>35</th>\n",
       "      <td>2018Q4 Price per square meter (EUR/m2)</td>\n",
       "      <td>7115.0</td>\n",
       "      <td>6898.0</td>\n",
       "      <td>4213.0</td>\n",
       "      <td>6103.0</td>\n",
       "      <td>5595.0</td>\n",
       "      <td>3334.0</td>\n",
       "      <td>3544.0</td>\n",
       "      <td>2161.0</td>\n",
       "      <td>3276.0</td>\n",
       "      <td>...</td>\n",
       "      <td>3871.0</td>\n",
       "      <td>2223.0</td>\n",
       "      <td>2337.0</td>\n",
       "      <td>1961.0</td>\n",
       "      <td>2081.0</td>\n",
       "      <td>1151.0</td>\n",
       "      <td>2512.0</td>\n",
       "      <td>1467.0</td>\n",
       "      <td>1637.0</td>\n",
       "      <td>2232.0</td>\n",
       "    </tr>\n",
       "    <tr>\n",
       "      <th>36</th>\n",
       "      <td>2019Q1 Price per square meter (EUR/m2)</td>\n",
       "      <td>7043.0</td>\n",
       "      <td>6921.0</td>\n",
       "      <td>4652.0</td>\n",
       "      <td>6132.0</td>\n",
       "      <td>4922.0</td>\n",
       "      <td>3374.0</td>\n",
       "      <td>3487.0</td>\n",
       "      <td>2015.0</td>\n",
       "      <td>3465.0</td>\n",
       "      <td>...</td>\n",
       "      <td>3679.0</td>\n",
       "      <td>2305.0</td>\n",
       "      <td>2482.0</td>\n",
       "      <td>1982.0</td>\n",
       "      <td>2003.0</td>\n",
       "      <td>1366.0</td>\n",
       "      <td>1954.0</td>\n",
       "      <td>2026.0</td>\n",
       "      <td>1186.0</td>\n",
       "      <td>2418.0</td>\n",
       "    </tr>\n",
       "    <tr>\n",
       "      <th>37</th>\n",
       "      <td>2019Q2 Price per square meter (EUR/m2)</td>\n",
       "      <td>7478.0</td>\n",
       "      <td>6877.0</td>\n",
       "      <td>4492.0</td>\n",
       "      <td>6375.0</td>\n",
       "      <td>5206.0</td>\n",
       "      <td>3390.0</td>\n",
       "      <td>3741.0</td>\n",
       "      <td>2068.0</td>\n",
       "      <td>3378.0</td>\n",
       "      <td>...</td>\n",
       "      <td>3496.0</td>\n",
       "      <td>2279.0</td>\n",
       "      <td>2311.0</td>\n",
       "      <td>2052.0</td>\n",
       "      <td>2188.0</td>\n",
       "      <td>1483.0</td>\n",
       "      <td>2558.0</td>\n",
       "      <td>1782.0</td>\n",
       "      <td>1863.0</td>\n",
       "      <td>2273.0</td>\n",
       "    </tr>\n",
       "    <tr>\n",
       "      <th>38</th>\n",
       "      <td>2019Q3 Price per square meter (EUR/m2)</td>\n",
       "      <td>7476.0</td>\n",
       "      <td>6652.0</td>\n",
       "      <td>4464.0</td>\n",
       "      <td>6291.0</td>\n",
       "      <td>5331.0</td>\n",
       "      <td>3419.0</td>\n",
       "      <td>3794.0</td>\n",
       "      <td>2301.0</td>\n",
       "      <td>3314.0</td>\n",
       "      <td>...</td>\n",
       "      <td>3762.0</td>\n",
       "      <td>2279.0</td>\n",
       "      <td>2506.0</td>\n",
       "      <td>2108.0</td>\n",
       "      <td>2110.0</td>\n",
       "      <td>1270.0</td>\n",
       "      <td>2492.0</td>\n",
       "      <td>2005.0</td>\n",
       "      <td>1295.0</td>\n",
       "      <td>2153.0</td>\n",
       "    </tr>\n",
       "    <tr>\n",
       "      <th>39</th>\n",
       "      <td>2019Q4 Price per square meter (EUR/m2)</td>\n",
       "      <td>7345.0</td>\n",
       "      <td>6844.0</td>\n",
       "      <td>4345.0</td>\n",
       "      <td>6406.0</td>\n",
       "      <td>5434.0</td>\n",
       "      <td>3072.0</td>\n",
       "      <td>3479.0</td>\n",
       "      <td>2116.0</td>\n",
       "      <td>3464.0</td>\n",
       "      <td>...</td>\n",
       "      <td>3817.0</td>\n",
       "      <td>2185.0</td>\n",
       "      <td>2093.0</td>\n",
       "      <td>2162.0</td>\n",
       "      <td>2482.0</td>\n",
       "      <td>1223.0</td>\n",
       "      <td>2251.0</td>\n",
       "      <td>1653.0</td>\n",
       "      <td>1778.0</td>\n",
       "      <td>2294.0</td>\n",
       "    </tr>\n",
       "    <tr>\n",
       "      <th>40</th>\n",
       "      <td>2020Q1 Price per square meter (EUR/m2)</td>\n",
       "      <td>7460.0</td>\n",
       "      <td>7494.0</td>\n",
       "      <td>4449.0</td>\n",
       "      <td>6827.0</td>\n",
       "      <td>5435.0</td>\n",
       "      <td>3747.0</td>\n",
       "      <td>3787.0</td>\n",
       "      <td>1953.0</td>\n",
       "      <td>3739.0</td>\n",
       "      <td>...</td>\n",
       "      <td>3743.0</td>\n",
       "      <td>2473.0</td>\n",
       "      <td>2526.0</td>\n",
       "      <td>2035.0</td>\n",
       "      <td>2199.0</td>\n",
       "      <td>1406.0</td>\n",
       "      <td>2168.0</td>\n",
       "      <td>1987.0</td>\n",
       "      <td>1694.0</td>\n",
       "      <td>2430.0</td>\n",
       "    </tr>\n",
       "    <tr>\n",
       "      <th>41</th>\n",
       "      <td>2020Q2 Price per square meter (EUR/m2)</td>\n",
       "      <td>7275.0</td>\n",
       "      <td>7486.0</td>\n",
       "      <td>4728.0</td>\n",
       "      <td>7010.0</td>\n",
       "      <td>5711.0</td>\n",
       "      <td>4008.0</td>\n",
       "      <td>3709.0</td>\n",
       "      <td>2291.0</td>\n",
       "      <td>3883.0</td>\n",
       "      <td>...</td>\n",
       "      <td>4002.0</td>\n",
       "      <td>2372.0</td>\n",
       "      <td>2469.0</td>\n",
       "      <td>2238.0</td>\n",
       "      <td>2127.0</td>\n",
       "      <td>1203.0</td>\n",
       "      <td>3029.0</td>\n",
       "      <td>2043.0</td>\n",
       "      <td>1623.0</td>\n",
       "      <td>2049.0</td>\n",
       "    </tr>\n",
       "    <tr>\n",
       "      <th>42</th>\n",
       "      <td>2020Q3 Price per square meter (EUR/m2)</td>\n",
       "      <td>8058.0</td>\n",
       "      <td>7047.0</td>\n",
       "      <td>4539.0</td>\n",
       "      <td>6799.0</td>\n",
       "      <td>5638.0</td>\n",
       "      <td>3581.0</td>\n",
       "      <td>3930.0</td>\n",
       "      <td>2321.0</td>\n",
       "      <td>3690.0</td>\n",
       "      <td>...</td>\n",
       "      <td>3940.0</td>\n",
       "      <td>2283.0</td>\n",
       "      <td>2558.0</td>\n",
       "      <td>2204.0</td>\n",
       "      <td>2198.0</td>\n",
       "      <td>1230.0</td>\n",
       "      <td>2313.0</td>\n",
       "      <td>1837.0</td>\n",
       "      <td>1634.0</td>\n",
       "      <td>2111.0</td>\n",
       "    </tr>\n",
       "    <tr>\n",
       "      <th>43</th>\n",
       "      <td>2020Q4 Price per square meter (EUR/m2)</td>\n",
       "      <td>7540.0</td>\n",
       "      <td>7506.0</td>\n",
       "      <td>4577.0</td>\n",
       "      <td>6648.0</td>\n",
       "      <td>5668.0</td>\n",
       "      <td>3993.0</td>\n",
       "      <td>4180.0</td>\n",
       "      <td>2138.0</td>\n",
       "      <td>3718.0</td>\n",
       "      <td>...</td>\n",
       "      <td>3813.0</td>\n",
       "      <td>2466.0</td>\n",
       "      <td>2657.0</td>\n",
       "      <td>2010.0</td>\n",
       "      <td>2118.0</td>\n",
       "      <td>1486.0</td>\n",
       "      <td>2377.0</td>\n",
       "      <td>1775.0</td>\n",
       "      <td>1463.0</td>\n",
       "      <td>2218.0</td>\n",
       "    </tr>\n",
       "    <tr>\n",
       "      <th>44</th>\n",
       "      <td>2021Q1* Price per square meter (EUR/m2)</td>\n",
       "      <td>8188.0</td>\n",
       "      <td>7849.0</td>\n",
       "      <td>4631.0</td>\n",
       "      <td>7013.0</td>\n",
       "      <td>5673.0</td>\n",
       "      <td>3683.0</td>\n",
       "      <td>4065.0</td>\n",
       "      <td>2258.0</td>\n",
       "      <td>4030.0</td>\n",
       "      <td>...</td>\n",
       "      <td>4240.0</td>\n",
       "      <td>2380.0</td>\n",
       "      <td>2914.0</td>\n",
       "      <td>2237.0</td>\n",
       "      <td>2416.0</td>\n",
       "      <td>1255.0</td>\n",
       "      <td>2401.0</td>\n",
       "      <td>1802.0</td>\n",
       "      <td>1747.0</td>\n",
       "      <td>2252.0</td>\n",
       "    </tr>\n",
       "    <tr>\n",
       "      <th>45</th>\n",
       "      <td>2021Q2* Price per square meter (EUR/m2)</td>\n",
       "      <td>8188.0</td>\n",
       "      <td>7903.0</td>\n",
       "      <td>4979.0</td>\n",
       "      <td>7098.0</td>\n",
       "      <td>6282.0</td>\n",
       "      <td>4006.0</td>\n",
       "      <td>4460.0</td>\n",
       "      <td>2255.0</td>\n",
       "      <td>3830.0</td>\n",
       "      <td>...</td>\n",
       "      <td>4370.0</td>\n",
       "      <td>2519.0</td>\n",
       "      <td>2759.0</td>\n",
       "      <td>2317.0</td>\n",
       "      <td>2249.0</td>\n",
       "      <td>1497.0</td>\n",
       "      <td>2260.0</td>\n",
       "      <td>2441.0</td>\n",
       "      <td>1662.0</td>\n",
       "      <td>1995.0</td>\n",
       "    </tr>\n",
       "  </tbody>\n",
       "</table>\n",
       "<p>46 rows × 38 columns</p>\n",
       "</div>"
      ],
      "text/plain": [
       "                                       time   00100   00260   00360   00500  \\\n",
       "0    2010Q1 Price per square meter (EUR/m2)  5168.0  4873.0  2756.0  4058.0   \n",
       "1    2010Q2 Price per square meter (EUR/m2)  5219.0  5086.0  3051.0  4111.0   \n",
       "2    2010Q3 Price per square meter (EUR/m2)  5181.0  4939.0  2889.0  4247.0   \n",
       "3    2010Q4 Price per square meter (EUR/m2)  5269.0  4906.0  3037.0  4226.0   \n",
       "4    2011Q1 Price per square meter (EUR/m2)  5632.0  5272.0  3188.0  4342.0   \n",
       "5    2011Q2 Price per square meter (EUR/m2)  5807.0  5538.0  3070.0  4281.0   \n",
       "6    2011Q3 Price per square meter (EUR/m2)  5630.0  5166.0  2923.0  4420.0   \n",
       "7    2011Q4 Price per square meter (EUR/m2)  5511.0  5262.0  3052.0  4459.0   \n",
       "8    2012Q1 Price per square meter (EUR/m2)  5843.0  5122.0  3020.0  4429.0   \n",
       "9    2012Q2 Price per square meter (EUR/m2)  5899.0  5353.0  3184.0  4533.0   \n",
       "10   2012Q3 Price per square meter (EUR/m2)  5965.0  5681.0  3272.0  4620.0   \n",
       "11   2012Q4 Price per square meter (EUR/m2)  5766.0  5551.0  3394.0  4845.0   \n",
       "12   2013Q1 Price per square meter (EUR/m2)  5865.0  5664.0  3337.0  4794.0   \n",
       "13   2013Q2 Price per square meter (EUR/m2)  5835.0  5973.0  3368.0  4845.0   \n",
       "14   2013Q3 Price per square meter (EUR/m2)  6351.0  5492.0  3338.0  5119.0   \n",
       "15   2013Q4 Price per square meter (EUR/m2)  6084.0  5992.0  3111.0  5114.0   \n",
       "16   2014Q1 Price per square meter (EUR/m2)  5932.0  5884.0  3364.0  5137.0   \n",
       "17   2014Q2 Price per square meter (EUR/m2)  6021.0  5861.0  3413.0  5090.0   \n",
       "18   2014Q3 Price per square meter (EUR/m2)  6275.0  5911.0  3225.0  5327.0   \n",
       "19   2014Q4 Price per square meter (EUR/m2)  6347.0  5764.0  3583.0  4931.0   \n",
       "20   2015Q1 Price per square meter (EUR/m2)  6124.0  6119.0  3484.0  5372.0   \n",
       "21   2015Q2 Price per square meter (EUR/m2)  6050.0  5969.0  3305.0  5144.0   \n",
       "22   2015Q3 Price per square meter (EUR/m2)  6234.0  5610.0  3387.0  5453.0   \n",
       "23   2015Q4 Price per square meter (EUR/m2)  6138.0  5822.0  3616.0  5279.0   \n",
       "24   2016Q1 Price per square meter (EUR/m2)  6312.0  5925.0  3780.0  5344.0   \n",
       "25   2016Q2 Price per square meter (EUR/m2)  6304.0  5884.0  3626.0  5516.0   \n",
       "26   2016Q3 Price per square meter (EUR/m2)  4905.0  5737.0  4052.0  5777.0   \n",
       "27   2016Q4 Price per square meter (EUR/m2)  6241.0  6289.0  4094.0  5789.0   \n",
       "28   2017Q1 Price per square meter (EUR/m2)  6368.0  6133.0  3600.0  5761.0   \n",
       "29   2017Q2 Price per square meter (EUR/m2)  6595.0  6750.0  3589.0  5735.0   \n",
       "30   2017Q3 Price per square meter (EUR/m2)  7078.0  6191.0  4197.0  5991.0   \n",
       "31   2017Q4 Price per square meter (EUR/m2)  6953.0  6188.0  4084.0  5830.0   \n",
       "32   2018Q1 Price per square meter (EUR/m2)  6852.0  6227.0  4310.0  5931.0   \n",
       "33   2018Q2 Price per square meter (EUR/m2)  7168.0  6483.0  4305.0  6163.0   \n",
       "34   2018Q3 Price per square meter (EUR/m2)  7016.0  6845.0  4166.0  6329.0   \n",
       "35   2018Q4 Price per square meter (EUR/m2)  7115.0  6898.0  4213.0  6103.0   \n",
       "36   2019Q1 Price per square meter (EUR/m2)  7043.0  6921.0  4652.0  6132.0   \n",
       "37   2019Q2 Price per square meter (EUR/m2)  7478.0  6877.0  4492.0  6375.0   \n",
       "38   2019Q3 Price per square meter (EUR/m2)  7476.0  6652.0  4464.0  6291.0   \n",
       "39   2019Q4 Price per square meter (EUR/m2)  7345.0  6844.0  4345.0  6406.0   \n",
       "40   2020Q1 Price per square meter (EUR/m2)  7460.0  7494.0  4449.0  6827.0   \n",
       "41   2020Q2 Price per square meter (EUR/m2)  7275.0  7486.0  4728.0  7010.0   \n",
       "42   2020Q3 Price per square meter (EUR/m2)  8058.0  7047.0  4539.0  6799.0   \n",
       "43   2020Q4 Price per square meter (EUR/m2)  7540.0  7506.0  4577.0  6648.0   \n",
       "44  2021Q1* Price per square meter (EUR/m2)  8188.0  7849.0  4631.0  7013.0   \n",
       "45  2021Q2* Price per square meter (EUR/m2)  8188.0  7903.0  4979.0  7098.0   \n",
       "\n",
       "     00520   00730   00820   01280   01300  ...   33200   33560   33580  \\\n",
       "0   3317.0  3006.0  2652.0  2098.0  2616.0  ...  2827.0  1951.0  2152.0   \n",
       "1   3706.0  3070.0  2561.0  2045.0  2688.0  ...  3094.0  1816.0  2039.0   \n",
       "2   3672.0  2944.0  2632.0  2210.0  2814.0  ...  3001.0  2081.0  1978.0   \n",
       "3   3681.0  3046.0  2580.0  2359.0  2727.0  ...  2990.0  1963.0  2102.0   \n",
       "4   3654.0  3061.0  2793.0  2165.0  2734.0  ...  3122.0  2142.0  2181.0   \n",
       "5   3864.0  2840.0  2717.0  2227.0  2869.0  ...  3107.0  2125.0  2228.0   \n",
       "6   4285.0  3189.0  2723.0  2123.0  2846.0  ...  3127.0  2219.0  2179.0   \n",
       "7   3898.0  2969.0  2663.0  2454.0  2667.0  ...  2890.0  2198.0  2039.0   \n",
       "8   3854.0  3147.0  2765.0  2358.0  3020.0  ...  2756.0  2174.0  2135.0   \n",
       "9   4057.0  3054.0  2844.0  2161.0  2933.0  ...  3065.0  2070.0  2281.0   \n",
       "10  4045.0  2966.0  2920.0  2323.0  2935.0  ...  3249.0  2356.0  2232.0   \n",
       "11  4280.0  3075.0  2850.0  2284.0  3088.0  ...  3169.0  2312.0  2364.0   \n",
       "12  4514.0  3207.0  2853.0  2202.0  2844.0  ...  3087.0  2116.0  2131.0   \n",
       "13  4402.0  3183.0  2916.0  2283.0  2931.0  ...  3205.0  2116.0  2194.0   \n",
       "14  4637.0  3559.0  2845.0  2329.0  3078.0  ...  3284.0  2451.0  2192.0   \n",
       "15  4306.0  3306.0  2812.0  2368.0  3013.0  ...  3350.0  2051.0  2126.0   \n",
       "16  4092.0  3219.0  2865.0  2484.0  2993.0  ...  3018.0  2193.0  2240.0   \n",
       "17  4367.0  3384.0  2826.0  2157.0  3177.0  ...  3281.0  2303.0  2223.0   \n",
       "18  4680.0  3250.0  3080.0  2073.0  3091.0  ...  3287.0  2180.0  2229.0   \n",
       "19  4316.0  3696.0  2863.0  2319.0  2963.0  ...  3065.0  2228.0  2357.0   \n",
       "20  4436.0  3349.0  3073.0  2407.0  3138.0  ...  3318.0  2178.0  2227.0   \n",
       "21  4822.0  3383.0  3083.0  2033.0  3218.0  ...  3289.0  2230.0  2261.0   \n",
       "22  5010.0  3265.0  2919.0  2336.0  3166.0  ...  3377.0  2259.0  2145.0   \n",
       "23  4868.0  3213.0  2724.0  2168.0  2939.0  ...  3265.0  2224.0  2260.0   \n",
       "24  4872.0  3681.0  3081.0  1977.0  2864.0  ...  3161.0  2082.0  2274.0   \n",
       "25  4826.0  2767.0  3145.0  2254.0  2948.0  ...  3373.0  2240.0  2273.0   \n",
       "26  4584.0  3209.0  2934.0  2239.0  3004.0  ...  3532.0  2050.0  2323.0   \n",
       "27  4819.0  2944.0  2876.0  2215.0  3212.0  ...  3324.0  2327.0  2263.0   \n",
       "28  5026.0  3473.0  3270.0  2067.0  3032.0  ...  3400.0  2143.0  2474.0   \n",
       "29  5060.0  2889.0  3115.0  2268.0  3225.0  ...  3433.0  2041.0  2235.0   \n",
       "30  5165.0  3156.0  3576.0  2187.0  3251.0  ...  3422.0  2395.0  2417.0   \n",
       "31  5102.0  3414.0  3124.0  2101.0  3252.0  ...  3584.0  2440.0  2420.0   \n",
       "32  5388.0  3297.0  3411.0  2290.0  3403.0  ...  3792.0  2175.0  2393.0   \n",
       "33  5705.0  3325.0  3443.0  2088.0  3242.0  ...  3714.0  2304.0  2428.0   \n",
       "34  5664.0  3208.0  3596.0  2289.0  3583.0  ...  3574.0  2326.0  2349.0   \n",
       "35  5595.0  3334.0  3544.0  2161.0  3276.0  ...  3871.0  2223.0  2337.0   \n",
       "36  4922.0  3374.0  3487.0  2015.0  3465.0  ...  3679.0  2305.0  2482.0   \n",
       "37  5206.0  3390.0  3741.0  2068.0  3378.0  ...  3496.0  2279.0  2311.0   \n",
       "38  5331.0  3419.0  3794.0  2301.0  3314.0  ...  3762.0  2279.0  2506.0   \n",
       "39  5434.0  3072.0  3479.0  2116.0  3464.0  ...  3817.0  2185.0  2093.0   \n",
       "40  5435.0  3747.0  3787.0  1953.0  3739.0  ...  3743.0  2473.0  2526.0   \n",
       "41  5711.0  4008.0  3709.0  2291.0  3883.0  ...  4002.0  2372.0  2469.0   \n",
       "42  5638.0  3581.0  3930.0  2321.0  3690.0  ...  3940.0  2283.0  2558.0   \n",
       "43  5668.0  3993.0  4180.0  2138.0  3718.0  ...  3813.0  2466.0  2657.0   \n",
       "44  5673.0  3683.0  4065.0  2258.0  4030.0  ...  4240.0  2380.0  2914.0   \n",
       "45  6282.0  4006.0  4460.0  2255.0  3830.0  ...  4370.0  2519.0  2759.0   \n",
       "\n",
       "     33710   33820   33850   33960   36200   37120   40520  \n",
       "0   1760.0  1859.0  1227.0  1897.0  1747.0  1613.0  1968.0  \n",
       "1   1803.0  1970.0  1254.0  2026.0  1659.0  1542.0  2110.0  \n",
       "2   1851.0  1916.0  1338.0  1700.0  1851.0  1582.0  2096.0  \n",
       "3   1740.0  1980.0  1287.0  1881.0  1715.0  1745.0  2180.0  \n",
       "4   1838.0  1851.0  1398.0  1847.0  1836.0  1660.0  2116.0  \n",
       "5   1953.0  1780.0  1257.0  1926.0  1561.0  1627.0  2213.0  \n",
       "6   1775.0  1814.0  1313.0  1783.0  1884.0  1711.0  2004.0  \n",
       "7   1709.0  1749.0  1338.0  2043.0  1709.0  1577.0  2032.0  \n",
       "8   1800.0  1586.0  1316.0  2189.0  1822.0  1725.0  2127.0  \n",
       "9   1904.0  1876.0  1328.0  1991.0  2152.0  1703.0  2257.0  \n",
       "10  1834.0  1628.0  1287.0  2232.0  1938.0  1557.0  2146.0  \n",
       "11  1804.0  1786.0  1289.0  1992.0  1651.0  1553.0  2239.0  \n",
       "12  2030.0  1960.0  1332.0  2054.0  1583.0  1751.0  1964.0  \n",
       "13  1877.0  1854.0  1331.0  2165.0  1695.0  1665.0  2295.0  \n",
       "14  1906.0  1979.0  1308.0  2098.0  2022.0  1769.0  2340.0  \n",
       "15  1883.0  2176.0  1354.0  1812.0  2219.0  1784.0  2280.0  \n",
       "16  1922.0  2224.0  1329.0  2356.0  1799.0  1653.0  1957.0  \n",
       "17  1952.0  1888.0  1328.0  2219.0  1799.0  1485.0  2078.0  \n",
       "18  2065.0  2024.0  1271.0  2220.0  1713.0  1531.0  2237.0  \n",
       "19  1842.0  2054.0  1247.0  2108.0  1599.0  1620.0  2125.0  \n",
       "20  1905.0  2042.0  1259.0  2127.0  1884.0  1930.0  2008.0  \n",
       "21  1975.0  1887.0  1290.0  2373.0  1838.0  1742.0  2126.0  \n",
       "22  1792.0  2167.0  1216.0  1425.0  1789.0  1451.0  2305.0  \n",
       "23  1775.0  1960.0  1178.0  1953.0  1972.0  1993.0  2141.0  \n",
       "24  1817.0  2078.0  1395.0  1794.0  1800.0  2010.0  2043.0  \n",
       "25  1956.0  2124.0  1163.0  2288.0  1696.0  1642.0  2336.0  \n",
       "26  1892.0  2074.0  1313.0  2419.0  1431.0  1131.0  2026.0  \n",
       "27  1850.0  1887.0  1134.0  2022.0  1856.0  1304.0  2172.0  \n",
       "28  1899.0  2024.0  1211.0  1883.0  1906.0  1398.0  2291.0  \n",
       "29  2002.0  2175.0  1187.0  1907.0  1604.0  1699.0  2244.0  \n",
       "30  1971.0  1994.0  1299.0  2059.0  1844.0  1582.0  2280.0  \n",
       "31  1892.0  2327.0  1343.0  2332.0  1901.0  1713.0  2381.0  \n",
       "32  2137.0  1946.0  1291.0  2033.0  1881.0  1647.0  2124.0  \n",
       "33  1984.0  2022.0  1188.0  2503.0  1333.0  1434.0  2272.0  \n",
       "34  2055.0  2333.0  1352.0  2404.0  1880.0  1579.0  2370.0  \n",
       "35  1961.0  2081.0  1151.0  2512.0  1467.0  1637.0  2232.0  \n",
       "36  1982.0  2003.0  1366.0  1954.0  2026.0  1186.0  2418.0  \n",
       "37  2052.0  2188.0  1483.0  2558.0  1782.0  1863.0  2273.0  \n",
       "38  2108.0  2110.0  1270.0  2492.0  2005.0  1295.0  2153.0  \n",
       "39  2162.0  2482.0  1223.0  2251.0  1653.0  1778.0  2294.0  \n",
       "40  2035.0  2199.0  1406.0  2168.0  1987.0  1694.0  2430.0  \n",
       "41  2238.0  2127.0  1203.0  3029.0  2043.0  1623.0  2049.0  \n",
       "42  2204.0  2198.0  1230.0  2313.0  1837.0  1634.0  2111.0  \n",
       "43  2010.0  2118.0  1486.0  2377.0  1775.0  1463.0  2218.0  \n",
       "44  2237.0  2416.0  1255.0  2401.0  1802.0  1747.0  2252.0  \n",
       "45  2317.0  2249.0  1497.0  2260.0  2441.0  1662.0  1995.0  \n",
       "\n",
       "[46 rows x 38 columns]"
      ]
     },
     "execution_count": 36,
     "metadata": {},
     "output_type": "execute_result"
    }
   ],
   "source": [
    "df = pd.read_csv(\"../Bruce/no_nans.csv\")\n",
    "df"
   ]
  },
  {
   "cell_type": "code",
   "execution_count": 37,
   "id": "b9c818b7",
   "metadata": {},
   "outputs": [],
   "source": [
    "### Regex to change quarters to datetime\n",
    "import datetime as date\n",
    "\n",
    "def quarter_to_datetime(row):\n",
    "    dates = {\"Q1\": \"1/1\", \"Q2\":\"1/4\", \"Q3\":\"1/7\", \"Q4\":\"1/10\"}\n",
    "    string = row.replace(\"*\", \"\").split(\" \")[0]\n",
    "    year, quarter = string[:4], string[4:]\n",
    "    datetime_str = dates[quarter] + \"/\" + year\n",
    "    return date.datetime.strptime(datetime_str, '%d/%m/%Y')"
   ]
  },
  {
   "cell_type": "code",
   "execution_count": 38,
   "id": "d3db03e0",
   "metadata": {},
   "outputs": [],
   "source": [
    "df[\"time\"] = df[\"time\"].apply(lambda row: quarter_to_datetime(row))\n",
    "postal_codes = list(df.columns)[1:]"
   ]
  },
  {
   "cell_type": "code",
   "execution_count": 39,
   "id": "860642de",
   "metadata": {},
   "outputs": [
    {
     "data": {
      "text/html": [
       "<div>\n",
       "<style scoped>\n",
       "    .dataframe tbody tr th:only-of-type {\n",
       "        vertical-align: middle;\n",
       "    }\n",
       "\n",
       "    .dataframe tbody tr th {\n",
       "        vertical-align: top;\n",
       "    }\n",
       "\n",
       "    .dataframe thead th {\n",
       "        text-align: right;\n",
       "    }\n",
       "</style>\n",
       "<table border=\"1\" class=\"dataframe\">\n",
       "  <thead>\n",
       "    <tr style=\"text-align: right;\">\n",
       "      <th></th>\n",
       "      <th>time</th>\n",
       "      <th>00100</th>\n",
       "      <th>00260</th>\n",
       "      <th>00360</th>\n",
       "      <th>00500</th>\n",
       "      <th>00520</th>\n",
       "      <th>00730</th>\n",
       "      <th>00820</th>\n",
       "      <th>01280</th>\n",
       "      <th>01300</th>\n",
       "      <th>...</th>\n",
       "      <th>33200</th>\n",
       "      <th>33560</th>\n",
       "      <th>33580</th>\n",
       "      <th>33710</th>\n",
       "      <th>33820</th>\n",
       "      <th>33850</th>\n",
       "      <th>33960</th>\n",
       "      <th>36200</th>\n",
       "      <th>37120</th>\n",
       "      <th>40520</th>\n",
       "    </tr>\n",
       "  </thead>\n",
       "  <tbody>\n",
       "    <tr>\n",
       "      <th>0</th>\n",
       "      <td>2010-01-01</td>\n",
       "      <td>5168.0</td>\n",
       "      <td>4873.0</td>\n",
       "      <td>2756.0</td>\n",
       "      <td>4058.0</td>\n",
       "      <td>3317.0</td>\n",
       "      <td>3006.0</td>\n",
       "      <td>2652.0</td>\n",
       "      <td>2098.0</td>\n",
       "      <td>2616.0</td>\n",
       "      <td>...</td>\n",
       "      <td>2827.0</td>\n",
       "      <td>1951.0</td>\n",
       "      <td>2152.0</td>\n",
       "      <td>1760.0</td>\n",
       "      <td>1859.0</td>\n",
       "      <td>1227.0</td>\n",
       "      <td>1897.0</td>\n",
       "      <td>1747.0</td>\n",
       "      <td>1613.0</td>\n",
       "      <td>1968.0</td>\n",
       "    </tr>\n",
       "    <tr>\n",
       "      <th>1</th>\n",
       "      <td>2010-04-01</td>\n",
       "      <td>5219.0</td>\n",
       "      <td>5086.0</td>\n",
       "      <td>3051.0</td>\n",
       "      <td>4111.0</td>\n",
       "      <td>3706.0</td>\n",
       "      <td>3070.0</td>\n",
       "      <td>2561.0</td>\n",
       "      <td>2045.0</td>\n",
       "      <td>2688.0</td>\n",
       "      <td>...</td>\n",
       "      <td>3094.0</td>\n",
       "      <td>1816.0</td>\n",
       "      <td>2039.0</td>\n",
       "      <td>1803.0</td>\n",
       "      <td>1970.0</td>\n",
       "      <td>1254.0</td>\n",
       "      <td>2026.0</td>\n",
       "      <td>1659.0</td>\n",
       "      <td>1542.0</td>\n",
       "      <td>2110.0</td>\n",
       "    </tr>\n",
       "    <tr>\n",
       "      <th>2</th>\n",
       "      <td>2010-07-01</td>\n",
       "      <td>5181.0</td>\n",
       "      <td>4939.0</td>\n",
       "      <td>2889.0</td>\n",
       "      <td>4247.0</td>\n",
       "      <td>3672.0</td>\n",
       "      <td>2944.0</td>\n",
       "      <td>2632.0</td>\n",
       "      <td>2210.0</td>\n",
       "      <td>2814.0</td>\n",
       "      <td>...</td>\n",
       "      <td>3001.0</td>\n",
       "      <td>2081.0</td>\n",
       "      <td>1978.0</td>\n",
       "      <td>1851.0</td>\n",
       "      <td>1916.0</td>\n",
       "      <td>1338.0</td>\n",
       "      <td>1700.0</td>\n",
       "      <td>1851.0</td>\n",
       "      <td>1582.0</td>\n",
       "      <td>2096.0</td>\n",
       "    </tr>\n",
       "    <tr>\n",
       "      <th>3</th>\n",
       "      <td>2010-10-01</td>\n",
       "      <td>5269.0</td>\n",
       "      <td>4906.0</td>\n",
       "      <td>3037.0</td>\n",
       "      <td>4226.0</td>\n",
       "      <td>3681.0</td>\n",
       "      <td>3046.0</td>\n",
       "      <td>2580.0</td>\n",
       "      <td>2359.0</td>\n",
       "      <td>2727.0</td>\n",
       "      <td>...</td>\n",
       "      <td>2990.0</td>\n",
       "      <td>1963.0</td>\n",
       "      <td>2102.0</td>\n",
       "      <td>1740.0</td>\n",
       "      <td>1980.0</td>\n",
       "      <td>1287.0</td>\n",
       "      <td>1881.0</td>\n",
       "      <td>1715.0</td>\n",
       "      <td>1745.0</td>\n",
       "      <td>2180.0</td>\n",
       "    </tr>\n",
       "    <tr>\n",
       "      <th>4</th>\n",
       "      <td>2011-01-01</td>\n",
       "      <td>5632.0</td>\n",
       "      <td>5272.0</td>\n",
       "      <td>3188.0</td>\n",
       "      <td>4342.0</td>\n",
       "      <td>3654.0</td>\n",
       "      <td>3061.0</td>\n",
       "      <td>2793.0</td>\n",
       "      <td>2165.0</td>\n",
       "      <td>2734.0</td>\n",
       "      <td>...</td>\n",
       "      <td>3122.0</td>\n",
       "      <td>2142.0</td>\n",
       "      <td>2181.0</td>\n",
       "      <td>1838.0</td>\n",
       "      <td>1851.0</td>\n",
       "      <td>1398.0</td>\n",
       "      <td>1847.0</td>\n",
       "      <td>1836.0</td>\n",
       "      <td>1660.0</td>\n",
       "      <td>2116.0</td>\n",
       "    </tr>\n",
       "  </tbody>\n",
       "</table>\n",
       "<p>5 rows × 38 columns</p>\n",
       "</div>"
      ],
      "text/plain": [
       "        time   00100   00260   00360   00500   00520   00730   00820   01280  \\\n",
       "0 2010-01-01  5168.0  4873.0  2756.0  4058.0  3317.0  3006.0  2652.0  2098.0   \n",
       "1 2010-04-01  5219.0  5086.0  3051.0  4111.0  3706.0  3070.0  2561.0  2045.0   \n",
       "2 2010-07-01  5181.0  4939.0  2889.0  4247.0  3672.0  2944.0  2632.0  2210.0   \n",
       "3 2010-10-01  5269.0  4906.0  3037.0  4226.0  3681.0  3046.0  2580.0  2359.0   \n",
       "4 2011-01-01  5632.0  5272.0  3188.0  4342.0  3654.0  3061.0  2793.0  2165.0   \n",
       "\n",
       "    01300  ...   33200   33560   33580   33710   33820   33850   33960  \\\n",
       "0  2616.0  ...  2827.0  1951.0  2152.0  1760.0  1859.0  1227.0  1897.0   \n",
       "1  2688.0  ...  3094.0  1816.0  2039.0  1803.0  1970.0  1254.0  2026.0   \n",
       "2  2814.0  ...  3001.0  2081.0  1978.0  1851.0  1916.0  1338.0  1700.0   \n",
       "3  2727.0  ...  2990.0  1963.0  2102.0  1740.0  1980.0  1287.0  1881.0   \n",
       "4  2734.0  ...  3122.0  2142.0  2181.0  1838.0  1851.0  1398.0  1847.0   \n",
       "\n",
       "    36200   37120   40520  \n",
       "0  1747.0  1613.0  1968.0  \n",
       "1  1659.0  1542.0  2110.0  \n",
       "2  1851.0  1582.0  2096.0  \n",
       "3  1715.0  1745.0  2180.0  \n",
       "4  1836.0  1660.0  2116.0  \n",
       "\n",
       "[5 rows x 38 columns]"
      ]
     },
     "execution_count": 39,
     "metadata": {},
     "output_type": "execute_result"
    }
   ],
   "source": [
    "df.head()"
   ]
  },
  {
   "cell_type": "code",
   "execution_count": null,
   "id": "71700e51",
   "metadata": {},
   "outputs": [],
   "source": [
    "df.info()"
   ]
  },
  {
   "cell_type": "code",
   "execution_count": null,
   "id": "74413acb",
   "metadata": {},
   "outputs": [],
   "source": [
    "# Just testing with 00100\n",
    "\n",
    "df_00100 = df[[\"00100\", \"time\"]]\n",
    "df_00100 = df_00100.rename(columns={\"00100\":\"y\",\"time\":\"ds\"})\n",
    "df_00100.tail()"
   ]
  },
  {
   "cell_type": "code",
   "execution_count": null,
   "id": "7304a937",
   "metadata": {},
   "outputs": [],
   "source": [
    "ax = df_00100.set_index('ds').plot(figsize=(12, 8))\n",
    "ax.set_ylabel(\"prices\")\n",
    "ax.set_xlabel('quarter')\n",
    "\n",
    "plt.show()"
   ]
  },
  {
   "cell_type": "code",
   "execution_count": null,
   "id": "00422aa5",
   "metadata": {},
   "outputs": [],
   "source": [
    "df_00100[\"ds\"]"
   ]
  },
  {
   "cell_type": "code",
   "execution_count": null,
   "id": "b1559910",
   "metadata": {},
   "outputs": [],
   "source": [
    "# Setting up the model\n",
    "prop = Prophet(interval_width=0.95)"
   ]
  },
  {
   "cell_type": "code",
   "execution_count": null,
   "id": "569627e2",
   "metadata": {},
   "outputs": [],
   "source": [
    "train, test = df_00100[:-4], df_00100[-4:]"
   ]
  },
  {
   "cell_type": "code",
   "execution_count": null,
   "id": "3eb64c7c",
   "metadata": {},
   "outputs": [],
   "source": [
    "prop.fit(train)"
   ]
  },
  {
   "cell_type": "code",
   "execution_count": null,
   "id": "04e659be",
   "metadata": {},
   "outputs": [],
   "source": [
    "def make_dates_from_string(string):\n",
    "    return date.datetime.strptime(string, '%d/%m/%Y')\n",
    "\n",
    "old_dates = prop.make_future_dataframe(periods=0)\n",
    "\"\"\"future_dates = [\"1/7/2021\", \"1/10/2021\", \n",
    "                \"1/1/2022\", \"1/4/2022\", \"1/7/2022\", \"1/10/2022\", \n",
    "                \"1/1/2023\", \"1/4/2023\", \"1/7/2023\", \"1/10/2023\",\n",
    "                \"1/1/2024\", \"1/4/2024\"]\"\"\"\n",
    "future_dates = [\"1/7/2020\", \"1/10/2020\", \"1/1/2021\", \"1/4/2021\"]\n",
    "dates = [make_dates_from_string(d) for d in future_dates]\n",
    "future_df = pd.DataFrame({\"ds\": dates})\n",
    "future_dates_df = pd.concat([old_dates,future_df]).reset_index(drop=True)"
   ]
  },
  {
   "cell_type": "code",
   "execution_count": null,
   "id": "419796fa",
   "metadata": {},
   "outputs": [],
   "source": [
    "future_df"
   ]
  },
  {
   "cell_type": "code",
   "execution_count": null,
   "id": "bcd3d98f",
   "metadata": {},
   "outputs": [],
   "source": [
    "forecast = prop.predict(future_dates_df)\n",
    "forecast[['ds', 'yhat', 'yhat_lower', 'yhat_upper']].head()"
   ]
  },
  {
   "cell_type": "code",
   "execution_count": null,
   "id": "23b40806",
   "metadata": {},
   "outputs": [],
   "source": [
    "prop.plot(forecast, uncertainty=True)"
   ]
  },
  {
   "cell_type": "code",
   "execution_count": null,
   "id": "3f7df2a7",
   "metadata": {
    "scrolled": true
   },
   "outputs": [],
   "source": [
    "prop.plot_components(forecast)"
   ]
  },
  {
   "cell_type": "code",
   "execution_count": null,
   "id": "941b23c1",
   "metadata": {},
   "outputs": [],
   "source": [
    "from sklearn.metrics import mean_squared_error, mean_absolute_error\n",
    "import math\n",
    "\n",
    "ax = forecast.plot(x='ds',y='yhat',legend=True,label='PRED',figsize=(12,8))\n",
    "test.plot(x='ds',y='y',legend=True,label='TRUE', ax=ax, xlim=(\"2020-07-01\", \"2021-04-01\"))\n",
    "print(\"RMSE\")\n",
    "print(math.sqrt(mean_squared_error(test[\"y\"], list(forecast[\"yhat\"][-4:]))))"
   ]
  },
  {
   "cell_type": "code",
   "execution_count": null,
   "id": "f7306016",
   "metadata": {},
   "outputs": [],
   "source": [
    "from sklearn.metrics import mean_absolute_error, mean_squared_error\n",
    "import math\n",
    "\n",
    "y_true = df_00100['y'].values\n",
    "y_pred = forecast['yhat'][:46].values\n",
    "mae = mean_absolute_error(y_true, y_pred)\n",
    "rmse = math.sqrt(mean_squared_error(y_true, y_pred))\n",
    "\n",
    "print('MAE: %.3f' % mae)\n",
    "print('RMSE: %.3f' % rmse)\n",
    "\n",
    "# plot expected vs actual\n",
    "plt.plot(y_true, label='Actual')\n",
    "plt.plot(y_pred, label='Predicted')\n",
    "plt.legend()\n",
    "plt.show()"
   ]
  },
  {
   "cell_type": "markdown",
   "id": "c2c5c2b5",
   "metadata": {},
   "source": [
    "#### MAE and RMSE for each postal code (predict last four quarters)"
   ]
  },
  {
   "cell_type": "code",
   "execution_count": null,
   "id": "6fbee3ac",
   "metadata": {},
   "outputs": [],
   "source": [
    "from sklearn.metrics import mean_squared_error, mean_absolute_error\n",
    "\n",
    "def prophet_for_each_postalcodes(df, postal_codes, time=\"time\"):\n",
    "\n",
    "    mae_values = []\n",
    "    rmse_values = []\n",
    "\n",
    "    for pc in postal_codes:\n",
    "        print(pc)\n",
    "        pc_df = df[[pc, time]].rename(columns={pc:\"y\",time:\"ds\"})\n",
    "        train, test = pc_df[:-4], pc_df[-4:]\n",
    "        print(train)\n",
    "        print(test)\n",
    "        prop = Prophet(interval_width=0.95)\n",
    "        prop.fit(train)\n",
    "        forecast = prop.predict(test)\n",
    "        mae = mean_absolute_error(test[\"y\"], forecast[\"yhat\"])\n",
    "        rmse = math.sqrt(mean_squared_error(test[\"y\"], forecast[\"yhat\"]))\n",
    "        mae_values.append(mae)\n",
    "        rmse_values.append(rmse)\n",
    "\n",
    "    data = pd.DataFrame({\"postal code\":postal_codes, \"rmse\":rmse_values, \"mae\":mae_values })\n",
    "    return data, mae_values, rmse_values\n",
    "\n",
    "data, mae_values, rmse_values = prophet_for_each_postalcodes(df, postal_codes)"
   ]
  },
  {
   "cell_type": "code",
   "execution_count": 126,
   "id": "fded7060",
   "metadata": {},
   "outputs": [],
   "source": [
    "import statistics\n",
    "\n",
    "def show_results(data, mae_values, rmse_values,postal_code=\"postal code\"):\n",
    "    avg_rmse = statistics.mean(rmse_values)\n",
    "    avg_mae = statistics.mean(mae_values)\n",
    "    data.plot.bar(x=postal_code, subplots=True, figsize=(15,10))\n",
    "    print('Average MAE: %.3f' % avg_mae)\n",
    "    print('Average RMSE: %.3f' % avg_rmse)\n",
    "    data.describe()"
   ]
  },
  {
   "cell_type": "code",
   "execution_count": 127,
   "id": "b7dc053c",
   "metadata": {},
   "outputs": [
    {
     "name": "stdout",
     "output_type": "stream",
     "text": [
      "Average MAE: 1650.188\n",
      "Average RMSE: 1650.188\n"
     ]
    },
    {
     "data": {
      "image/png": "[encoded data removed]",
      "text/plain": [
       "<Figure size 1080x720 with 2 Axes>"
      ]
     },
     "metadata": {
      "needs_background": "light"
     },
     "output_type": "display_data"
    }
   ],
   "source": [
    "show_results(data,mae_values, rmse_values)"
   ]
  },
  {
   "cell_type": "markdown",
   "id": "69a0927f",
   "metadata": {},
   "source": [
    "### With TAE's clustering methods"
   ]
  },
  {
   "cell_type": "code",
   "execution_count": null,
   "id": "39d67183",
   "metadata": {},
   "outputs": [],
   "source": [
    "# Lets test with \"Blocks of flats, one-room flat\"\n",
    "\n",
    "building_type = \"Blocks of flats, one-room flat\"\n",
    "\n",
    "c_data = pd.read_csv(\"cluster-Copy1.csv\", dtype={\"Postal code\": str})\n",
    "c_data = c_data[c_data[\"Building type\"].isin([building_type])]\n",
    "data_labels = c_data[[\"Postal code\",\"label2\", \"label4\", \"label5\", \"label7\", \"label8\", \"label10\", \"longitude\", \"latitude\"]]"
   ]
  },
  {
   "cell_type": "markdown",
   "id": "42d6e9a1",
   "metadata": {},
   "source": [
    "#### Disclaimer, clustered data is from imputed data. Therefore, it is not 100% accurate when predicting clusters. "
   ]
  },
  {
   "cell_type": "code",
   "execution_count": null,
   "id": "de17e919",
   "metadata": {},
   "outputs": [],
   "source": [
    "data_labels.head()"
   ]
  },
  {
   "cell_type": "code",
   "execution_count": null,
   "id": "efe9c5e4",
   "metadata": {},
   "outputs": [],
   "source": [
    "## Lets combine with Bruces data\n",
    "\n",
    "new_df = df.T\n",
    "columns = new_df.iloc[0]\n",
    "new_df = new_df.drop(\"time\")\n",
    "new_df.columns = columns\n",
    "new_df[columns] = new_df[columns].apply(pd.to_numeric)\n",
    "new_df = new_df.reset_index()\n",
    "new_df = new_df.rename(columns={\"index\":\"Postal code\"})\n",
    "new_df"
   ]
  },
  {
   "cell_type": "code",
   "execution_count": null,
   "id": "57cd7c82",
   "metadata": {},
   "outputs": [],
   "source": [
    "new_df = new_df.merge(data_labels, on=\"Postal code\", how=\"left\")\n",
    "new_df = new_df.dropna()\n",
    "new_df.head()"
   ]
  },
  {
   "cell_type": "code",
   "execution_count": null,
   "id": "8639f96a",
   "metadata": {},
   "outputs": [],
   "source": [
    "# Split data into different categories by labels.\n",
    "# 1. Select label\n",
    "# 2. Find postal codes belonging that label\n",
    "# 3. Take mean value from all prices belonging that label\n",
    "# 4. Return table containing mean housing price for each label\n",
    "\n",
    "def select_labels(data, label):\n",
    "    labels = list(data[label].unique())\n",
    "    new_data = data.groupby(by=[label]).mean()\n",
    "    new_data = new_data.T[:-7].reset_index()\n",
    "    new_data = new_data.rename(columns={\"index\":\"ds\"})\n",
    "    return new_data, labels\n",
    "    \n",
    "\n",
    "label = \"label2\"\n",
    "clustered_df, labels = select_labels(new_df, label)"
   ]
  },
  {
   "cell_type": "code",
   "execution_count": null,
   "id": "be40652c",
   "metadata": {},
   "outputs": [],
   "source": [
    "results, mae_values, rmse_values = prophet_for_each_postalcodes(clustered_df, labels, time=\"ds\")"
   ]
  },
  {
   "cell_type": "code",
   "execution_count": null,
   "id": "ab37be89",
   "metadata": {},
   "outputs": [],
   "source": [
    "all_labels = [\"label2\", \"label5\", \"label7\", \"label8\", \"label10\"]\n",
    "all_result = []\n",
    "all_mae = []\n",
    "all_rmse = []\n",
    "\n",
    "# Fitting for different labels\n",
    "\n",
    "for label in all_labels:\n",
    "    clustered_df, labels = select_labels(new_df, label)\n",
    "    results2, mae_values2, rmse_values2 = prophet_for_each_postalcodes(clustered_df, labels, time=\"ds\")\n",
    "    all_result.append(results2)\n",
    "    all_mae.append(mae_values2)\n",
    "    all_rmse.append(rmse_values2)"
   ]
  },
  {
   "cell_type": "code",
   "execution_count": null,
   "id": "0a8bc4e3",
   "metadata": {
    "scrolled": true
   },
   "outputs": [],
   "source": [
    "print(len(all_rmse))\n",
    "\n",
    "for i in range(len(all_result)):\n",
    "    print(\"When using {}:\".format(all_labels[i]))\n",
    "    show_results(all_result[i], all_mae[i], all_rmse[i])"
   ]
  },
  {
   "cell_type": "markdown",
   "id": "663ccc92",
   "metadata": {},
   "source": [
    "## With Geographical location\n",
    "\n",
    "First we train a model for each postal codes. Postal codes do not have empty cells. Idea is to train model for each postal code and use geolocational information to match input with model. \n",
    "\n",
    "**For example, lets suppose we have postal code from otaniemi and it isnt in dataset. Therefore we cannot make model for it. However we can use a model which is located near to Otaniemi such as Tapiola for prediction. How? We calculate nearest postal code by using Otaniemi's latitude and longitude values.**"
   ]
  },
  {
   "cell_type": "code",
   "execution_count": 2,
   "id": "2af5cb0d",
   "metadata": {},
   "outputs": [],
   "source": [
    "# Work in progress, fix when user input wrong type of value e.g. random text instead of postal code\n",
    "# Disclaimer: df should contain latitude and longitude as well\n",
    "\n",
    "def min_euclidean_distance(row, latitude, longitude):\n",
    "    d2 = np.square( row.latitude - latitude )  + np.square( row.longitude - longitude) \n",
    "    return np.sqrt(d2)\n",
    "\n",
    "def best_postal_code(df, latitude, longitude):\n",
    "    df[\"euc\"] = df.apply(lambda row: min_euclidean_distance(row, latitude, longitude), axis=1)\n",
    "\n",
    "def find_nearest_postal_code(postal_code, df):\n",
    "    df = df.copy()\n",
    "    if postal_code not in df.columns and postal_code != \"time\": # \"time\" because our df contains that as index\n",
    "        nomi = pgeocode.Nominatim('fi')\n",
    "        location = nomi.query_postal_code([postal_code])\n",
    "        latitude, longitude = location.latitude, location.longitude\n",
    "        best_postal_code(df, latitude, longitude)\n",
    "        best = df[df[\"euc\"]==df[\"euc\"].min()][\"Postal code\"].iloc[0]\n",
    "        return best\n",
    "        \n",
    "    else:\n",
    "        return postal_code\n",
    "\n",
    "test_postal_code = \"00530\"\n",
    "\n",
    "# After this make a model for postal code in result "
   ]
  },
  {
   "cell_type": "code",
   "execution_count": 7,
   "id": "beb8e684",
   "metadata": {},
   "outputs": [],
   "source": [
    "import datetime as date\n",
    "\n",
    "def quarter_to_datetime(row):\n",
    "    dates = {\"Q1\": \"1/1\", \"Q2\":\"1/4\", \"Q3\":\"1/7\", \"Q4\":\"1/10\"}\n",
    "    string = row.replace(\"*\", \"\").split(\" \")[0]\n",
    "    year, quarter = string[:4], string[4:]\n",
    "    datetime_str = dates[quarter] + \"/\" + year\n",
    "    return date.datetime.strptime(datetime_str, '%d/%m/%Y')"
   ]
  },
  {
   "cell_type": "markdown",
   "id": "46d9bb07",
   "metadata": {},
   "source": [
    "### Check correlation between postal codes in Finland\n",
    "\n",
    "Lets check if postal codes have correlation between each other in terms of price"
   ]
  },
  {
   "cell_type": "code",
   "execution_count": 55,
   "id": "666182a6",
   "metadata": {},
   "outputs": [],
   "source": [
    "import pandas as pd\n",
    "\n",
    "\n",
    "def wrangle_data(data):\n",
    "    data = data.melt(id_vars=[\"Postal code\", \"Building type\"],var_name=\"Quarter\", value_name=\"EUR/m2\")\n",
    "    data[\"Quarter\"] = data[\"Quarter\"].apply(lambda row: quarter_to_datetime(row))\n",
    "    data[['Postal code', 'Location']] = data['Postal code'].str.split(' ', 1, expand=True)\n",
    "    return data\n",
    "\n",
    "df_orig = pd.read_csv(\"../../data/quarterly_data.csv\", encoding = 'unicode_escape')\n",
    "df_wrangled = wrangle_data(df_orig)"
   ]
  },
  {
   "cell_type": "code",
   "execution_count": 22,
   "id": "663a348c",
   "metadata": {},
   "outputs": [
    {
     "data": {
      "text/html": [
       "<div>\n",
       "<style scoped>\n",
       "    .dataframe tbody tr th:only-of-type {\n",
       "        vertical-align: middle;\n",
       "    }\n",
       "\n",
       "    .dataframe tbody tr th {\n",
       "        vertical-align: top;\n",
       "    }\n",
       "\n",
       "    .dataframe thead th {\n",
       "        text-align: right;\n",
       "    }\n",
       "</style>\n",
       "<table border=\"1\" class=\"dataframe\">\n",
       "  <thead>\n",
       "    <tr style=\"text-align: right;\">\n",
       "      <th></th>\n",
       "      <th>Postal code</th>\n",
       "      <th>Building type</th>\n",
       "      <th>Quarter</th>\n",
       "      <th>EUR/m2</th>\n",
       "      <th>Location</th>\n",
       "    </tr>\n",
       "  </thead>\n",
       "  <tbody>\n",
       "    <tr>\n",
       "      <th>0</th>\n",
       "      <td>00100</td>\n",
       "      <td>Blocks of flats, one-room flat</td>\n",
       "      <td>2010-01-01</td>\n",
       "      <td>5458</td>\n",
       "      <td>Helsinki Keskusta - Etu-Töölö   (Helsinki )</td>\n",
       "    </tr>\n",
       "    <tr>\n",
       "      <th>1</th>\n",
       "      <td>00100</td>\n",
       "      <td>Blocks of flats, two-room flat</td>\n",
       "      <td>2010-01-01</td>\n",
       "      <td>5164</td>\n",
       "      <td>Helsinki Keskusta - Etu-Töölö   (Helsinki )</td>\n",
       "    </tr>\n",
       "    <tr>\n",
       "      <th>2</th>\n",
       "      <td>00100</td>\n",
       "      <td>Blocks of flats, three-room flat+</td>\n",
       "      <td>2010-01-01</td>\n",
       "      <td>4944</td>\n",
       "      <td>Helsinki Keskusta - Etu-Töölö   (Helsinki )</td>\n",
       "    </tr>\n",
       "    <tr>\n",
       "      <th>3</th>\n",
       "      <td>00100</td>\n",
       "      <td>Blocks of flats total</td>\n",
       "      <td>2010-01-01</td>\n",
       "      <td>5168</td>\n",
       "      <td>Helsinki Keskusta - Etu-Töölö   (Helsinki )</td>\n",
       "    </tr>\n",
       "    <tr>\n",
       "      <th>4</th>\n",
       "      <td>00100</td>\n",
       "      <td>Terraced houses total</td>\n",
       "      <td>2010-01-01</td>\n",
       "      <td>..</td>\n",
       "      <td>Helsinki Keskusta - Etu-Töölö   (Helsinki )</td>\n",
       "    </tr>\n",
       "  </tbody>\n",
       "</table>\n",
       "</div>"
      ],
      "text/plain": [
       "  Postal code                      Building type    Quarter EUR/m2  \\\n",
       "0       00100     Blocks of flats, one-room flat 2010-01-01   5458   \n",
       "1       00100     Blocks of flats, two-room flat 2010-01-01   5164   \n",
       "2       00100  Blocks of flats, three-room flat+ 2010-01-01   4944   \n",
       "3       00100              Blocks of flats total 2010-01-01   5168   \n",
       "4       00100              Terraced houses total 2010-01-01     ..   \n",
       "\n",
       "                                      Location  \n",
       "0  Helsinki Keskusta - Etu-Töölö   (Helsinki )  \n",
       "1  Helsinki Keskusta - Etu-Töölö   (Helsinki )  \n",
       "2  Helsinki Keskusta - Etu-Töölö   (Helsinki )  \n",
       "3  Helsinki Keskusta - Etu-Töölö   (Helsinki )  \n",
       "4  Helsinki Keskusta - Etu-Töölö   (Helsinki )  "
      ]
     },
     "execution_count": 22,
     "metadata": {},
     "output_type": "execute_result"
    }
   ],
   "source": [
    "df_wrangled.head()"
   ]
  },
  {
   "cell_type": "code",
   "execution_count": 23,
   "id": "798f8c34",
   "metadata": {},
   "outputs": [],
   "source": [
    "# Lets add geolocations to data\n",
    "import pgeocode\n",
    "\n",
    "postal_code_list = list(df_wrangled[\"Postal code\"].unique())\n",
    "nomi = pgeocode.Nominatim('fi')\n",
    "location = nomi.query_postal_code(postal_code_list)\n",
    "\n",
    "wanted_features_location = location[[\"postal_code\", \n",
    "                                     \"place_name\", \n",
    "                                     \"state_name\", \n",
    "                                     \"county_name\", \n",
    "                                     \"latitude\", \n",
    "                                     \"longitude\"]]\n",
    "wanted_features_location = wanted_features_location.rename(columns={\"postal_code\": \"Postal code\"})\n",
    "df_wrangled = pd.merge(df_wrangled, wanted_features_location, on=\"Postal code\")"
   ]
  },
  {
   "cell_type": "code",
   "execution_count": 24,
   "id": "4d48ad7f",
   "metadata": {},
   "outputs": [
    {
     "data": {
      "text/html": [
       "<div>\n",
       "<style scoped>\n",
       "    .dataframe tbody tr th:only-of-type {\n",
       "        vertical-align: middle;\n",
       "    }\n",
       "\n",
       "    .dataframe tbody tr th {\n",
       "        vertical-align: top;\n",
       "    }\n",
       "\n",
       "    .dataframe thead th {\n",
       "        text-align: right;\n",
       "    }\n",
       "</style>\n",
       "<table border=\"1\" class=\"dataframe\">\n",
       "  <thead>\n",
       "    <tr style=\"text-align: right;\">\n",
       "      <th></th>\n",
       "      <th>Postal code</th>\n",
       "      <th>Building type</th>\n",
       "      <th>Quarter</th>\n",
       "      <th>EUR/m2</th>\n",
       "      <th>Location</th>\n",
       "      <th>place_name</th>\n",
       "      <th>state_name</th>\n",
       "      <th>county_name</th>\n",
       "      <th>latitude</th>\n",
       "      <th>longitude</th>\n",
       "    </tr>\n",
       "  </thead>\n",
       "  <tbody>\n",
       "    <tr>\n",
       "      <th>0</th>\n",
       "      <td>00100</td>\n",
       "      <td>Blocks of flats, one-room flat</td>\n",
       "      <td>2010-01-01</td>\n",
       "      <td>5458</td>\n",
       "      <td>Helsinki Keskusta - Etu-Töölö   (Helsinki )</td>\n",
       "      <td>Helsinki</td>\n",
       "      <td>Uusimaa</td>\n",
       "      <td>Helsinki</td>\n",
       "      <td>60.1714</td>\n",
       "      <td>24.9316</td>\n",
       "    </tr>\n",
       "    <tr>\n",
       "      <th>1</th>\n",
       "      <td>00100</td>\n",
       "      <td>Blocks of flats, two-room flat</td>\n",
       "      <td>2010-01-01</td>\n",
       "      <td>5164</td>\n",
       "      <td>Helsinki Keskusta - Etu-Töölö   (Helsinki )</td>\n",
       "      <td>Helsinki</td>\n",
       "      <td>Uusimaa</td>\n",
       "      <td>Helsinki</td>\n",
       "      <td>60.1714</td>\n",
       "      <td>24.9316</td>\n",
       "    </tr>\n",
       "    <tr>\n",
       "      <th>2</th>\n",
       "      <td>00100</td>\n",
       "      <td>Blocks of flats, three-room flat+</td>\n",
       "      <td>2010-01-01</td>\n",
       "      <td>4944</td>\n",
       "      <td>Helsinki Keskusta - Etu-Töölö   (Helsinki )</td>\n",
       "      <td>Helsinki</td>\n",
       "      <td>Uusimaa</td>\n",
       "      <td>Helsinki</td>\n",
       "      <td>60.1714</td>\n",
       "      <td>24.9316</td>\n",
       "    </tr>\n",
       "    <tr>\n",
       "      <th>3</th>\n",
       "      <td>00100</td>\n",
       "      <td>Blocks of flats total</td>\n",
       "      <td>2010-01-01</td>\n",
       "      <td>5168</td>\n",
       "      <td>Helsinki Keskusta - Etu-Töölö   (Helsinki )</td>\n",
       "      <td>Helsinki</td>\n",
       "      <td>Uusimaa</td>\n",
       "      <td>Helsinki</td>\n",
       "      <td>60.1714</td>\n",
       "      <td>24.9316</td>\n",
       "    </tr>\n",
       "    <tr>\n",
       "      <th>4</th>\n",
       "      <td>00100</td>\n",
       "      <td>Terraced houses total</td>\n",
       "      <td>2010-01-01</td>\n",
       "      <td>..</td>\n",
       "      <td>Helsinki Keskusta - Etu-Töölö   (Helsinki )</td>\n",
       "      <td>Helsinki</td>\n",
       "      <td>Uusimaa</td>\n",
       "      <td>Helsinki</td>\n",
       "      <td>60.1714</td>\n",
       "      <td>24.9316</td>\n",
       "    </tr>\n",
       "    <tr>\n",
       "      <th>...</th>\n",
       "      <td>...</td>\n",
       "      <td>...</td>\n",
       "      <td>...</td>\n",
       "      <td>...</td>\n",
       "      <td>...</td>\n",
       "      <td>...</td>\n",
       "      <td>...</td>\n",
       "      <td>...</td>\n",
       "      <td>...</td>\n",
       "      <td>...</td>\n",
       "    </tr>\n",
       "    <tr>\n",
       "      <th>463399</th>\n",
       "      <td>99980</td>\n",
       "      <td>Blocks of flats, two-room flat</td>\n",
       "      <td>2021-04-01</td>\n",
       "      <td>..</td>\n",
       "      <td>Utsjoki Keskus   (Utsjoki )</td>\n",
       "      <td>Utsjoki</td>\n",
       "      <td>Lapland</td>\n",
       "      <td>Pohjois-Lappi</td>\n",
       "      <td>69.8467</td>\n",
       "      <td>26.8907</td>\n",
       "    </tr>\n",
       "    <tr>\n",
       "      <th>463400</th>\n",
       "      <td>99980</td>\n",
       "      <td>Blocks of flats, three-room flat+</td>\n",
       "      <td>2021-04-01</td>\n",
       "      <td>..</td>\n",
       "      <td>Utsjoki Keskus   (Utsjoki )</td>\n",
       "      <td>Utsjoki</td>\n",
       "      <td>Lapland</td>\n",
       "      <td>Pohjois-Lappi</td>\n",
       "      <td>69.8467</td>\n",
       "      <td>26.8907</td>\n",
       "    </tr>\n",
       "    <tr>\n",
       "      <th>463401</th>\n",
       "      <td>99980</td>\n",
       "      <td>Blocks of flats total</td>\n",
       "      <td>2021-04-01</td>\n",
       "      <td>..</td>\n",
       "      <td>Utsjoki Keskus   (Utsjoki )</td>\n",
       "      <td>Utsjoki</td>\n",
       "      <td>Lapland</td>\n",
       "      <td>Pohjois-Lappi</td>\n",
       "      <td>69.8467</td>\n",
       "      <td>26.8907</td>\n",
       "    </tr>\n",
       "    <tr>\n",
       "      <th>463402</th>\n",
       "      <td>99980</td>\n",
       "      <td>Terraced houses total</td>\n",
       "      <td>2021-04-01</td>\n",
       "      <td>..</td>\n",
       "      <td>Utsjoki Keskus   (Utsjoki )</td>\n",
       "      <td>Utsjoki</td>\n",
       "      <td>Lapland</td>\n",
       "      <td>Pohjois-Lappi</td>\n",
       "      <td>69.8467</td>\n",
       "      <td>26.8907</td>\n",
       "    </tr>\n",
       "    <tr>\n",
       "      <th>463403</th>\n",
       "      <td>99980</td>\n",
       "      <td>Building types total</td>\n",
       "      <td>2021-04-01</td>\n",
       "      <td>..</td>\n",
       "      <td>Utsjoki Keskus   (Utsjoki )</td>\n",
       "      <td>Utsjoki</td>\n",
       "      <td>Lapland</td>\n",
       "      <td>Pohjois-Lappi</td>\n",
       "      <td>69.8467</td>\n",
       "      <td>26.8907</td>\n",
       "    </tr>\n",
       "  </tbody>\n",
       "</table>\n",
       "<p>463404 rows × 10 columns</p>\n",
       "</div>"
      ],
      "text/plain": [
       "       Postal code                      Building type    Quarter EUR/m2  \\\n",
       "0            00100     Blocks of flats, one-room flat 2010-01-01   5458   \n",
       "1            00100     Blocks of flats, two-room flat 2010-01-01   5164   \n",
       "2            00100  Blocks of flats, three-room flat+ 2010-01-01   4944   \n",
       "3            00100              Blocks of flats total 2010-01-01   5168   \n",
       "4            00100              Terraced houses total 2010-01-01     ..   \n",
       "...            ...                                ...        ...    ...   \n",
       "463399       99980     Blocks of flats, two-room flat 2021-04-01     ..   \n",
       "463400       99980  Blocks of flats, three-room flat+ 2021-04-01     ..   \n",
       "463401       99980              Blocks of flats total 2021-04-01     ..   \n",
       "463402       99980              Terraced houses total 2021-04-01     ..   \n",
       "463403       99980               Building types total 2021-04-01     ..   \n",
       "\n",
       "                                           Location  \\\n",
       "0       Helsinki Keskusta - Etu-Töölö   (Helsinki )   \n",
       "1       Helsinki Keskusta - Etu-Töölö   (Helsinki )   \n",
       "2       Helsinki Keskusta - Etu-Töölö   (Helsinki )   \n",
       "3       Helsinki Keskusta - Etu-Töölö   (Helsinki )   \n",
       "4       Helsinki Keskusta - Etu-Töölö   (Helsinki )   \n",
       "...                                             ...   \n",
       "463399                  Utsjoki Keskus   (Utsjoki )   \n",
       "463400                  Utsjoki Keskus   (Utsjoki )   \n",
       "463401                  Utsjoki Keskus   (Utsjoki )   \n",
       "463402                  Utsjoki Keskus   (Utsjoki )   \n",
       "463403                  Utsjoki Keskus   (Utsjoki )   \n",
       "\n",
       "                            place_name state_name    county_name  latitude  \\\n",
       "0       Helsinki                          Uusimaa       Helsinki   60.1714   \n",
       "1       Helsinki                          Uusimaa       Helsinki   60.1714   \n",
       "2       Helsinki                          Uusimaa       Helsinki   60.1714   \n",
       "3       Helsinki                          Uusimaa       Helsinki   60.1714   \n",
       "4       Helsinki                          Uusimaa       Helsinki   60.1714   \n",
       "...                                ...        ...            ...       ...   \n",
       "463399                         Utsjoki    Lapland  Pohjois-Lappi   69.8467   \n",
       "463400                         Utsjoki    Lapland  Pohjois-Lappi   69.8467   \n",
       "463401                         Utsjoki    Lapland  Pohjois-Lappi   69.8467   \n",
       "463402                         Utsjoki    Lapland  Pohjois-Lappi   69.8467   \n",
       "463403                         Utsjoki    Lapland  Pohjois-Lappi   69.8467   \n",
       "\n",
       "        longitude  \n",
       "0         24.9316  \n",
       "1         24.9316  \n",
       "2         24.9316  \n",
       "3         24.9316  \n",
       "4         24.9316  \n",
       "...           ...  \n",
       "463399    26.8907  \n",
       "463400    26.8907  \n",
       "463401    26.8907  \n",
       "463402    26.8907  \n",
       "463403    26.8907  \n",
       "\n",
       "[463404 rows x 10 columns]"
      ]
     },
     "execution_count": 24,
     "metadata": {},
     "output_type": "execute_result"
    }
   ],
   "source": [
    "df_wrangled"
   ]
  },
  {
   "cell_type": "markdown",
   "id": "9e51834d",
   "metadata": {},
   "source": [
    "#### Lets examine correlation between different housing types"
   ]
  },
  {
   "cell_type": "code",
   "execution_count": 25,
   "id": "8f44eed3",
   "metadata": {},
   "outputs": [
    {
     "name": "stderr",
     "output_type": "stream",
     "text": [
      "/var/folders/by/przz2wk900jdt2rj4vhw770h0000gn/T/ipykernel_3083/294769603.py:6: SettingWithCopyWarning: \n",
      "A value is trying to be set on a copy of a slice from a DataFrame.\n",
      "Try using .loc[row_indexer,col_indexer] = value instead\n",
      "\n",
      "See the caveats in the documentation: https://pandas.pydata.org/pandas-docs/stable/user_guide/indexing.html#returning-a-view-versus-a-copy\n",
      "  days[\"EUR/m2\"] = pd.to_numeric(data[\"EUR/m2\"],errors='coerce')\n"
     ]
    },
    {
     "data": {
      "text/html": [
       "<div>\n",
       "<style scoped>\n",
       "    .dataframe tbody tr th:only-of-type {\n",
       "        vertical-align: middle;\n",
       "    }\n",
       "\n",
       "    .dataframe tbody tr th {\n",
       "        vertical-align: top;\n",
       "    }\n",
       "\n",
       "    .dataframe thead th {\n",
       "        text-align: right;\n",
       "    }\n",
       "</style>\n",
       "<table border=\"1\" class=\"dataframe\">\n",
       "  <thead>\n",
       "    <tr style=\"text-align: right;\">\n",
       "      <th></th>\n",
       "      <th>Postal code</th>\n",
       "      <th>Building type</th>\n",
       "      <th>Quarter</th>\n",
       "      <th>EUR/m2</th>\n",
       "      <th>Location</th>\n",
       "      <th>place_name</th>\n",
       "      <th>state_name</th>\n",
       "      <th>county_name</th>\n",
       "      <th>latitude</th>\n",
       "      <th>longitude</th>\n",
       "    </tr>\n",
       "  </thead>\n",
       "  <tbody>\n",
       "    <tr>\n",
       "      <th>270</th>\n",
       "      <td>00100</td>\n",
       "      <td>Blocks of flats, one-room flat</td>\n",
       "      <td>2021-04-01</td>\n",
       "      <td>8596.0</td>\n",
       "      <td>Helsinki Keskusta - Etu-Töölö   (Helsinki )</td>\n",
       "      <td>Helsinki</td>\n",
       "      <td>Uusimaa</td>\n",
       "      <td>Helsinki</td>\n",
       "      <td>60.1714</td>\n",
       "      <td>24.9316</td>\n",
       "    </tr>\n",
       "    <tr>\n",
       "      <th>546</th>\n",
       "      <td>00120</td>\n",
       "      <td>Blocks of flats, one-room flat</td>\n",
       "      <td>2021-04-01</td>\n",
       "      <td>NaN</td>\n",
       "      <td>Punavuori   (Helsinki )</td>\n",
       "      <td>Helsinki</td>\n",
       "      <td>Uusimaa</td>\n",
       "      <td>Helsinki</td>\n",
       "      <td>60.1632</td>\n",
       "      <td>24.9391</td>\n",
       "    </tr>\n",
       "    <tr>\n",
       "      <th>822</th>\n",
       "      <td>00130</td>\n",
       "      <td>Blocks of flats, one-room flat</td>\n",
       "      <td>2021-04-01</td>\n",
       "      <td>NaN</td>\n",
       "      <td>Kaartinkaupunki   (Helsinki )</td>\n",
       "      <td>Helsinki</td>\n",
       "      <td>Uusimaa</td>\n",
       "      <td>Helsinki</td>\n",
       "      <td>60.1645</td>\n",
       "      <td>24.9487</td>\n",
       "    </tr>\n",
       "    <tr>\n",
       "      <th>1098</th>\n",
       "      <td>00140</td>\n",
       "      <td>Blocks of flats, one-room flat</td>\n",
       "      <td>2021-04-01</td>\n",
       "      <td>NaN</td>\n",
       "      <td>Kaivopuisto - Ullanlinna   (Helsinki )</td>\n",
       "      <td>Helsinki</td>\n",
       "      <td>Uusimaa</td>\n",
       "      <td>Helsinki</td>\n",
       "      <td>60.1578</td>\n",
       "      <td>24.9525</td>\n",
       "    </tr>\n",
       "    <tr>\n",
       "      <th>1374</th>\n",
       "      <td>00150</td>\n",
       "      <td>Blocks of flats, one-room flat</td>\n",
       "      <td>2021-04-01</td>\n",
       "      <td>9420.0</td>\n",
       "      <td>Eira - Hernesaari   (Helsinki )</td>\n",
       "      <td>Helsinki</td>\n",
       "      <td>Uusimaa</td>\n",
       "      <td>Helsinki</td>\n",
       "      <td>60.1570</td>\n",
       "      <td>24.9369</td>\n",
       "    </tr>\n",
       "  </tbody>\n",
       "</table>\n",
       "</div>"
      ],
      "text/plain": [
       "     Postal code                   Building type    Quarter  EUR/m2  \\\n",
       "270        00100  Blocks of flats, one-room flat 2021-04-01  8596.0   \n",
       "546        00120  Blocks of flats, one-room flat 2021-04-01     NaN   \n",
       "822        00130  Blocks of flats, one-room flat 2021-04-01     NaN   \n",
       "1098       00140  Blocks of flats, one-room flat 2021-04-01     NaN   \n",
       "1374       00150  Blocks of flats, one-room flat 2021-04-01  9420.0   \n",
       "\n",
       "                                         Location  \\\n",
       "270   Helsinki Keskusta - Etu-Töölö   (Helsinki )   \n",
       "546                       Punavuori   (Helsinki )   \n",
       "822                 Kaartinkaupunki   (Helsinki )   \n",
       "1098       Kaivopuisto - Ullanlinna   (Helsinki )   \n",
       "1374              Eira - Hernesaari   (Helsinki )   \n",
       "\n",
       "                          place_name state_name county_name  latitude  \\\n",
       "270   Helsinki                          Uusimaa    Helsinki   60.1714   \n",
       "546   Helsinki                          Uusimaa    Helsinki   60.1632   \n",
       "822   Helsinki                          Uusimaa    Helsinki   60.1645   \n",
       "1098  Helsinki                          Uusimaa    Helsinki   60.1578   \n",
       "1374  Helsinki                          Uusimaa    Helsinki   60.1570   \n",
       "\n",
       "      longitude  \n",
       "270     24.9316  \n",
       "546     24.9391  \n",
       "822     24.9487  \n",
       "1098    24.9525  \n",
       "1374    24.9369  "
      ]
     },
     "execution_count": 25,
     "metadata": {},
     "output_type": "execute_result"
    }
   ],
   "source": [
    "import numpy as np\n",
    "\n",
    "def last_quarter_housing_type(data, building_type):\n",
    "    one_room = data[data[\"Building type\"].isin([building_type])]\n",
    "    days = one_room[one_room[\"Quarter\"].isin([\"2021-04-01\"])]\n",
    "    days[\"EUR/m2\"] = pd.to_numeric(data[\"EUR/m2\"],errors='coerce')\n",
    "    return days\n",
    "\n",
    "\n",
    "building_type = \"Blocks of flats, one-room flat\"\n",
    "df = last_quarter_housing_type(df_wrangled, building_type)\n",
    "df.head()\n",
    "#df[[\"Postal code\", \"EUR/m2\"]].groupby([\"Postal code\"]).mean()[\"EUR/m2\"].value_counts()"
   ]
  },
  {
   "cell_type": "code",
   "execution_count": null,
   "id": "dfe73b2c",
   "metadata": {},
   "outputs": [],
   "source": [
    "one_room_df[\"Quarter\"].describe()"
   ]
  },
  {
   "cell_type": "code",
   "execution_count": null,
   "id": "5dfffbec",
   "metadata": {},
   "outputs": [],
   "source": [
    "import seaborn as sns\n",
    "\n",
    "df_T = df[[\"Postal code\", \"EUR/m2\"]].dropna().T\n",
    "df_T.columns = list(df_T.iloc[0])\n",
    "df_T = df_T.drop(index=\"Postal code\")\n"
   ]
  },
  {
   "cell_type": "code",
   "execution_count": null,
   "id": "ecb27833",
   "metadata": {},
   "outputs": [],
   "source": [
    "df_T"
   ]
  },
  {
   "cell_type": "code",
   "execution_count": null,
   "id": "800bb80a",
   "metadata": {},
   "outputs": [],
   "source": [
    "df.plot(kind=\"scatter\", x=\"longitude\", y=\"latitude\", alpha=1, figsize=(20,20),\n",
    " c=\"EUR/m2\", cmap=plt.get_cmap(\"jet\"), colorbar=True, ylim=(60,64)\n",
    ")"
   ]
  },
  {
   "cell_type": "markdown",
   "id": "1fe9d7ec",
   "metadata": {},
   "source": [
    "### Lets test in practice\n",
    "\n",
    "Lets select the \"most nearest postal code\" for each postal code. After this, lets compare how well the model of \"most nearest postal code\" can predict prices for postal code. "
   ]
  },
  {
   "cell_type": "code",
   "execution_count": 28,
   "id": "e7f1284e",
   "metadata": {},
   "outputs": [
    {
     "name": "stderr",
     "output_type": "stream",
     "text": [
      "/var/folders/by/przz2wk900jdt2rj4vhw770h0000gn/T/ipykernel_3083/1002548150.py:13: SettingWithCopyWarning: \n",
      "A value is trying to be set on a copy of a slice from a DataFrame.\n",
      "Try using .loc[row_indexer,col_indexer] = value instead\n",
      "\n",
      "See the caveats in the documentation: https://pandas.pydata.org/pandas-docs/stable/user_guide/indexing.html#returning-a-view-versus-a-copy\n",
      "  df_full[\"nearest_postal_code\"] = nearest_postal_code\n"
     ]
    },
    {
     "data": {
      "text/html": [
       "<div>\n",
       "<style scoped>\n",
       "    .dataframe tbody tr th:only-of-type {\n",
       "        vertical-align: middle;\n",
       "    }\n",
       "\n",
       "    .dataframe tbody tr th {\n",
       "        vertical-align: top;\n",
       "    }\n",
       "\n",
       "    .dataframe thead th {\n",
       "        text-align: right;\n",
       "    }\n",
       "</style>\n",
       "<table border=\"1\" class=\"dataframe\">\n",
       "  <thead>\n",
       "    <tr style=\"text-align: right;\">\n",
       "      <th></th>\n",
       "      <th>Postal code</th>\n",
       "      <th>Building type</th>\n",
       "      <th>Quarter</th>\n",
       "      <th>EUR/m2</th>\n",
       "      <th>Location</th>\n",
       "      <th>place_name</th>\n",
       "      <th>state_name</th>\n",
       "      <th>county_name</th>\n",
       "      <th>latitude</th>\n",
       "      <th>longitude</th>\n",
       "      <th>nearest_postal_code</th>\n",
       "    </tr>\n",
       "  </thead>\n",
       "  <tbody>\n",
       "    <tr>\n",
       "      <th>270</th>\n",
       "      <td>00100</td>\n",
       "      <td>Blocks of flats, one-room flat</td>\n",
       "      <td>2021-04-01</td>\n",
       "      <td>8596.0</td>\n",
       "      <td>Helsinki Keskusta - Etu-Töölö   (Helsinki )</td>\n",
       "      <td>Helsinki</td>\n",
       "      <td>Uusimaa</td>\n",
       "      <td>Helsinki</td>\n",
       "      <td>60.1714</td>\n",
       "      <td>24.9316</td>\n",
       "      <td>00260</td>\n",
       "    </tr>\n",
       "    <tr>\n",
       "      <th>1374</th>\n",
       "      <td>00150</td>\n",
       "      <td>Blocks of flats, one-room flat</td>\n",
       "      <td>2021-04-01</td>\n",
       "      <td>9420.0</td>\n",
       "      <td>Eira - Hernesaari   (Helsinki )</td>\n",
       "      <td>Helsinki</td>\n",
       "      <td>Uusimaa</td>\n",
       "      <td>Helsinki</td>\n",
       "      <td>60.1570</td>\n",
       "      <td>24.9369</td>\n",
       "      <td>00100</td>\n",
       "    </tr>\n",
       "    <tr>\n",
       "      <th>1926</th>\n",
       "      <td>00170</td>\n",
       "      <td>Blocks of flats, one-room flat</td>\n",
       "      <td>2021-04-01</td>\n",
       "      <td>8593.0</td>\n",
       "      <td>Kruununhaka   (Helsinki )</td>\n",
       "      <td>Helsinki</td>\n",
       "      <td>Uusimaa</td>\n",
       "      <td>Helsinki</td>\n",
       "      <td>60.1728</td>\n",
       "      <td>24.9554</td>\n",
       "      <td>00530</td>\n",
       "    </tr>\n",
       "    <tr>\n",
       "      <th>2202</th>\n",
       "      <td>00180</td>\n",
       "      <td>Blocks of flats, one-room flat</td>\n",
       "      <td>2021-04-01</td>\n",
       "      <td>8684.0</td>\n",
       "      <td>Kamppi - Ruoholahti   (Helsinki )</td>\n",
       "      <td>Helsinki</td>\n",
       "      <td>Uusimaa</td>\n",
       "      <td>Helsinki</td>\n",
       "      <td>60.1634</td>\n",
       "      <td>24.9190</td>\n",
       "      <td>00100</td>\n",
       "    </tr>\n",
       "    <tr>\n",
       "      <th>3858</th>\n",
       "      <td>00250</td>\n",
       "      <td>Blocks of flats, one-room flat</td>\n",
       "      <td>2021-04-01</td>\n",
       "      <td>8472.0</td>\n",
       "      <td>Taka-Töölö   (Helsinki )</td>\n",
       "      <td>Helsinki</td>\n",
       "      <td>Uusimaa</td>\n",
       "      <td>Helsinki</td>\n",
       "      <td>60.1873</td>\n",
       "      <td>24.9127</td>\n",
       "      <td>00260</td>\n",
       "    </tr>\n",
       "    <tr>\n",
       "      <th>4134</th>\n",
       "      <td>00260</td>\n",
       "      <td>Blocks of flats, one-room flat</td>\n",
       "      <td>2021-04-01</td>\n",
       "      <td>8545.0</td>\n",
       "      <td>Keski-Töölö   (Helsinki )</td>\n",
       "      <td>Helsinki</td>\n",
       "      <td>Uusimaa</td>\n",
       "      <td>Helsinki</td>\n",
       "      <td>60.1794</td>\n",
       "      <td>24.9226</td>\n",
       "      <td>00100</td>\n",
       "    </tr>\n",
       "    <tr>\n",
       "      <th>4410</th>\n",
       "      <td>00270</td>\n",
       "      <td>Blocks of flats, one-room flat</td>\n",
       "      <td>2021-04-01</td>\n",
       "      <td>8549.0</td>\n",
       "      <td>Pohjois-Meilahti   (Helsinki )</td>\n",
       "      <td>Helsinki</td>\n",
       "      <td>Uusimaa</td>\n",
       "      <td>Helsinki</td>\n",
       "      <td>60.1942</td>\n",
       "      <td>24.9007</td>\n",
       "      <td>00250</td>\n",
       "    </tr>\n",
       "    <tr>\n",
       "      <th>6618</th>\n",
       "      <td>00350</td>\n",
       "      <td>Blocks of flats, one-room flat</td>\n",
       "      <td>2021-04-01</td>\n",
       "      <td>6133.0</td>\n",
       "      <td>Munkkivuori-Niemenmäki   (Helsinki )</td>\n",
       "      <td>Helsinki</td>\n",
       "      <td>Uusimaa</td>\n",
       "      <td>Helsinki</td>\n",
       "      <td>60.2075</td>\n",
       "      <td>24.8705</td>\n",
       "      <td>00270</td>\n",
       "    </tr>\n",
       "    <tr>\n",
       "      <th>7722</th>\n",
       "      <td>00390</td>\n",
       "      <td>Blocks of flats, one-room flat</td>\n",
       "      <td>2021-04-01</td>\n",
       "      <td>4584.0</td>\n",
       "      <td>Konala   (Helsinki )</td>\n",
       "      <td>Helsinki</td>\n",
       "      <td>Uusimaa</td>\n",
       "      <td>Helsinki</td>\n",
       "      <td>60.2387</td>\n",
       "      <td>24.8427</td>\n",
       "      <td>01600</td>\n",
       "    </tr>\n",
       "    <tr>\n",
       "      <th>7998</th>\n",
       "      <td>00400</td>\n",
       "      <td>Blocks of flats, one-room flat</td>\n",
       "      <td>2021-04-01</td>\n",
       "      <td>6478.0</td>\n",
       "      <td>Pohjois-Haaga   (Helsinki )</td>\n",
       "      <td>Helsinki</td>\n",
       "      <td>Uusimaa</td>\n",
       "      <td>Helsinki</td>\n",
       "      <td>60.2265</td>\n",
       "      <td>24.8978</td>\n",
       "      <td>00270</td>\n",
       "    </tr>\n",
       "  </tbody>\n",
       "</table>\n",
       "</div>"
      ],
      "text/plain": [
       "     Postal code                   Building type    Quarter  EUR/m2  \\\n",
       "270        00100  Blocks of flats, one-room flat 2021-04-01  8596.0   \n",
       "1374       00150  Blocks of flats, one-room flat 2021-04-01  9420.0   \n",
       "1926       00170  Blocks of flats, one-room flat 2021-04-01  8593.0   \n",
       "2202       00180  Blocks of flats, one-room flat 2021-04-01  8684.0   \n",
       "3858       00250  Blocks of flats, one-room flat 2021-04-01  8472.0   \n",
       "4134       00260  Blocks of flats, one-room flat 2021-04-01  8545.0   \n",
       "4410       00270  Blocks of flats, one-room flat 2021-04-01  8549.0   \n",
       "6618       00350  Blocks of flats, one-room flat 2021-04-01  6133.0   \n",
       "7722       00390  Blocks of flats, one-room flat 2021-04-01  4584.0   \n",
       "7998       00400  Blocks of flats, one-room flat 2021-04-01  6478.0   \n",
       "\n",
       "                                         Location  \\\n",
       "270   Helsinki Keskusta - Etu-Töölö   (Helsinki )   \n",
       "1374              Eira - Hernesaari   (Helsinki )   \n",
       "1926                    Kruununhaka   (Helsinki )   \n",
       "2202            Kamppi - Ruoholahti   (Helsinki )   \n",
       "3858                     Taka-Töölö   (Helsinki )   \n",
       "4134                    Keski-Töölö   (Helsinki )   \n",
       "4410               Pohjois-Meilahti   (Helsinki )   \n",
       "6618         Munkkivuori-Niemenmäki   (Helsinki )   \n",
       "7722                         Konala   (Helsinki )   \n",
       "7998                  Pohjois-Haaga   (Helsinki )   \n",
       "\n",
       "                          place_name state_name county_name  latitude  \\\n",
       "270   Helsinki                          Uusimaa    Helsinki   60.1714   \n",
       "1374  Helsinki                          Uusimaa    Helsinki   60.1570   \n",
       "1926  Helsinki                          Uusimaa    Helsinki   60.1728   \n",
       "2202  Helsinki                          Uusimaa    Helsinki   60.1634   \n",
       "3858  Helsinki                          Uusimaa    Helsinki   60.1873   \n",
       "4134  Helsinki                          Uusimaa    Helsinki   60.1794   \n",
       "4410  Helsinki                          Uusimaa    Helsinki   60.1942   \n",
       "6618  Helsinki                          Uusimaa    Helsinki   60.2075   \n",
       "7722  Helsinki                          Uusimaa    Helsinki   60.2387   \n",
       "7998  Helsinki                          Uusimaa    Helsinki   60.2265   \n",
       "\n",
       "      longitude nearest_postal_code  \n",
       "270     24.9316               00260  \n",
       "1374    24.9369               00100  \n",
       "1926    24.9554               00530  \n",
       "2202    24.9190               00100  \n",
       "3858    24.9127               00260  \n",
       "4134    24.9226               00100  \n",
       "4410    24.9007               00250  \n",
       "6618    24.8705               00270  \n",
       "7722    24.8427               01600  \n",
       "7998    24.8978               00270  "
      ]
     },
     "execution_count": 28,
     "metadata": {},
     "output_type": "execute_result"
    }
   ],
   "source": [
    "# Lets found nearest place for each postal code\n",
    "import numpy as np\n",
    "\n",
    "df_full = df.dropna()\n",
    "nearest_postal_code = []\n",
    "postal_codes = list(df_full[\"Postal code\"])\n",
    "for pc in postal_codes:\n",
    "    df_full_copy = df_full.copy()\n",
    "    remove_original_pc = df_full_copy[df_full_copy[\"Postal code\"] != pc]\n",
    "    n_pc = find_nearest_postal_code(pc, remove_original_pc)\n",
    "    nearest_postal_code.append(n_pc)\n",
    "    \n",
    "df_full[\"nearest_postal_code\"] = nearest_postal_code\n",
    "df_full.head(10)"
   ]
  },
  {
   "cell_type": "code",
   "execution_count": 105,
   "id": "e6e55021",
   "metadata": {},
   "outputs": [],
   "source": [
    "pc_and_npc = df_full[[\"Postal code\", \"nearest_postal_code\"]].values.tolist()"
   ]
  },
  {
   "cell_type": "code",
   "execution_count": 95,
   "id": "82c1ad90",
   "metadata": {},
   "outputs": [],
   "source": [
    "one_room_only = df_wrangled[df_wrangled[\"Building type\"]\n",
    "                        .isin([\"Blocks of flats, one-room flat\"])][[\"Postal code\", \"Quarter\", \"EUR/m2\"]].replace('..', np.nan)\n",
    "prop_df = one_room_only.pivot(index=\"Quarter\", columns=\"Postal code\", values=\"EUR/m2\").reset_index()"
   ]
  },
  {
   "cell_type": "code",
   "execution_count": 115,
   "id": "3655c90f",
   "metadata": {},
   "outputs": [],
   "source": [
    "# Lets test with 00260\n",
    "from fbprophet import Prophet\n",
    "from sklearn.metrics import mean_squared_error, mean_absolute_error\n",
    "import math\n",
    "\n",
    "\n",
    "def test_nearest_postal_code(df, pc, npc):\n",
    "    npc_df = df[[npc, \"Quarter\"]].rename(columns={npc:\"y\",\"Quarter\":\"ds\"})\n",
    "    # Lets assume that we are in Q1 of 2021. Therefore, we left Q2 from training. \n",
    "    #Instead of using 00260 last cell for test, lets use 00100 which has 00260 as its nearest_postal_code\n",
    "    test_pc = df[[pc, \"Quarter\"]].rename(columns={pc:\"y\",\"Quarter\":\"ds\"})[-1:]\n",
    "    train, test = npc_df[:-1], test_pc\n",
    "    try:\n",
    "        prop = Prophet(interval_width=0.95)\n",
    "        prop.fit(train)\n",
    "        forecast = prop.predict(test)\n",
    "        mae = mean_absolute_error(test[\"y\"], forecast[\"yhat\"])\n",
    "        rmse = math.sqrt(mean_squared_error(test[\"y\"], forecast[\"yhat\"]))\n",
    "        return mae, rmse\n",
    "    except:\n",
    "        return -1, -1"
   ]
  },
  {
   "cell_type": "code",
   "execution_count": 121,
   "id": "7918ada4",
   "metadata": {},
   "outputs": [
    {
     "name": "stderr",
     "output_type": "stream",
     "text": [
      "INFO:fbprophet:Disabling weekly seasonality. Run prophet with weekly_seasonality=True to override this.\n",
      "INFO:fbprophet:Disabling daily seasonality. Run prophet with daily_seasonality=True to override this.\n"
     ]
    },
    {
     "name": "stdout",
     "output_type": "stream",
     "text": [
      "[['00100', '00260'], ['00150', '00100'], ['00170', '00530'], ['00180', '00100'], ['00250', '00260'], ['00260', '00100'], ['00270', '00250'], ['00350', '00270'], ['00390', '01600'], ['00400', '00270'], ['00500', '00530'], ['00510', '00530'], ['00520', '00510'], ['00530', '00510'], ['00840', '00500'], ['01300', '01350'], ['01350', '01300'], ['01360', '01350'], ['01600', '01620'], ['01620', '01600'], ['01700', '01620'], ['01800', '01700'], ['02320', '02760'], ['02600', '00390'], ['02760', '02320'], ['04200', '04400'], ['04400', '04200'], ['06100', '04200'], ['13100', '13130'], ['13130', '13100'], ['13210', '13100'], ['15110', '15210'], ['15150', '15210'], ['15210', '15110'], ['20100', '20200'], ['20200', '20100'], ['20320', '20200'], ['20810', '20100'], ['21200', '20320'], ['24100', '30100'], ['28100', '21200'], ['30100', '33870'], ['33200', '33230'], ['33230', '33200'], ['33270', '33400'], ['33400', '33270'], ['33500', '33540'], ['33540', '33500'], ['33560', '33720'], ['33580', '33560'], ['33720', '33870'], ['33870', '33720'], ['33900', '33200'], ['36200', '33580'], ['39500', '33400'], ['40100', '15210'], ['45100', '45150'], ['45150', '45100'], ['48100', '45150'], ['50100', '45100'], ['57100', '80100'], ['65200', '28100'], ['74100', '50100'], ['80100', '57100'], ['90100', '90570'], ['90570', '90100'], ['94100', '90570'], ['96300', '94100']]\n",
      "['00100', '00260']\n"
     ]
    },
    {
     "name": "stderr",
     "output_type": "stream",
     "text": [
      "INFO:fbprophet:Disabling weekly seasonality. Run prophet with weekly_seasonality=True to override this.\n",
      "INFO:fbprophet:Disabling daily seasonality. Run prophet with daily_seasonality=True to override this.\n"
     ]
    },
    {
     "name": "stdout",
     "output_type": "stream",
     "text": [
      "['00150', '00100']\n"
     ]
    },
    {
     "name": "stderr",
     "output_type": "stream",
     "text": [
      "INFO:fbprophet:Disabling weekly seasonality. Run prophet with weekly_seasonality=True to override this.\n",
      "INFO:fbprophet:Disabling daily seasonality. Run prophet with daily_seasonality=True to override this.\n"
     ]
    },
    {
     "name": "stdout",
     "output_type": "stream",
     "text": [
      "['00170', '00530']\n"
     ]
    },
    {
     "name": "stderr",
     "output_type": "stream",
     "text": [
      "INFO:fbprophet:Disabling weekly seasonality. Run prophet with weekly_seasonality=True to override this.\n",
      "INFO:fbprophet:Disabling daily seasonality. Run prophet with daily_seasonality=True to override this.\n"
     ]
    },
    {
     "name": "stdout",
     "output_type": "stream",
     "text": [
      "['00180', '00100']\n"
     ]
    },
    {
     "name": "stderr",
     "output_type": "stream",
     "text": [
      "INFO:fbprophet:Disabling weekly seasonality. Run prophet with weekly_seasonality=True to override this.\n",
      "INFO:fbprophet:Disabling daily seasonality. Run prophet with daily_seasonality=True to override this.\n"
     ]
    },
    {
     "name": "stdout",
     "output_type": "stream",
     "text": [
      "['00250', '00260']\n"
     ]
    },
    {
     "name": "stderr",
     "output_type": "stream",
     "text": [
      "INFO:fbprophet:Disabling weekly seasonality. Run prophet with weekly_seasonality=True to override this.\n",
      "INFO:fbprophet:Disabling daily seasonality. Run prophet with daily_seasonality=True to override this.\n"
     ]
    },
    {
     "name": "stdout",
     "output_type": "stream",
     "text": [
      "['00260', '00100']\n"
     ]
    },
    {
     "name": "stderr",
     "output_type": "stream",
     "text": [
      "INFO:fbprophet:Disabling weekly seasonality. Run prophet with weekly_seasonality=True to override this.\n",
      "INFO:fbprophet:Disabling daily seasonality. Run prophet with daily_seasonality=True to override this.\n"
     ]
    },
    {
     "name": "stdout",
     "output_type": "stream",
     "text": [
      "['00270', '00250']\n"
     ]
    },
    {
     "name": "stderr",
     "output_type": "stream",
     "text": [
      "INFO:fbprophet:Disabling weekly seasonality. Run prophet with weekly_seasonality=True to override this.\n",
      "INFO:fbprophet:Disabling daily seasonality. Run prophet with daily_seasonality=True to override this.\n"
     ]
    },
    {
     "name": "stdout",
     "output_type": "stream",
     "text": [
      "['00350', '00270']\n"
     ]
    },
    {
     "name": "stderr",
     "output_type": "stream",
     "text": [
      "INFO:fbprophet:Disabling weekly seasonality. Run prophet with weekly_seasonality=True to override this.\n",
      "INFO:fbprophet:Disabling daily seasonality. Run prophet with daily_seasonality=True to override this.\n",
      "INFO:fbprophet:n_changepoints greater than number of observations. Using 11.\n"
     ]
    },
    {
     "name": "stdout",
     "output_type": "stream",
     "text": [
      "['00390', '01600']\n"
     ]
    },
    {
     "name": "stderr",
     "output_type": "stream",
     "text": [
      "INFO:fbprophet:Disabling weekly seasonality. Run prophet with weekly_seasonality=True to override this.\n",
      "INFO:fbprophet:Disabling daily seasonality. Run prophet with daily_seasonality=True to override this.\n"
     ]
    },
    {
     "name": "stdout",
     "output_type": "stream",
     "text": [
      "['00400', '00270']\n"
     ]
    },
    {
     "name": "stderr",
     "output_type": "stream",
     "text": [
      "INFO:fbprophet:Disabling weekly seasonality. Run prophet with weekly_seasonality=True to override this.\n",
      "INFO:fbprophet:Disabling daily seasonality. Run prophet with daily_seasonality=True to override this.\n"
     ]
    },
    {
     "name": "stdout",
     "output_type": "stream",
     "text": [
      "['00500', '00530']\n"
     ]
    },
    {
     "name": "stderr",
     "output_type": "stream",
     "text": [
      "INFO:fbprophet:Disabling weekly seasonality. Run prophet with weekly_seasonality=True to override this.\n",
      "INFO:fbprophet:Disabling daily seasonality. Run prophet with daily_seasonality=True to override this.\n"
     ]
    },
    {
     "name": "stdout",
     "output_type": "stream",
     "text": [
      "['00510', '00530']\n"
     ]
    },
    {
     "name": "stderr",
     "output_type": "stream",
     "text": [
      "INFO:fbprophet:Disabling weekly seasonality. Run prophet with weekly_seasonality=True to override this.\n",
      "INFO:fbprophet:Disabling daily seasonality. Run prophet with daily_seasonality=True to override this.\n",
      "INFO:fbprophet:n_changepoints greater than number of observations. Using 21.\n"
     ]
    },
    {
     "name": "stdout",
     "output_type": "stream",
     "text": [
      "['00520', '00510']\n"
     ]
    },
    {
     "name": "stderr",
     "output_type": "stream",
     "text": [
      "INFO:fbprophet:Disabling weekly seasonality. Run prophet with weekly_seasonality=True to override this.\n",
      "INFO:fbprophet:Disabling daily seasonality. Run prophet with daily_seasonality=True to override this.\n",
      "INFO:fbprophet:n_changepoints greater than number of observations. Using 21.\n"
     ]
    },
    {
     "name": "stdout",
     "output_type": "stream",
     "text": [
      "['00530', '00510']\n"
     ]
    },
    {
     "name": "stderr",
     "output_type": "stream",
     "text": [
      "INFO:fbprophet:Disabling weekly seasonality. Run prophet with weekly_seasonality=True to override this.\n",
      "INFO:fbprophet:Disabling daily seasonality. Run prophet with daily_seasonality=True to override this.\n"
     ]
    },
    {
     "name": "stdout",
     "output_type": "stream",
     "text": [
      "['00840', '00500']\n"
     ]
    },
    {
     "name": "stderr",
     "output_type": "stream",
     "text": [
      "INFO:fbprophet:Disabling weekly seasonality. Run prophet with weekly_seasonality=True to override this.\n",
      "INFO:fbprophet:Disabling daily seasonality. Run prophet with daily_seasonality=True to override this.\n",
      "INFO:fbprophet:n_changepoints greater than number of observations. Using 12.\n"
     ]
    },
    {
     "name": "stdout",
     "output_type": "stream",
     "text": [
      "['01300', '01350']\n"
     ]
    },
    {
     "name": "stderr",
     "output_type": "stream",
     "text": [
      "INFO:fbprophet:Disabling weekly seasonality. Run prophet with weekly_seasonality=True to override this.\n",
      "INFO:fbprophet:Disabling daily seasonality. Run prophet with daily_seasonality=True to override this.\n"
     ]
    },
    {
     "name": "stdout",
     "output_type": "stream",
     "text": [
      "['01350', '01300']\n"
     ]
    },
    {
     "name": "stderr",
     "output_type": "stream",
     "text": [
      "INFO:fbprophet:Disabling weekly seasonality. Run prophet with weekly_seasonality=True to override this.\n",
      "INFO:fbprophet:Disabling daily seasonality. Run prophet with daily_seasonality=True to override this.\n",
      "INFO:fbprophet:n_changepoints greater than number of observations. Using 12.\n"
     ]
    },
    {
     "name": "stdout",
     "output_type": "stream",
     "text": [
      "['01360', '01350']\n"
     ]
    },
    {
     "name": "stderr",
     "output_type": "stream",
     "text": [
      "INFO:fbprophet:Disabling weekly seasonality. Run prophet with weekly_seasonality=True to override this.\n",
      "INFO:fbprophet:Disabling daily seasonality. Run prophet with daily_seasonality=True to override this.\n",
      "INFO:fbprophet:n_changepoints greater than number of observations. Using 13.\n"
     ]
    },
    {
     "name": "stdout",
     "output_type": "stream",
     "text": [
      "['01600', '01620']\n"
     ]
    },
    {
     "name": "stderr",
     "output_type": "stream",
     "text": [
      "INFO:fbprophet:Disabling weekly seasonality. Run prophet with weekly_seasonality=True to override this.\n",
      "INFO:fbprophet:Disabling daily seasonality. Run prophet with daily_seasonality=True to override this.\n",
      "INFO:fbprophet:n_changepoints greater than number of observations. Using 11.\n"
     ]
    },
    {
     "name": "stdout",
     "output_type": "stream",
     "text": [
      "['01620', '01600']\n"
     ]
    },
    {
     "name": "stderr",
     "output_type": "stream",
     "text": [
      "INFO:fbprophet:Disabling weekly seasonality. Run prophet with weekly_seasonality=True to override this.\n",
      "INFO:fbprophet:Disabling daily seasonality. Run prophet with daily_seasonality=True to override this.\n",
      "INFO:fbprophet:n_changepoints greater than number of observations. Using 13.\n"
     ]
    },
    {
     "name": "stdout",
     "output_type": "stream",
     "text": [
      "['01700', '01620']\n"
     ]
    },
    {
     "name": "stderr",
     "output_type": "stream",
     "text": [
      "INFO:fbprophet:Disabling yearly seasonality. Run prophet with yearly_seasonality=True to override this.\n",
      "INFO:fbprophet:Disabling weekly seasonality. Run prophet with weekly_seasonality=True to override this.\n",
      "INFO:fbprophet:Disabling daily seasonality. Run prophet with daily_seasonality=True to override this.\n",
      "INFO:fbprophet:n_changepoints greater than number of observations. Using 1.\n"
     ]
    },
    {
     "name": "stdout",
     "output_type": "stream",
     "text": [
      "['01800', '01700']\n"
     ]
    },
    {
     "name": "stderr",
     "output_type": "stream",
     "text": [
      "INFO:fbprophet:Disabling weekly seasonality. Run prophet with weekly_seasonality=True to override this.\n",
      "INFO:fbprophet:Disabling daily seasonality. Run prophet with daily_seasonality=True to override this.\n",
      "INFO:fbprophet:n_changepoints greater than number of observations. Using 15.\n",
      "INFO:fbprophet:Disabling weekly seasonality. Run prophet with weekly_seasonality=True to override this.\n",
      "INFO:fbprophet:Disabling daily seasonality. Run prophet with daily_seasonality=True to override this.\n",
      "INFO:fbprophet:n_changepoints greater than number of observations. Using 2.\n",
      "INFO:fbprophet:Disabling weekly seasonality. Run prophet with weekly_seasonality=True to override this.\n",
      "INFO:fbprophet:Disabling daily seasonality. Run prophet with daily_seasonality=True to override this.\n"
     ]
    },
    {
     "name": "stdout",
     "output_type": "stream",
     "text": [
      "['02320', '02760']\n",
      "['02600', '00390']\n",
      "['02760', '02320']\n"
     ]
    },
    {
     "name": "stderr",
     "output_type": "stream",
     "text": [
      "INFO:fbprophet:Disabling weekly seasonality. Run prophet with weekly_seasonality=True to override this.\n",
      "INFO:fbprophet:Disabling daily seasonality. Run prophet with daily_seasonality=True to override this.\n"
     ]
    },
    {
     "name": "stdout",
     "output_type": "stream",
     "text": [
      "['04200', '04400']\n",
      "['04400', '04200']\n"
     ]
    },
    {
     "name": "stderr",
     "output_type": "stream",
     "text": [
      "INFO:fbprophet:Disabling weekly seasonality. Run prophet with weekly_seasonality=True to override this.\n",
      "INFO:fbprophet:Disabling daily seasonality. Run prophet with daily_seasonality=True to override this.\n",
      "INFO:fbprophet:n_changepoints greater than number of observations. Using 15.\n",
      "INFO:fbprophet:Disabling weekly seasonality. Run prophet with weekly_seasonality=True to override this.\n",
      "INFO:fbprophet:Disabling daily seasonality. Run prophet with daily_seasonality=True to override this.\n",
      "INFO:fbprophet:n_changepoints greater than number of observations. Using 15.\n"
     ]
    },
    {
     "name": "stdout",
     "output_type": "stream",
     "text": [
      "['06100', '04200']\n"
     ]
    },
    {
     "name": "stderr",
     "output_type": "stream",
     "text": [
      "INFO:fbprophet:Disabling weekly seasonality. Run prophet with weekly_seasonality=True to override this.\n",
      "INFO:fbprophet:Disabling daily seasonality. Run prophet with daily_seasonality=True to override this.\n",
      "INFO:fbprophet:n_changepoints greater than number of observations. Using 10.\n",
      "INFO:fbprophet:Disabling weekly seasonality. Run prophet with weekly_seasonality=True to override this.\n",
      "INFO:fbprophet:Disabling daily seasonality. Run prophet with daily_seasonality=True to override this.\n"
     ]
    },
    {
     "name": "stdout",
     "output_type": "stream",
     "text": [
      "['13100', '13130']\n",
      "['13130', '13100']\n",
      "['13210', '13100']"
     ]
    },
    {
     "name": "stderr",
     "output_type": "stream",
     "text": [
      "INFO:fbprophet:Disabling weekly seasonality. Run prophet with weekly_seasonality=True to override this.\n",
      "INFO:fbprophet:Disabling daily seasonality. Run prophet with daily_seasonality=True to override this.\n",
      "INFO:fbprophet:Disabling weekly seasonality. Run prophet with weekly_seasonality=True to override this.\n",
      "INFO:fbprophet:Disabling daily seasonality. Run prophet with daily_seasonality=True to override this.\n",
      "INFO:fbprophet:n_changepoints greater than number of observations. Using 1.\n"
     ]
    },
    {
     "name": "stdout",
     "output_type": "stream",
     "text": [
      "\n",
      "['15110', '15210']\n"
     ]
    },
    {
     "name": "stderr",
     "output_type": "stream",
     "text": [
      "INFO:fbprophet:Disabling weekly seasonality. Run prophet with weekly_seasonality=True to override this.\n",
      "INFO:fbprophet:Disabling daily seasonality. Run prophet with daily_seasonality=True to override this.\n",
      "INFO:fbprophet:n_changepoints greater than number of observations. Using 1.\n"
     ]
    },
    {
     "name": "stdout",
     "output_type": "stream",
     "text": [
      "['15150', '15210']\n"
     ]
    },
    {
     "name": "stderr",
     "output_type": "stream",
     "text": [
      "INFO:fbprophet:Disabling weekly seasonality. Run prophet with weekly_seasonality=True to override this.\n",
      "INFO:fbprophet:Disabling daily seasonality. Run prophet with daily_seasonality=True to override this.\n",
      "INFO:fbprophet:n_changepoints greater than number of observations. Using 11.\n"
     ]
    },
    {
     "name": "stdout",
     "output_type": "stream",
     "text": [
      "['15210', '15110']\n"
     ]
    },
    {
     "name": "stderr",
     "output_type": "stream",
     "text": [
      "INFO:fbprophet:Disabling weekly seasonality. Run prophet with weekly_seasonality=True to override this.\n",
      "INFO:fbprophet:Disabling daily seasonality. Run prophet with daily_seasonality=True to override this.\n",
      "INFO:fbprophet:n_changepoints greater than number of observations. Using 6.\n"
     ]
    },
    {
     "name": "stdout",
     "output_type": "stream",
     "text": [
      "['20100', '20200']\n"
     ]
    },
    {
     "name": "stderr",
     "output_type": "stream",
     "text": [
      "INFO:fbprophet:Disabling weekly seasonality. Run prophet with weekly_seasonality=True to override this.\n",
      "INFO:fbprophet:Disabling daily seasonality. Run prophet with daily_seasonality=True to override this.\n"
     ]
    },
    {
     "name": "stdout",
     "output_type": "stream",
     "text": [
      "['20200', '20100']\n"
     ]
    },
    {
     "name": "stderr",
     "output_type": "stream",
     "text": [
      "INFO:fbprophet:Disabling weekly seasonality. Run prophet with weekly_seasonality=True to override this.\n",
      "INFO:fbprophet:Disabling daily seasonality. Run prophet with daily_seasonality=True to override this.\n",
      "INFO:fbprophet:n_changepoints greater than number of observations. Using 6.\n"
     ]
    },
    {
     "name": "stdout",
     "output_type": "stream",
     "text": [
      "['20320', '20200']\n"
     ]
    },
    {
     "name": "stderr",
     "output_type": "stream",
     "text": [
      "INFO:fbprophet:Disabling weekly seasonality. Run prophet with weekly_seasonality=True to override this.\n",
      "INFO:fbprophet:Disabling daily seasonality. Run prophet with daily_seasonality=True to override this.\n",
      "INFO:fbprophet:Disabling weekly seasonality. Run prophet with weekly_seasonality=True to override this.\n",
      "INFO:fbprophet:Disabling daily seasonality. Run prophet with daily_seasonality=True to override this.\n"
     ]
    },
    {
     "name": "stdout",
     "output_type": "stream",
     "text": [
      "['20810', '20100']\n",
      "['21200', '20320']\n"
     ]
    },
    {
     "name": "stderr",
     "output_type": "stream",
     "text": [
      "INFO:fbprophet:Disabling weekly seasonality. Run prophet with weekly_seasonality=True to override this.\n",
      "INFO:fbprophet:Disabling daily seasonality. Run prophet with daily_seasonality=True to override this.\n",
      "INFO:fbprophet:n_changepoints greater than number of observations. Using 11.\n"
     ]
    },
    {
     "name": "stdout",
     "output_type": "stream",
     "text": [
      "['24100', '30100']\n"
     ]
    },
    {
     "name": "stderr",
     "output_type": "stream",
     "text": [
      "INFO:fbprophet:Disabling weekly seasonality. Run prophet with weekly_seasonality=True to override this.\n",
      "INFO:fbprophet:Disabling daily seasonality. Run prophet with daily_seasonality=True to override this.\n",
      "INFO:fbprophet:n_changepoints greater than number of observations. Using 24.\n"
     ]
    },
    {
     "name": "stdout",
     "output_type": "stream",
     "text": [
      "['28100', '21200']\n"
     ]
    },
    {
     "name": "stderr",
     "output_type": "stream",
     "text": [
      "INFO:fbprophet:Disabling weekly seasonality. Run prophet with weekly_seasonality=True to override this.\n",
      "INFO:fbprophet:Disabling daily seasonality. Run prophet with daily_seasonality=True to override this.\n",
      "INFO:fbprophet:n_changepoints greater than number of observations. Using 6.\n"
     ]
    },
    {
     "name": "stdout",
     "output_type": "stream",
     "text": [
      "['30100', '33870']\n"
     ]
    },
    {
     "name": "stderr",
     "output_type": "stream",
     "text": [
      "INFO:fbprophet:Disabling weekly seasonality. Run prophet with weekly_seasonality=True to override this.\n",
      "INFO:fbprophet:Disabling daily seasonality. Run prophet with daily_seasonality=True to override this.\n",
      "INFO:fbprophet:n_changepoints greater than number of observations. Using 15.\n"
     ]
    },
    {
     "name": "stdout",
     "output_type": "stream",
     "text": [
      "['33200', '33230']\n"
     ]
    },
    {
     "name": "stderr",
     "output_type": "stream",
     "text": [
      "INFO:fbprophet:Disabling weekly seasonality. Run prophet with weekly_seasonality=True to override this.\n",
      "INFO:fbprophet:Disabling daily seasonality. Run prophet with daily_seasonality=True to override this.\n"
     ]
    },
    {
     "name": "stdout",
     "output_type": "stream",
     "text": [
      "['33230', '33200']\n"
     ]
    },
    {
     "name": "stderr",
     "output_type": "stream",
     "text": [
      "INFO:fbprophet:Disabling weekly seasonality. Run prophet with weekly_seasonality=True to override this.\n",
      "INFO:fbprophet:Disabling daily seasonality. Run prophet with daily_seasonality=True to override this.\n",
      "INFO:fbprophet:n_changepoints greater than number of observations. Using 13.\n"
     ]
    },
    {
     "name": "stdout",
     "output_type": "stream",
     "text": [
      "['33270', '33400']\n",
      "['33400', '33270']\n"
     ]
    },
    {
     "name": "stderr",
     "output_type": "stream",
     "text": [
      "INFO:fbprophet:Disabling weekly seasonality. Run prophet with weekly_seasonality=True to override this.\n",
      "INFO:fbprophet:Disabling daily seasonality. Run prophet with daily_seasonality=True to override this.\n",
      "INFO:fbprophet:n_changepoints greater than number of observations. Using 10.\n"
     ]
    },
    {
     "name": "stdout",
     "output_type": "stream",
     "text": [
      "['33500', '33540']\n"
     ]
    },
    {
     "name": "stderr",
     "output_type": "stream",
     "text": [
      "INFO:fbprophet:Disabling weekly seasonality. Run prophet with weekly_seasonality=True to override this.\n",
      "INFO:fbprophet:Disabling daily seasonality. Run prophet with daily_seasonality=True to override this.\n",
      "INFO:fbprophet:n_changepoints greater than number of observations. Using 11.\n"
     ]
    },
    {
     "name": "stdout",
     "output_type": "stream",
     "text": [
      "['33540', '33500']\n"
     ]
    },
    {
     "name": "stderr",
     "output_type": "stream",
     "text": [
      "INFO:fbprophet:Disabling weekly seasonality. Run prophet with weekly_seasonality=True to override this.\n",
      "INFO:fbprophet:Disabling daily seasonality. Run prophet with daily_seasonality=True to override this.\n"
     ]
    },
    {
     "name": "stdout",
     "output_type": "stream",
     "text": [
      "['33560', '33720']\n"
     ]
    },
    {
     "name": "stderr",
     "output_type": "stream",
     "text": [
      "INFO:fbprophet:Disabling weekly seasonality. Run prophet with weekly_seasonality=True to override this.\n",
      "INFO:fbprophet:Disabling daily seasonality. Run prophet with daily_seasonality=True to override this.\n",
      "INFO:fbprophet:n_changepoints greater than number of observations. Using 12.\n"
     ]
    },
    {
     "name": "stdout",
     "output_type": "stream",
     "text": [
      "['33580', '33560']\n"
     ]
    },
    {
     "name": "stderr",
     "output_type": "stream",
     "text": [
      "INFO:fbprophet:Disabling weekly seasonality. Run prophet with weekly_seasonality=True to override this.\n",
      "INFO:fbprophet:Disabling daily seasonality. Run prophet with daily_seasonality=True to override this.\n",
      "INFO:fbprophet:n_changepoints greater than number of observations. Using 6.\n"
     ]
    },
    {
     "name": "stdout",
     "output_type": "stream",
     "text": [
      "['33720', '33870']\n"
     ]
    },
    {
     "name": "stderr",
     "output_type": "stream",
     "text": [
      "INFO:fbprophet:Disabling weekly seasonality. Run prophet with weekly_seasonality=True to override this.\n",
      "INFO:fbprophet:Disabling daily seasonality. Run prophet with daily_seasonality=True to override this.\n"
     ]
    },
    {
     "name": "stdout",
     "output_type": "stream",
     "text": [
      "['33870', '33720']\n"
     ]
    },
    {
     "name": "stderr",
     "output_type": "stream",
     "text": [
      "INFO:fbprophet:Disabling weekly seasonality. Run prophet with weekly_seasonality=True to override this.\n",
      "INFO:fbprophet:Disabling daily seasonality. Run prophet with daily_seasonality=True to override this.\n"
     ]
    },
    {
     "name": "stdout",
     "output_type": "stream",
     "text": [
      "['33900', '33200']\n"
     ]
    },
    {
     "name": "stderr",
     "output_type": "stream",
     "text": [
      "INFO:fbprophet:Disabling weekly seasonality. Run prophet with weekly_seasonality=True to override this.\n",
      "INFO:fbprophet:Disabling daily seasonality. Run prophet with daily_seasonality=True to override this.\n",
      "INFO:fbprophet:n_changepoints greater than number of observations. Using 3.\n"
     ]
    },
    {
     "name": "stdout",
     "output_type": "stream",
     "text": [
      "['36200', '33580']\n"
     ]
    },
    {
     "name": "stderr",
     "output_type": "stream",
     "text": [
      "INFO:fbprophet:Disabling weekly seasonality. Run prophet with weekly_seasonality=True to override this.\n",
      "INFO:fbprophet:Disabling daily seasonality. Run prophet with daily_seasonality=True to override this.\n",
      "INFO:fbprophet:n_changepoints greater than number of observations. Using 1.\n"
     ]
    },
    {
     "name": "stdout",
     "output_type": "stream",
     "text": [
      "['39500', '33400']\n",
      "['40100', '15210']\n"
     ]
    },
    {
     "name": "stderr",
     "output_type": "stream",
     "text": [
      "INFO:fbprophet:Disabling weekly seasonality. Run prophet with weekly_seasonality=True to override this.\n",
      "INFO:fbprophet:Disabling daily seasonality. Run prophet with daily_seasonality=True to override this.\n",
      "INFO:fbprophet:n_changepoints greater than number of observations. Using 0.\n"
     ]
    },
    {
     "name": "stdout",
     "output_type": "stream",
     "text": [
      "['45100', '45150']\n"
     ]
    },
    {
     "name": "stderr",
     "output_type": "stream",
     "text": [
      "INFO:fbprophet:Disabling weekly seasonality. Run prophet with weekly_seasonality=True to override this.\n",
      "INFO:fbprophet:Disabling daily seasonality. Run prophet with daily_seasonality=True to override this.\n",
      "INFO:fbprophet:n_changepoints greater than number of observations. Using 15.\n"
     ]
    },
    {
     "name": "stdout",
     "output_type": "stream",
     "text": [
      "['45150', '45100']\n"
     ]
    },
    {
     "name": "stderr",
     "output_type": "stream",
     "text": [
      "INFO:fbprophet:Disabling weekly seasonality. Run prophet with weekly_seasonality=True to override this.\n",
      "INFO:fbprophet:Disabling daily seasonality. Run prophet with daily_seasonality=True to override this.\n",
      "INFO:fbprophet:n_changepoints greater than number of observations. Using 0.\n"
     ]
    },
    {
     "name": "stdout",
     "output_type": "stream",
     "text": [
      "['48100', '45150']\n"
     ]
    },
    {
     "name": "stderr",
     "output_type": "stream",
     "text": [
      "INFO:fbprophet:Disabling weekly seasonality. Run prophet with weekly_seasonality=True to override this.\n",
      "INFO:fbprophet:Disabling daily seasonality. Run prophet with daily_seasonality=True to override this.\n",
      "INFO:fbprophet:n_changepoints greater than number of observations. Using 15.\n"
     ]
    },
    {
     "name": "stdout",
     "output_type": "stream",
     "text": [
      "['50100', '45100']\n"
     ]
    },
    {
     "name": "stderr",
     "output_type": "stream",
     "text": [
      "INFO:fbprophet:Disabling weekly seasonality. Run prophet with weekly_seasonality=True to override this.\n",
      "INFO:fbprophet:Disabling daily seasonality. Run prophet with daily_seasonality=True to override this.\n",
      "INFO:fbprophet:n_changepoints greater than number of observations. Using 19.\n"
     ]
    },
    {
     "name": "stdout",
     "output_type": "stream",
     "text": [
      "['57100', '80100']\n"
     ]
    },
    {
     "name": "stderr",
     "output_type": "stream",
     "text": [
      "INFO:fbprophet:Disabling weekly seasonality. Run prophet with weekly_seasonality=True to override this.\n",
      "INFO:fbprophet:Disabling daily seasonality. Run prophet with daily_seasonality=True to override this.\n",
      "INFO:fbprophet:n_changepoints greater than number of observations. Using 6.\n"
     ]
    },
    {
     "name": "stdout",
     "output_type": "stream",
     "text": [
      "['65200', '28100']\n"
     ]
    },
    {
     "name": "stderr",
     "output_type": "stream",
     "text": [
      "INFO:fbprophet:Disabling weekly seasonality. Run prophet with weekly_seasonality=True to override this.\n",
      "INFO:fbprophet:Disabling daily seasonality. Run prophet with daily_seasonality=True to override this.\n",
      "INFO:fbprophet:n_changepoints greater than number of observations. Using 23.\n"
     ]
    },
    {
     "name": "stdout",
     "output_type": "stream",
     "text": [
      "['74100', '50100']\n"
     ]
    },
    {
     "name": "stderr",
     "output_type": "stream",
     "text": [
      "INFO:fbprophet:Disabling weekly seasonality. Run prophet with weekly_seasonality=True to override this.\n",
      "INFO:fbprophet:Disabling daily seasonality. Run prophet with daily_seasonality=True to override this.\n",
      "INFO:fbprophet:n_changepoints greater than number of observations. Using 5.\n"
     ]
    },
    {
     "name": "stdout",
     "output_type": "stream",
     "text": [
      "['80100', '57100']\n"
     ]
    },
    {
     "name": "stderr",
     "output_type": "stream",
     "text": [
      "INFO:fbprophet:Disabling weekly seasonality. Run prophet with weekly_seasonality=True to override this.\n",
      "INFO:fbprophet:Disabling daily seasonality. Run prophet with daily_seasonality=True to override this.\n",
      "INFO:fbprophet:n_changepoints greater than number of observations. Using 0.\n"
     ]
    },
    {
     "name": "stdout",
     "output_type": "stream",
     "text": [
      "['90100', '90570']\n"
     ]
    },
    {
     "name": "stderr",
     "output_type": "stream",
     "text": [
      "INFO:fbprophet:Disabling weekly seasonality. Run prophet with weekly_seasonality=True to override this.\n",
      "INFO:fbprophet:Disabling daily seasonality. Run prophet with daily_seasonality=True to override this.\n",
      "INFO:fbprophet:n_changepoints greater than number of observations. Using 21.\n"
     ]
    },
    {
     "name": "stdout",
     "output_type": "stream",
     "text": [
      "['90570', '90100']\n"
     ]
    },
    {
     "name": "stderr",
     "output_type": "stream",
     "text": [
      "INFO:fbprophet:Disabling weekly seasonality. Run prophet with weekly_seasonality=True to override this.\n",
      "INFO:fbprophet:Disabling daily seasonality. Run prophet with daily_seasonality=True to override this.\n",
      "INFO:fbprophet:n_changepoints greater than number of observations. Using 0.\n"
     ]
    },
    {
     "name": "stdout",
     "output_type": "stream",
     "text": [
      "['94100', '90570']\n"
     ]
    },
    {
     "name": "stderr",
     "output_type": "stream",
     "text": [
      "INFO:fbprophet:Disabling weekly seasonality. Run prophet with weekly_seasonality=True to override this.\n",
      "INFO:fbprophet:Disabling daily seasonality. Run prophet with daily_seasonality=True to override this.\n",
      "INFO:fbprophet:n_changepoints greater than number of observations. Using 12.\n"
     ]
    },
    {
     "name": "stdout",
     "output_type": "stream",
     "text": [
      "['96300', '94100']\n"
     ]
    }
   ],
   "source": [
    "mae_values = []\n",
    "rmse_values = []\n",
    "for pan in pc_and_npc:\n",
    "    print(pan)\n",
    "    mae, rmse = test_nearest_postal_code(prop_df, pan[0], pan[1])\n",
    "    mae_values.append(mae)\n",
    "    rmse_values.append(rmse)"
   ]
  },
  {
   "cell_type": "code",
   "execution_count": 130,
   "id": "5ba14355",
   "metadata": {},
   "outputs": [
    {
     "name": "stdout",
     "output_type": "stream",
     "text": [
      "Average MAE: 1650.188\n",
      "Average RMSE: 1650.188\n"
     ]
    },
    {
     "data": {
      "image/png": "[encoded data removed]",
      "text/plain": [
       "<Figure size 1080x720 with 2 Axes>"
      ]
     },
     "metadata": {
      "needs_background": "light"
     },
     "output_type": "display_data"
    }
   ],
   "source": [
    "postal_codes = [p[0] for p in pc_and_npc]\n",
    "data = pd.DataFrame({\"postal code\":postal_codes, \"rmse\":rmse_values, \"mae\":mae_values })\n",
    "show_results(data, mae_values, rmse_values)"
   ]
  },
  {
   "cell_type": "markdown",
   "id": "3ad881cd",
   "metadata": {},
   "source": [
    "#### Lets compare our results with randomly trained models\n"
   ]
  }
 ],
 "metadata": {
  "kernelspec": {
   "display_name": "Python 3 (ipykernel)",
   "language": "python",
   "name": "python3"
  },
  "language_info": {
   "codemirror_mode": {
    "name": "ipython",
    "version": 3
   },
   "file_extension": ".py",
   "mimetype": "text/x-python",
   "name": "python",
   "nbconvert_exporter": "python",
   "pygments_lexer": "ipython3",
   "version": "3.8.8"
  }
 },
 "nbformat": 4,
 "nbformat_minor": 5
}
