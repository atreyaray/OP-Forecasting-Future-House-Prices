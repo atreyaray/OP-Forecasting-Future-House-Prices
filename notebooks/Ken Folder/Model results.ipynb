{
 "cells": [
  {
   "cell_type": "code",
   "execution_count": 18,
   "id": "380ff992",
   "metadata": {},
   "outputs": [],
   "source": [
    "import pandas as pd\n",
    "\n",
    "types_dict = {\"postal code\": str, \"rmse\": float, \"mae\": float, \"mpe\": float, \"parameter\": float}\n",
    "\n",
    "one_room = pd.read_csv(\"parameter_tuning_results/one-room-parameter-tuning-results.csv\", index_col=[0], dtype=types_dict)\n",
    "two_room = pd.read_csv(\"parameter_tuning_results/two-room-parameter-tuning-results.csv\", index_col=[0], dtype=types_dict)\n",
    "three_more_room = pd.read_csv(\"parameter_tuning_results/three_more-room-tuning-results.csv\", index_col=[0], dtype=types_dict)\n",
    "terrace_houses = pd.read_csv(\"parameter_tuning_results/terrace-parameter-tuning-results.csv\", index_col=[0], dtype=types_dict)"
   ]
  },
  {
   "cell_type": "code",
   "execution_count": 19,
   "id": "e2456bdb",
   "metadata": {},
   "outputs": [
    {
     "data": {
      "text/html": [
       "<div>\n",
       "<style scoped>\n",
       "    .dataframe tbody tr th:only-of-type {\n",
       "        vertical-align: middle;\n",
       "    }\n",
       "\n",
       "    .dataframe tbody tr th {\n",
       "        vertical-align: top;\n",
       "    }\n",
       "\n",
       "    .dataframe thead th {\n",
       "        text-align: right;\n",
       "    }\n",
       "</style>\n",
       "<table border=\"1\" class=\"dataframe\">\n",
       "  <thead>\n",
       "    <tr style=\"text-align: right;\">\n",
       "      <th></th>\n",
       "      <th>postal code</th>\n",
       "      <th>rmse</th>\n",
       "      <th>mae</th>\n",
       "      <th>mpe</th>\n",
       "      <th>parameter</th>\n",
       "    </tr>\n",
       "  </thead>\n",
       "  <tbody>\n",
       "    <tr>\n",
       "      <th>0</th>\n",
       "      <td>00100</td>\n",
       "      <td>957.562990</td>\n",
       "      <td>769.826597</td>\n",
       "      <td>0.089937</td>\n",
       "      <td>0.100</td>\n",
       "    </tr>\n",
       "    <tr>\n",
       "      <th>1</th>\n",
       "      <td>00120</td>\n",
       "      <td>128.818695</td>\n",
       "      <td>128.818695</td>\n",
       "      <td>0.014106</td>\n",
       "      <td>0.100</td>\n",
       "    </tr>\n",
       "    <tr>\n",
       "      <th>2</th>\n",
       "      <td>00140</td>\n",
       "      <td>63.859369</td>\n",
       "      <td>50.898271</td>\n",
       "      <td>0.005548</td>\n",
       "      <td>0.001</td>\n",
       "    </tr>\n",
       "    <tr>\n",
       "      <th>3</th>\n",
       "      <td>00150</td>\n",
       "      <td>580.522151</td>\n",
       "      <td>530.418388</td>\n",
       "      <td>0.057463</td>\n",
       "      <td>0.001</td>\n",
       "    </tr>\n",
       "    <tr>\n",
       "      <th>4</th>\n",
       "      <td>00170</td>\n",
       "      <td>561.856938</td>\n",
       "      <td>422.115598</td>\n",
       "      <td>0.047666</td>\n",
       "      <td>0.010</td>\n",
       "    </tr>\n",
       "  </tbody>\n",
       "</table>\n",
       "</div>"
      ],
      "text/plain": [
       "  postal code        rmse         mae       mpe  parameter\n",
       "0       00100  957.562990  769.826597  0.089937      0.100\n",
       "1       00120  128.818695  128.818695  0.014106      0.100\n",
       "2       00140   63.859369   50.898271  0.005548      0.001\n",
       "3       00150  580.522151  530.418388  0.057463      0.001\n",
       "4       00170  561.856938  422.115598  0.047666      0.010"
      ]
     },
     "execution_count": 19,
     "metadata": {},
     "output_type": "execute_result"
    }
   ],
   "source": [
    "one_room.head()"
   ]
  },
  {
   "cell_type": "code",
   "execution_count": null,
   "id": "d1b071b4",
   "metadata": {},
   "outputs": [],
   "source": [
    "import statistics\n",
    "\n",
    "#plot_data = pd.DataFrame({\"postal code\": postal_codes_having_last_4_quarters, \"rmse\":rmse_list, \"mae\":mae_list, \"mpe\": mpe_list })\n",
    "\n",
    "def show_results(data, mae_values, rmse_values, mpe_values,postal_code=\"postal code\"):\n",
    "    avg_rmse = statistics.mean(rmse_values)\n",
    "    avg_mae = statistics.mean(mae_values)\n",
    "    avg_mpe = statistics.mean(mpe_values)\n",
    "    med_rmse = statistics.median(rmse_values)\n",
    "    med_mae = statistics.median(mae_values)\n",
    "    med_mpe = statistics.median(mpe_values)\n",
    "    fig = data.plot.bar(x=postal_code, subplots=True, figsize=(200,100))\n",
    "    plt.rcParams.update({'font.size': 22})\n",
    "    print('Average MAE: %.3f' % avg_mae)\n",
    "    #print('Average RMSE: %.3f' % avg_rmse)\n",
    "    print('Average MPE: %.3f' % avg_mpe)\n",
    "    print('Median MAE: %.3f' % med_mae)\n",
    "    #print('Median RMSE: %.3f' % med_rmse)\n",
    "    print('Median MPE: %.3f' % med_mpe)\n",
    "    data.describe()\n",
    "    \n",
    "\"\"\"show_results(plot_data, mae_list, rmse_list, mpe_list)\n",
    "print(len(rmse_list))\"\"\""
   ]
  }
 ],
 "metadata": {
  "kernelspec": {
   "display_name": "Python 3 (ipykernel)",
   "language": "python",
   "name": "python3"
  },
  "language_info": {
   "codemirror_mode": {
    "name": "ipython",
    "version": 3
   },
   "file_extension": ".py",
   "mimetype": "text/x-python",
   "name": "python",
   "nbconvert_exporter": "python",
   "pygments_lexer": "ipython3",
   "version": "3.8.8"
  }
 },
 "nbformat": 4,
 "nbformat_minor": 5
}
