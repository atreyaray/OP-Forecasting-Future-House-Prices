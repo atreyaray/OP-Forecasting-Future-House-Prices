{
 "cells": [
  {
   "cell_type": "code",
   "execution_count": 47,
   "id": "3b88139c",
   "metadata": {},
   "outputs": [
    {
     "data": {
      "text/plain": [
       "{'pred': {'00100': 8537.5521883634,\n",
       "  '00120': 9094.4523680787,\n",
       "  '00140': 9542.8825087885,\n",
       "  '00150': 9198.703993317,\n",
       "  '00170': 8846.9881466981,\n",
       "  '00180': 8958.4133469256,\n",
       "  '00250': 8088.8675357646,\n",
       "  '00260': 8420.8440231668,\n",
       "  '00270': 8070.2366431916,\n",
       "  '00400': 6189.8846367181,\n",
       "  '00500': 7701.4041648712,\n",
       "  '00510': 7528.2773485324,\n",
       "  '00520': 6868.4608875217,\n",
       "  '00530': 7744.5571810824,\n",
       "  '01300': 4883.8343822763,\n",
       "  '02230': 4858.7096171834,\n",
       "  '02320': 4029.2081525481,\n",
       "  '04400': 3410.4564790162,\n",
       "  '06100': 3449.0706185814,\n",
       "  '13100': 2264.934379578,\n",
       "  '20100': 4458.8228157729,\n",
       "  '20320': 2424.8111599747,\n",
       "  '20810': 4446.3078425352,\n",
       "  '21200': 2200.6535479177,\n",
       "  '24100': 1572.084303705,\n",
       "  '26100': 1652.9638086459,\n",
       "  '33200': 4772.8330003427,\n",
       "  '33710': 2909.6278032761,\n",
       "  '33720': 2616.1237397188,\n",
       "  '40100': 3508.9812678966,\n",
       "  '48100': 1560.1931289807,\n",
       "  '50100': 2326.1130713127,\n",
       "  '90100': 3309.110740905,\n",
       "  '90120': 2946.7801419558,\n",
       "  '90500': 2449.6644854793},\n",
       " 'latitude': {'00100': 60.1714,\n",
       "  '00120': 60.1632,\n",
       "  '00140': 60.1578,\n",
       "  '00150': 60.157,\n",
       "  '00170': 60.1728,\n",
       "  '00180': 60.1634,\n",
       "  '00250': 60.1873,\n",
       "  '00260': 60.1794,\n",
       "  '00270': 60.1942,\n",
       "  '00400': 60.2265,\n",
       "  '00500': 60.1873,\n",
       "  '00510': 60.1918,\n",
       "  '00520': 60.1983,\n",
       "  '00530': 60.1826,\n",
       "  '01300': 60.2949,\n",
       "  '02230': 60.1525,\n",
       "  '02320': 60.1466,\n",
       "  '04400': 60.4704,\n",
       "  '06100': 60.3973,\n",
       "  '13100': 60.9876,\n",
       "  '20100': 60.4449,\n",
       "  '20320': 60.4761,\n",
       "  '20810': 60.4347,\n",
       "  '21200': 60.4852,\n",
       "  '24100': 60.3839,\n",
       "  '26100': 61.1343,\n",
       "  '33200': 61.4947,\n",
       "  '33710': 61.4678,\n",
       "  '33720': 61.4471,\n",
       "  '40100': 62.2427,\n",
       "  '48100': 60.4181,\n",
       "  '50100': 61.7037,\n",
       "  '90100': 65.0121,\n",
       "  '90120': 65.0043,\n",
       "  '90500': 65.0259},\n",
       " 'longitude': {'00100': 24.9316,\n",
       "  '00120': 24.9391,\n",
       "  '00140': 24.9525,\n",
       "  '00150': 24.9369,\n",
       "  '00170': 24.9554,\n",
       "  '00180': 24.919,\n",
       "  '00250': 24.9127,\n",
       "  '00260': 24.9226,\n",
       "  '00270': 24.9007,\n",
       "  '00400': 24.8978,\n",
       "  '00500': 24.9601,\n",
       "  '00510': 24.9498,\n",
       "  '00520': 24.9416,\n",
       "  '00530': 24.9505,\n",
       "  '01300': 25.0223,\n",
       "  '02230': 24.7465,\n",
       "  '02320': 24.6458,\n",
       "  '04400': 25.0776,\n",
       "  '06100': 25.6617,\n",
       "  '13100': 24.4531,\n",
       "  '20100': 22.2261,\n",
       "  '20320': 22.2318,\n",
       "  '20810': 22.2562,\n",
       "  '21200': 22.1538,\n",
       "  '24100': 23.1424,\n",
       "  '26100': 21.5026,\n",
       "  '33200': 23.7523,\n",
       "  '33710': 23.877,\n",
       "  '33720': 23.8565,\n",
       "  '40100': 25.7517,\n",
       "  '48100': 27.0224,\n",
       "  '50100': 27.2543,\n",
       "  '90100': 25.4722,\n",
       "  '90120': 25.4554,\n",
       "  '90500': 25.4786}}"
      ]
     },
     "execution_count": 47,
     "metadata": {},
     "output_type": "execute_result"
    }
   ],
   "source": [
    "import json\n",
    "import pgeocode\n",
    "import numpy as np\n",
    "\n",
    "\n",
    "def get_json_for_housing_type(housing_type):\n",
    "    json_dict = {\"one-room\": \"one_room_predictions-Prophet.json\",\n",
    "                   \"two-room\": \"two_room_predictions-Prophet.json\",\n",
    "                   \"three or more room\": \"three_room_predictions-Prophet.json\",\n",
    "                   \"terrace house\": \"terraced_houses_predictions-Prophet.json\"}\n",
    "    json_file_path = \"json_prediction/{}\".format(json_dict[housing_type])\n",
    "    \n",
    "    with open(json_file_path, 'r') as j:\n",
    "        contents = json.loads(j.read())\n",
    "    return contents\n",
    "\n",
    "json_preds = get_json_for_housing_type(\"one-room\")\n",
    "json_preds"
   ]
  },
  {
   "cell_type": "code",
   "execution_count": 61,
   "id": "9238b331",
   "metadata": {},
   "outputs": [
    {
     "name": "stderr",
     "output_type": "stream",
     "text": [
      "/var/folders/by/przz2wk900jdt2rj4vhw770h0000gn/T/ipykernel_8395/3528627072.py:8: DeprecationWarning: `np.float` is a deprecated alias for the builtin `float`. To silence this warning, use `float` by itself. Doing this will not modify any behavior and is safe. If you specifically wanted the numpy scalar type, use `np.float64` here.\n",
      "Deprecated in NumPy 1.20; for more details and guidance: https://numpy.org/devdocs/release/1.20.0-notes.html#deprecations\n",
      "  min_distance = np.float(\"inf\")\n"
     ]
    },
    {
     "data": {
      "text/plain": [
       "'02320'"
      ]
     },
     "execution_count": 61,
     "metadata": {},
     "output_type": "execute_result"
    }
   ],
   "source": [
    "def find_nearest_postal_code(postal_code, json):\n",
    "    nomi = pgeocode.Nominatim('fi')\n",
    "    location = nomi.query_postal_code([postal_code])\n",
    "    latitude, longitude = location.latitude, location.longitude\n",
    "    json_latitude, json_longitude = json[\"latitude\"], json[\"longitude\"]\n",
    "    \n",
    "    nearest_postal_code =  \"00100\"\n",
    "    min_distance = np.float(\"inf\")\n",
    "    for pc in json_latitude.keys():\n",
    "        distance = min_euclidean_distance(latitude, longitude, json_latitude[pc], json_longitude[pc])\n",
    "        if distance < min_distance:\n",
    "            min_distance = distance\n",
    "            nearest_postal_code = pc\n",
    "    \n",
    "    return nearest_postal_code\n",
    "\n",
    "find_nearest_postal_code(\"02260\", json_preds)"
   ]
  },
  {
   "cell_type": "code",
   "execution_count": 59,
   "id": "95ad2b2b",
   "metadata": {},
   "outputs": [],
   "source": [
    "def min_euclidean_distance(pc_latitude, pc_longitude, candidate_latitude, candidate_longitude):\n",
    "    distance = np.square( candidate_latitude - pc_latitude)  + np.square( candidate_longitude - pc_longitude) \n",
    "    return distance[0]"
   ]
  },
  {
   "cell_type": "code",
   "execution_count": null,
   "id": "d75d5954",
   "metadata": {},
   "outputs": [],
   "source": []
  }
 ],
 "metadata": {
  "kernelspec": {
   "display_name": "Python 3 (ipykernel)",
   "language": "python",
   "name": "python3"
  },
  "language_info": {
   "codemirror_mode": {
    "name": "ipython",
    "version": 3
   },
   "file_extension": ".py",
   "mimetype": "text/x-python",
   "name": "python",
   "nbconvert_exporter": "python",
   "pygments_lexer": "ipython3",
   "version": "3.8.8"
  }
 },
 "nbformat": 4,
 "nbformat_minor": 5
}
